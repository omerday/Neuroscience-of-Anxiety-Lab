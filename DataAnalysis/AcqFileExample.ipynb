{
 "cells": [
  {
   "cell_type": "code",
   "execution_count": 1,
   "id": "initial_id",
   "metadata": {
    "collapsed": true,
    "ExecuteTime": {
     "end_time": "2024-05-02T07:51:01.397497Z",
     "start_time": "2024-05-02T07:50:56.912376Z"
    }
   },
   "outputs": [],
   "source": [
    "import pandas\n",
    "import bioread\n",
    "\n",
    "acq_file = bioread.read(\"107_15.2.24 (NPU_template).acq\")"
   ]
  },
  {
   "cell_type": "code",
   "outputs": [
    {
     "data": {
      "text/plain": "[Channel EDA - EDA100C: 10974913 samples, 2000.0 samples/sec, loaded: True,\n Channel ECG - ECG100C: 10974913 samples, 2000.0 samples/sec, loaded: True,\n Channel EMG - EMG100C: 10974913 samples, 2000.0 samples/sec, loaded: True,\n Channel Stim current - CBLCFMA - Current Feedba: 10974913 samples, 2000.0 samples/sec, loaded: True,\n Channel Digital (STP Input 0): 10974913 samples, 2000.0 samples/sec, loaded: True,\n Channel Digital (STP Input 1): 10974913 samples, 2000.0 samples/sec, loaded: True,\n Channel Digital (STP Input 2): 10974913 samples, 2000.0 samples/sec, loaded: True,\n Channel Digital (STP Input 3): 10974913 samples, 2000.0 samples/sec, loaded: True,\n Channel Digital (STP Input 4): 10974913 samples, 2000.0 samples/sec, loaded: True,\n Channel Digital (STP Input 5): 10974913 samples, 2000.0 samples/sec, loaded: True,\n Channel Digital (STP Input 6): 10974913 samples, 2000.0 samples/sec, loaded: True,\n Channel Digital (STP Input 7): 10974913 samples, 2000.0 samples/sec, loaded: True,\n Channel Heart Rate: 10974913 samples, 2000.0 samples/sec, loaded: True,\n Channel C5 - Expression: 10974913 samples, 2000.0 samples/sec, loaded: True]"
     },
     "execution_count": 2,
     "metadata": {},
     "output_type": "execute_result"
    }
   ],
   "source": [
    "acq_file.channels"
   ],
   "metadata": {
    "collapsed": false,
    "ExecuteTime": {
     "end_time": "2024-05-02T07:51:01.402085Z",
     "start_time": "2024-05-02T07:51:01.398761Z"
    }
   },
   "id": "ea48d987f20d548d",
   "execution_count": 2
  },
  {
   "cell_type": "code",
   "outputs": [
    {
     "data": {
      "text/plain": "array([0., 0., 0., ..., 0., 0., 0.])"
     },
     "execution_count": 6,
     "metadata": {},
     "output_type": "execute_result"
    }
   ],
   "source": [
    "acq_file.channels[-1].data"
   ],
   "metadata": {
    "collapsed": false,
    "ExecuteTime": {
     "end_time": "2024-05-02T07:56:03.949474Z",
     "start_time": "2024-05-02T07:56:03.944510Z"
    }
   },
   "id": "702b11e2db586bf",
   "execution_count": 6
  },
  {
   "cell_type": "code",
   "outputs": [
    {
     "data": {
      "text/plain": "               ECG  Events\n0         0.000610     0.0\n1         0.000610     0.0\n2         0.000610     0.0\n3         0.000153     0.0\n4         0.000305     0.0\n...            ...     ...\n10974908  0.035248     0.0\n10974909  0.033417     0.0\n10974910  0.030670     0.0\n10974911  0.027466     0.0\n10974912  0.024414     0.0\n\n[10974913 rows x 2 columns]",
      "text/html": "<div>\n<style scoped>\n    .dataframe tbody tr th:only-of-type {\n        vertical-align: middle;\n    }\n\n    .dataframe tbody tr th {\n        vertical-align: top;\n    }\n\n    .dataframe thead th {\n        text-align: right;\n    }\n</style>\n<table border=\"1\" class=\"dataframe\">\n  <thead>\n    <tr style=\"text-align: right;\">\n      <th></th>\n      <th>ECG</th>\n      <th>Events</th>\n    </tr>\n  </thead>\n  <tbody>\n    <tr>\n      <th>0</th>\n      <td>0.000610</td>\n      <td>0.0</td>\n    </tr>\n    <tr>\n      <th>1</th>\n      <td>0.000610</td>\n      <td>0.0</td>\n    </tr>\n    <tr>\n      <th>2</th>\n      <td>0.000610</td>\n      <td>0.0</td>\n    </tr>\n    <tr>\n      <th>3</th>\n      <td>0.000153</td>\n      <td>0.0</td>\n    </tr>\n    <tr>\n      <th>4</th>\n      <td>0.000305</td>\n      <td>0.0</td>\n    </tr>\n    <tr>\n      <th>...</th>\n      <td>...</td>\n      <td>...</td>\n    </tr>\n    <tr>\n      <th>10974908</th>\n      <td>0.035248</td>\n      <td>0.0</td>\n    </tr>\n    <tr>\n      <th>10974909</th>\n      <td>0.033417</td>\n      <td>0.0</td>\n    </tr>\n    <tr>\n      <th>10974910</th>\n      <td>0.030670</td>\n      <td>0.0</td>\n    </tr>\n    <tr>\n      <th>10974911</th>\n      <td>0.027466</td>\n      <td>0.0</td>\n    </tr>\n    <tr>\n      <th>10974912</th>\n      <td>0.024414</td>\n      <td>0.0</td>\n    </tr>\n  </tbody>\n</table>\n<p>10974913 rows × 2 columns</p>\n</div>"
     },
     "execution_count": 7,
     "metadata": {},
     "output_type": "execute_result"
    }
   ],
   "source": [
    "df = pandas.DataFrame()\n",
    "df[\"ECG\"] = acq_file.channels[1].data\n",
    "df[\"Events\"] = acq_file.channels[-1].data\n",
    "df"
   ],
   "metadata": {
    "collapsed": false,
    "ExecuteTime": {
     "end_time": "2024-05-02T08:02:38.484454Z",
     "start_time": "2024-05-02T08:02:38.300193Z"
    }
   },
   "id": "564284eea0a506d4",
   "execution_count": 7
  },
  {
   "cell_type": "code",
   "outputs": [
    {
     "data": {
      "text/plain": "              ECG  Events\n4007444 -0.094757   255.0\n4007445 -0.096283   255.0\n4007446 -0.097198   255.0\n4007447 -0.098572   255.0\n4007448 -0.099945   255.0\n...           ...     ...\n9896219 -0.066071   231.0\n9896220 -0.065002   231.0\n9896221 -0.064087   231.0\n9896222 -0.062714   231.0\n9896223 -0.060730   231.0\n\n[22562 rows x 2 columns]",
      "text/html": "<div>\n<style scoped>\n    .dataframe tbody tr th:only-of-type {\n        vertical-align: middle;\n    }\n\n    .dataframe tbody tr th {\n        vertical-align: top;\n    }\n\n    .dataframe thead th {\n        text-align: right;\n    }\n</style>\n<table border=\"1\" class=\"dataframe\">\n  <thead>\n    <tr style=\"text-align: right;\">\n      <th></th>\n      <th>ECG</th>\n      <th>Events</th>\n    </tr>\n  </thead>\n  <tbody>\n    <tr>\n      <th>4007444</th>\n      <td>-0.094757</td>\n      <td>255.0</td>\n    </tr>\n    <tr>\n      <th>4007445</th>\n      <td>-0.096283</td>\n      <td>255.0</td>\n    </tr>\n    <tr>\n      <th>4007446</th>\n      <td>-0.097198</td>\n      <td>255.0</td>\n    </tr>\n    <tr>\n      <th>4007447</th>\n      <td>-0.098572</td>\n      <td>255.0</td>\n    </tr>\n    <tr>\n      <th>4007448</th>\n      <td>-0.099945</td>\n      <td>255.0</td>\n    </tr>\n    <tr>\n      <th>...</th>\n      <td>...</td>\n      <td>...</td>\n    </tr>\n    <tr>\n      <th>9896219</th>\n      <td>-0.066071</td>\n      <td>231.0</td>\n    </tr>\n    <tr>\n      <th>9896220</th>\n      <td>-0.065002</td>\n      <td>231.0</td>\n    </tr>\n    <tr>\n      <th>9896221</th>\n      <td>-0.064087</td>\n      <td>231.0</td>\n    </tr>\n    <tr>\n      <th>9896222</th>\n      <td>-0.062714</td>\n      <td>231.0</td>\n    </tr>\n    <tr>\n      <th>9896223</th>\n      <td>-0.060730</td>\n      <td>231.0</td>\n    </tr>\n  </tbody>\n</table>\n<p>22562 rows × 2 columns</p>\n</div>"
     },
     "execution_count": 8,
     "metadata": {},
     "output_type": "execute_result"
    }
   ],
   "source": [
    "df[df[\"Events\"] != 0]"
   ],
   "metadata": {
    "collapsed": false,
    "ExecuteTime": {
     "end_time": "2024-05-02T08:06:01.692597Z",
     "start_time": "2024-05-02T08:06:01.680089Z"
    }
   },
   "id": "ba59724068bc01a0",
   "execution_count": 8
  },
  {
   "cell_type": "code",
   "outputs": [],
   "source": [],
   "metadata": {
    "collapsed": false
   },
   "id": "d86faa8fb9b3df23"
  }
 ],
 "metadata": {
  "kernelspec": {
   "display_name": "Python 3",
   "language": "python",
   "name": "python3"
  },
  "language_info": {
   "codemirror_mode": {
    "name": "ipython",
    "version": 2
   },
   "file_extension": ".py",
   "mimetype": "text/x-python",
   "name": "python",
   "nbconvert_exporter": "python",
   "pygments_lexer": "ipython2",
   "version": "2.7.6"
  }
 },
 "nbformat": 4,
 "nbformat_minor": 5
}
