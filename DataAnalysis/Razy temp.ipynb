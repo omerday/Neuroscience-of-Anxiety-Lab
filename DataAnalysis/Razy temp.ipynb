{
 "cells": [
  {
   "cell_type": "markdown",
   "source": [],
   "metadata": {
    "collapsed": false
   },
   "id": "5195c48c53d3878a"
  },
  {
   "cell_type": "code",
   "outputs": [
    {
     "name": "stdout",
     "output_type": "stream",
     "text": [
      "         ECG - ECG100C  C5 - Expression\n",
      "0             0.000000              0.0\n",
      "1             0.000153              0.0\n",
      "2            -0.000153              0.0\n",
      "3             0.000000              0.0\n",
      "4             0.000000              0.0\n",
      "...                ...              ...\n",
      "3132788      -0.097656              0.0\n",
      "3132789      -0.100098              0.0\n",
      "3132790      -0.102539              0.0\n",
      "3132791      -0.105438              0.0\n",
      "3132792      -0.109253              0.0\n",
      "\n",
      "[3132793 rows x 2 columns]\n"
     ]
    }
   ],
   "source": [
    "import bioread\n",
    "import np\n",
    "import pandas as pd\n",
    "import heartpy as hp\n",
    "import neurokit2 as nk\n",
    "\n",
    "acq_file = bioread.read_file(r'C:\\Users\\User\\Downloads\\80_28.1.24 (NPU_template).acq')\n",
    "\n",
    "channels_to_extract = ['ECG - ECG100C', 'C5 - Expression' ]\n",
    "data = {}\n",
    "for channel_name in channels_to_extract:\n",
    "    channel = acq_file.named_channels[channel_name]\n",
    "    data[channel_name] = channel.data\n",
    "\n",
    "df = pd.DataFrame(data)\n",
    "print(df)\n"
   ],
   "metadata": {
    "collapsed": false,
    "ExecuteTime": {
     "end_time": "2024-05-21T12:39:55.646925700Z",
     "start_time": "2024-05-21T12:39:50.406419Z"
    }
   },
   "id": "8c5d0077936ee4a3",
   "execution_count": 29
  },
  {
   "cell_type": "code",
   "outputs": [],
   "source": [
    "df = df.dropna()\n",
    "df = df.reset_index(drop=True)\n"
   ],
   "metadata": {
    "collapsed": false,
    "ExecuteTime": {
     "end_time": "2024-05-21T12:39:55.738233100Z",
     "start_time": "2024-05-21T12:39:55.625011300Z"
    }
   },
   "id": "445dff91fda6be38",
   "execution_count": 30
  },
  {
   "cell_type": "code",
   "outputs": [],
   "source": [
    "non_zero_indices = df.index[df['C5 - Expression'] != 0]\n",
    "index_rows_to_change = []\n",
    "for i in range(len(non_zero_indices)-1):\n",
    "    if non_zero_indices[i+1] == non_zero_indices[i]+1:\n",
    "        index_rows_to_change.append(non_zero_indices[i])\n",
    "for index in index_rows_to_change:\n",
    "    df.loc[index, 'C5 - Expression'] = 0"
   ],
   "metadata": {
    "collapsed": false,
    "ExecuteTime": {
     "end_time": "2024-05-21T12:39:56.531249500Z",
     "start_time": "2024-05-21T12:39:55.738233100Z"
    }
   },
   "id": "2666187f86aab588",
   "execution_count": 31
  },
  {
   "cell_type": "code",
   "outputs": [
    {
     "name": "stdout",
     "output_type": "stream",
     "text": [
      "         ECG - ECG100C  C5 - Expression\n",
      "0             0.000000              0.0\n",
      "1             0.000153              0.0\n",
      "2            -0.000153              0.0\n",
      "3             0.000000              0.0\n",
      "4             0.000000              0.0\n",
      "...                ...              ...\n",
      "3132788      -0.097656              0.0\n",
      "3132789      -0.100098              0.0\n",
      "3132790      -0.102539              0.0\n",
      "3132791      -0.105438              0.0\n",
      "3132792      -0.109253              0.0\n",
      "\n",
      "[3132793 rows x 2 columns]\n"
     ]
    }
   ],
   "source": [
    "print(df)"
   ],
   "metadata": {
    "collapsed": false,
    "ExecuteTime": {
     "end_time": "2024-05-21T12:39:56.607414Z",
     "start_time": "2024-05-21T12:39:56.535081900Z"
    }
   },
   "id": "f571241d7bd2ee9e",
   "execution_count": 32
  },
  {
   "cell_type": "code",
   "outputs": [
    {
     "name": "stdout",
     "output_type": "stream",
     "text": [
      "481122    0.016327\n",
      "Name: ECG - ECG100C, dtype: float64\n"
     ]
    }
   ],
   "source": [
    "df_baseline = df['ECG - ECG100C'][df['C5 - Expression']==99]\n",
    "\n",
    "print(df_baseline)"
   ],
   "metadata": {
    "collapsed": false,
    "ExecuteTime": {
     "end_time": "2024-05-21T12:39:56.610735400Z",
     "start_time": "2024-05-21T12:39:56.565755400Z"
    }
   },
   "id": "a48361d959697e78",
   "execution_count": 33
  },
  {
   "cell_type": "code",
   "outputs": [
    {
     "name": "stdout",
     "output_type": "stream",
     "text": [
      "               0\n",
      "481122  0.016327\n",
      "481123  0.016632\n",
      "481124  0.017548\n",
      "481125  0.017548\n",
      "481126  0.018463\n",
      "...          ...\n",
      "601117 -0.069733\n",
      "601118 -0.070953\n",
      "601119 -0.071259\n",
      "601120 -0.072021\n",
      "601121 -0.072632\n",
      "\n",
      "[120000 rows x 1 columns]\n"
     ]
    }
   ],
   "source": [
    "df_baseline_minute = pd.DataFrame()\n",
    "for index in df_baseline.index:\n",
    "    df_slice = df['ECG - ECG100C'].iloc[index : index + 2000 * 60]\n",
    "    df_baseline_minute = pd.concat([df_baseline_minute, df_slice])\n",
    "print(df_baseline_minute)"
   ],
   "metadata": {
    "collapsed": false,
    "ExecuteTime": {
     "end_time": "2024-05-21T12:39:56.665739200Z",
     "start_time": "2024-05-21T12:39:56.590709500Z"
    }
   },
   "id": "7a7ef8e45d63831d",
   "execution_count": 34
  },
  {
   "cell_type": "code",
   "outputs": [
    {
     "name": "stdout",
     "output_type": "stream",
     "text": [
      "[[ 0.0163269 ]\n",
      " [ 0.01663208]\n",
      " [ 0.01754761]\n",
      " ...\n",
      " [-0.07125854]\n",
      " [-0.07202148]\n",
      " [-0.07263184]]\n"
     ]
    }
   ],
   "source": [
    "baseline_minute_array = np.array(df_baseline_minute)\n",
    "print(baseline_minute_array)"
   ],
   "metadata": {
    "collapsed": false,
    "ExecuteTime": {
     "end_time": "2024-05-21T12:40:50.508206100Z",
     "start_time": "2024-05-21T12:40:50.406393500Z"
    }
   },
   "id": "651887f3d2b85836",
   "execution_count": 39
  },
  {
   "cell_type": "code",
   "outputs": [
    {
     "ename": "ValueError",
     "evalue": "Per-column arrays must each be 1-dimensional",
     "output_type": "error",
     "traceback": [
      "\u001B[1;31m---------------------------------------------------------------------------\u001B[0m",
      "\u001B[1;31mValueError\u001B[0m                                Traceback (most recent call last)",
      "Cell \u001B[1;32mIn[38], line 1\u001B[0m\n\u001B[1;32m----> 1\u001B[0m signals \u001B[38;5;241m=\u001B[39m \u001B[43mnk\u001B[49m\u001B[38;5;241;43m.\u001B[39;49m\u001B[43mecg_process\u001B[49m\u001B[43m(\u001B[49m\u001B[43mbaseline_minute_array\u001B[49m\u001B[43m,\u001B[49m\u001B[43m \u001B[49m\u001B[38;5;241;43m2000\u001B[39;49m\u001B[43m)\u001B[49m\n\u001B[0;32m      2\u001B[0m heart_rate \u001B[38;5;241m=\u001B[39m nk\u001B[38;5;241m.\u001B[39mecg_rate(signals)\n",
      "File \u001B[1;32mc:\\users\\user\\appdata\\local\\programs\\python\\python38\\lib\\site-packages\\neurokit2\\ecg\\ecg_process.py:116\u001B[0m, in \u001B[0;36mecg_process\u001B[1;34m(ecg_signal, sampling_rate, method)\u001B[0m\n\u001B[0;32m    111\u001B[0m quality \u001B[38;5;241m=\u001B[39m ecg_quality(\n\u001B[0;32m    112\u001B[0m     ecg_cleaned, rpeaks\u001B[38;5;241m=\u001B[39minfo[\u001B[38;5;124m\"\u001B[39m\u001B[38;5;124mECG_R_Peaks\u001B[39m\u001B[38;5;124m\"\u001B[39m], sampling_rate\u001B[38;5;241m=\u001B[39msampling_rate\n\u001B[0;32m    113\u001B[0m )\n\u001B[0;32m    115\u001B[0m \u001B[38;5;66;03m# Merge signals in a DataFrame\u001B[39;00m\n\u001B[1;32m--> 116\u001B[0m signals \u001B[38;5;241m=\u001B[39m \u001B[43mpd\u001B[49m\u001B[38;5;241;43m.\u001B[39;49m\u001B[43mDataFrame\u001B[49m\u001B[43m(\u001B[49m\n\u001B[0;32m    117\u001B[0m \u001B[43m    \u001B[49m\u001B[43m{\u001B[49m\n\u001B[0;32m    118\u001B[0m \u001B[43m        \u001B[49m\u001B[38;5;124;43m\"\u001B[39;49m\u001B[38;5;124;43mECG_Raw\u001B[39;49m\u001B[38;5;124;43m\"\u001B[39;49m\u001B[43m:\u001B[49m\u001B[43m \u001B[49m\u001B[43mecg_signal\u001B[49m\u001B[43m,\u001B[49m\n\u001B[0;32m    119\u001B[0m \u001B[43m        \u001B[49m\u001B[38;5;124;43m\"\u001B[39;49m\u001B[38;5;124;43mECG_Clean\u001B[39;49m\u001B[38;5;124;43m\"\u001B[39;49m\u001B[43m:\u001B[49m\u001B[43m \u001B[49m\u001B[43mecg_cleaned\u001B[49m\u001B[43m,\u001B[49m\n\u001B[0;32m    120\u001B[0m \u001B[43m        \u001B[49m\u001B[38;5;124;43m\"\u001B[39;49m\u001B[38;5;124;43mECG_Rate\u001B[39;49m\u001B[38;5;124;43m\"\u001B[39;49m\u001B[43m:\u001B[49m\u001B[43m \u001B[49m\u001B[43mrate\u001B[49m\u001B[43m,\u001B[49m\n\u001B[0;32m    121\u001B[0m \u001B[43m        \u001B[49m\u001B[38;5;124;43m\"\u001B[39;49m\u001B[38;5;124;43mECG_Quality\u001B[39;49m\u001B[38;5;124;43m\"\u001B[39;49m\u001B[43m:\u001B[49m\u001B[43m \u001B[49m\u001B[43mquality\u001B[49m\u001B[43m,\u001B[49m\n\u001B[0;32m    122\u001B[0m \u001B[43m    \u001B[49m\u001B[43m}\u001B[49m\n\u001B[0;32m    123\u001B[0m \u001B[43m\u001B[49m\u001B[43m)\u001B[49m\n\u001B[0;32m    125\u001B[0m \u001B[38;5;66;03m# Delineate QRS complex\u001B[39;00m\n\u001B[0;32m    126\u001B[0m delineate_signal, delineate_info \u001B[38;5;241m=\u001B[39m ecg_delineate(\n\u001B[0;32m    127\u001B[0m     ecg_cleaned\u001B[38;5;241m=\u001B[39mecg_cleaned, rpeaks\u001B[38;5;241m=\u001B[39minfo[\u001B[38;5;124m\"\u001B[39m\u001B[38;5;124mECG_R_Peaks\u001B[39m\u001B[38;5;124m\"\u001B[39m], sampling_rate\u001B[38;5;241m=\u001B[39msampling_rate\n\u001B[0;32m    128\u001B[0m )\n",
      "File \u001B[1;32mc:\\users\\user\\appdata\\local\\programs\\python\\python38\\lib\\site-packages\\pandas\\core\\frame.py:709\u001B[0m, in \u001B[0;36mDataFrame.__init__\u001B[1;34m(self, data, index, columns, dtype, copy)\u001B[0m\n\u001B[0;32m    703\u001B[0m     mgr \u001B[38;5;241m=\u001B[39m \u001B[38;5;28mself\u001B[39m\u001B[38;5;241m.\u001B[39m_init_mgr(\n\u001B[0;32m    704\u001B[0m         data, axes\u001B[38;5;241m=\u001B[39m{\u001B[38;5;124m\"\u001B[39m\u001B[38;5;124mindex\u001B[39m\u001B[38;5;124m\"\u001B[39m: index, \u001B[38;5;124m\"\u001B[39m\u001B[38;5;124mcolumns\u001B[39m\u001B[38;5;124m\"\u001B[39m: columns}, dtype\u001B[38;5;241m=\u001B[39mdtype, copy\u001B[38;5;241m=\u001B[39mcopy\n\u001B[0;32m    705\u001B[0m     )\n\u001B[0;32m    707\u001B[0m \u001B[38;5;28;01melif\u001B[39;00m \u001B[38;5;28misinstance\u001B[39m(data, \u001B[38;5;28mdict\u001B[39m):\n\u001B[0;32m    708\u001B[0m     \u001B[38;5;66;03m# GH#38939 de facto copy defaults to False only in non-dict cases\u001B[39;00m\n\u001B[1;32m--> 709\u001B[0m     mgr \u001B[38;5;241m=\u001B[39m \u001B[43mdict_to_mgr\u001B[49m\u001B[43m(\u001B[49m\u001B[43mdata\u001B[49m\u001B[43m,\u001B[49m\u001B[43m \u001B[49m\u001B[43mindex\u001B[49m\u001B[43m,\u001B[49m\u001B[43m \u001B[49m\u001B[43mcolumns\u001B[49m\u001B[43m,\u001B[49m\u001B[43m \u001B[49m\u001B[43mdtype\u001B[49m\u001B[38;5;241;43m=\u001B[39;49m\u001B[43mdtype\u001B[49m\u001B[43m,\u001B[49m\u001B[43m \u001B[49m\u001B[43mcopy\u001B[49m\u001B[38;5;241;43m=\u001B[39;49m\u001B[43mcopy\u001B[49m\u001B[43m,\u001B[49m\u001B[43m \u001B[49m\u001B[43mtyp\u001B[49m\u001B[38;5;241;43m=\u001B[39;49m\u001B[43mmanager\u001B[49m\u001B[43m)\u001B[49m\n\u001B[0;32m    710\u001B[0m \u001B[38;5;28;01melif\u001B[39;00m \u001B[38;5;28misinstance\u001B[39m(data, ma\u001B[38;5;241m.\u001B[39mMaskedArray):\n\u001B[0;32m    711\u001B[0m     \u001B[38;5;28;01mfrom\u001B[39;00m \u001B[38;5;21;01mnumpy\u001B[39;00m\u001B[38;5;21;01m.\u001B[39;00m\u001B[38;5;21;01mma\u001B[39;00m \u001B[38;5;28;01mimport\u001B[39;00m mrecords\n",
      "File \u001B[1;32mc:\\users\\user\\appdata\\local\\programs\\python\\python38\\lib\\site-packages\\pandas\\core\\internals\\construction.py:481\u001B[0m, in \u001B[0;36mdict_to_mgr\u001B[1;34m(data, index, columns, dtype, typ, copy)\u001B[0m\n\u001B[0;32m    477\u001B[0m     \u001B[38;5;28;01melse\u001B[39;00m:\n\u001B[0;32m    478\u001B[0m         \u001B[38;5;66;03m# dtype check to exclude e.g. range objects, scalars\u001B[39;00m\n\u001B[0;32m    479\u001B[0m         arrays \u001B[38;5;241m=\u001B[39m [x\u001B[38;5;241m.\u001B[39mcopy() \u001B[38;5;28;01mif\u001B[39;00m \u001B[38;5;28mhasattr\u001B[39m(x, \u001B[38;5;124m\"\u001B[39m\u001B[38;5;124mdtype\u001B[39m\u001B[38;5;124m\"\u001B[39m) \u001B[38;5;28;01melse\u001B[39;00m x \u001B[38;5;28;01mfor\u001B[39;00m x \u001B[38;5;129;01min\u001B[39;00m arrays]\n\u001B[1;32m--> 481\u001B[0m \u001B[38;5;28;01mreturn\u001B[39;00m \u001B[43marrays_to_mgr\u001B[49m\u001B[43m(\u001B[49m\u001B[43marrays\u001B[49m\u001B[43m,\u001B[49m\u001B[43m \u001B[49m\u001B[43mcolumns\u001B[49m\u001B[43m,\u001B[49m\u001B[43m \u001B[49m\u001B[43mindex\u001B[49m\u001B[43m,\u001B[49m\u001B[43m \u001B[49m\u001B[43mdtype\u001B[49m\u001B[38;5;241;43m=\u001B[39;49m\u001B[43mdtype\u001B[49m\u001B[43m,\u001B[49m\u001B[43m \u001B[49m\u001B[43mtyp\u001B[49m\u001B[38;5;241;43m=\u001B[39;49m\u001B[43mtyp\u001B[49m\u001B[43m,\u001B[49m\u001B[43m \u001B[49m\u001B[43mconsolidate\u001B[49m\u001B[38;5;241;43m=\u001B[39;49m\u001B[43mcopy\u001B[49m\u001B[43m)\u001B[49m\n",
      "File \u001B[1;32mc:\\users\\user\\appdata\\local\\programs\\python\\python38\\lib\\site-packages\\pandas\\core\\internals\\construction.py:115\u001B[0m, in \u001B[0;36marrays_to_mgr\u001B[1;34m(arrays, columns, index, dtype, verify_integrity, typ, consolidate)\u001B[0m\n\u001B[0;32m    112\u001B[0m \u001B[38;5;28;01mif\u001B[39;00m verify_integrity:\n\u001B[0;32m    113\u001B[0m     \u001B[38;5;66;03m# figure out the index, if necessary\u001B[39;00m\n\u001B[0;32m    114\u001B[0m     \u001B[38;5;28;01mif\u001B[39;00m index \u001B[38;5;129;01mis\u001B[39;00m \u001B[38;5;28;01mNone\u001B[39;00m:\n\u001B[1;32m--> 115\u001B[0m         index \u001B[38;5;241m=\u001B[39m \u001B[43m_extract_index\u001B[49m\u001B[43m(\u001B[49m\u001B[43marrays\u001B[49m\u001B[43m)\u001B[49m\n\u001B[0;32m    116\u001B[0m     \u001B[38;5;28;01melse\u001B[39;00m:\n\u001B[0;32m    117\u001B[0m         index \u001B[38;5;241m=\u001B[39m ensure_index(index)\n",
      "File \u001B[1;32mc:\\users\\user\\appdata\\local\\programs\\python\\python38\\lib\\site-packages\\pandas\\core\\internals\\construction.py:642\u001B[0m, in \u001B[0;36m_extract_index\u001B[1;34m(data)\u001B[0m\n\u001B[0;32m    640\u001B[0m         raw_lengths\u001B[38;5;241m.\u001B[39mappend(\u001B[38;5;28mlen\u001B[39m(val))\n\u001B[0;32m    641\u001B[0m     \u001B[38;5;28;01melif\u001B[39;00m \u001B[38;5;28misinstance\u001B[39m(val, np\u001B[38;5;241m.\u001B[39mndarray) \u001B[38;5;129;01mand\u001B[39;00m val\u001B[38;5;241m.\u001B[39mndim \u001B[38;5;241m>\u001B[39m \u001B[38;5;241m1\u001B[39m:\n\u001B[1;32m--> 642\u001B[0m         \u001B[38;5;28;01mraise\u001B[39;00m \u001B[38;5;167;01mValueError\u001B[39;00m(\u001B[38;5;124m\"\u001B[39m\u001B[38;5;124mPer-column arrays must each be 1-dimensional\u001B[39m\u001B[38;5;124m\"\u001B[39m)\n\u001B[0;32m    644\u001B[0m \u001B[38;5;28;01mif\u001B[39;00m \u001B[38;5;129;01mnot\u001B[39;00m indexes \u001B[38;5;129;01mand\u001B[39;00m \u001B[38;5;129;01mnot\u001B[39;00m raw_lengths:\n\u001B[0;32m    645\u001B[0m     \u001B[38;5;28;01mraise\u001B[39;00m \u001B[38;5;167;01mValueError\u001B[39;00m(\u001B[38;5;124m\"\u001B[39m\u001B[38;5;124mIf using all scalar values, you must pass an index\u001B[39m\u001B[38;5;124m\"\u001B[39m)\n",
      "\u001B[1;31mValueError\u001B[0m: Per-column arrays must each be 1-dimensional"
     ]
    }
   ],
   "source": [
    "\n",
    "signals = nk.ecg_process(baseline_minute_array, 2000)\n",
    "heart_rate = nk.ecg_rate(signals)"
   ],
   "metadata": {
    "collapsed": false,
    "ExecuteTime": {
     "end_time": "2024-05-21T12:40:25.465420Z",
     "start_time": "2024-05-21T12:40:24.413016300Z"
    }
   },
   "id": "ff300ef7aca7a521",
   "execution_count": 38
  },
  {
   "cell_type": "code",
   "outputs": [],
   "source": [
    "ecg_data =  {\n",
    "    \"n_cue\": [],\n",
    "    \"n_no_cue\": [],\n",
    "    \"p_cue\": [],\n",
    "    \"p_no_cue\": [],\n",
    "    \"u_cue\": [],\n",
    "    \"u_no_cue\": []\n",
    "}\n",
    "for index, row in df.iterrows():\n",
    "    value = row['C5 - Expression']\n",
    "    ecg_value = row['ECG - ECG100C']\n",
    "    \n",
    "    \n",
    "    if value == 020.0:\n",
    "        ecg_data[\"n_cue\"].append(ecg_value)\n",
    "    if value == 030.0:\n",
    "        ecg_data[\"n_no_cue\"].append(ecg_value)\n",
    "    if value == 120.0:\n",
    "        ecg_data[\"p_cue\"].append(ecg_value)\n",
    "    if value == 130.0:\n",
    "        ecg_data[\"p_no_cue\"].append(ecg_value)\n",
    "    if value == 220.0:\n",
    "        ecg_data[\"u_cue\"].append(ecg_value)\n",
    "    if value == 230.0:\n",
    "        ecg_data[\"u_no_cue\"].append(ecg_value)\n",
    "        \n",
    "max_length = max(len(ecg_data[key]) for key in ecg_data)\n",
    "for key in ecg_data:\n",
    "    while len(ecg_data[key]) < max_length:\n",
    "        ecg_data[key].append(None)\n",
    "df_ecg = pd.DataFrame(ecg_data)\n",
    "print(df_ecg)\n",
    "\n",
    "\n",
    "    \n",
    "         \n"
   ],
   "metadata": {
    "collapsed": false,
    "ExecuteTime": {
     "start_time": "2024-05-21T12:39:57.214321400Z"
    }
   },
   "id": "52738fd0a8304417",
   "execution_count": null
  },
  {
   "cell_type": "code",
   "outputs": [],
   "source": [
    "## trying with HEARTPY df\n",
    "ecg_sampling_rate = 2000\n",
    "mean_heart_rate = {}\n",
    "working_data, measures = hp.process(df[\"ECG - ECG100C\"].values, ecg_sampling_rate)\n",
    "mean_heart_rate[\"ECG - ECG100C\"] = measures['bpm']\n",
    "\n"
   ],
   "metadata": {
    "collapsed": false,
    "ExecuteTime": {
     "end_time": "2024-05-21T12:39:57.227009Z",
     "start_time": "2024-05-21T12:39:57.218910600Z"
    }
   },
   "id": "4105875426a15bb8",
   "execution_count": null
  },
  {
   "cell_type": "code",
   "outputs": [],
   "source": [
    "measures"
   ],
   "metadata": {
    "collapsed": false,
    "ExecuteTime": {
     "start_time": "2024-05-21T12:39:57.224605Z"
    }
   },
   "id": "cb7e4c99127c8331",
   "execution_count": null
  },
  {
   "cell_type": "code",
   "outputs": [],
   "source": [
    "## trying with HEARTPY\n",
    "import numpy as np \n",
    "\n",
    "ecg_sampling_rate = 2000\n",
    "mean_heart_rate = {}\n",
    "for column in df_ecg.columns:\n",
    "    nmpy = np.array(df_ecg[column])\n",
    "    working_data, measures = hp.process(nmpy, ecg_sampling_rate)\n",
    "    mean_heart_rate[column] = measures['bpm']\n",
    "    mean_heart_rate = {column: sum(heart_rates) / len(heart_rates) for column, heart_rates in mean_heart_rate.items()}\n",
    "print(\"Mean Heart Rates:\")\n",
    "for column, mean_hr in mean_heart_rate.items():\n",
    "    print(f\"{column}: {mean_hr} bpm\")"
   ],
   "metadata": {
    "collapsed": false,
    "ExecuteTime": {
     "start_time": "2024-05-21T12:39:57.229223900Z"
    }
   },
   "id": "7a7a73b56740b68d",
   "execution_count": null
  },
  {
   "cell_type": "code",
   "outputs": [],
   "source": [
    "\n",
    "\n",
    "## trying with neurokit   \n",
    "ecg_sampling_rate = 2000\n",
    "heart_rate_data = {}\n",
    "for column in df_ecg.columns:\n",
    "    signals = nk.ecg_process(df_ecg[column], ecg_sampling_rate)\n",
    "    heart_rate = nk.ecg_rate(signals)\n",
    "    heart_rate_data[column] = heart_rate\n",
    "print(\"Heart Rates:\")\n",
    "for column, heart_rate in heart_rate_data.items():\n",
    "    print(f\"{column}: {heart_rate.mean()} bpm\")\n",
    "\n",
    "heart_rate_df = pd.DataFrame(heart_rate_data)\n",
    "\n",
    "mean_heart_rate_per_column = heart_rate_df.mean(axis=0)\n",
    "\n",
    "print(\"Mean Heart Rate per column:\")\n",
    "print(mean_heart_rate_per_column)\n",
    "    \n",
    "    \n",
    "\n",
    "\n",
    "\n",
    "\n",
    "\n",
    "\n",
    "\n",
    "    "
   ],
   "metadata": {
    "collapsed": false,
    "ExecuteTime": {
     "end_time": "2024-05-21T12:39:57.263778Z",
     "start_time": "2024-05-21T12:39:57.232632800Z"
    }
   },
   "id": "35ce85ca60d480a9",
   "execution_count": null
  },
  {
   "cell_type": "code",
   "outputs": [],
   "source": [
    "nmpy"
   ],
   "metadata": {
    "collapsed": false,
    "ExecuteTime": {
     "start_time": "2024-05-21T12:39:57.236372600Z"
    }
   },
   "id": "63e46591e77455c",
   "execution_count": null
  },
  {
   "cell_type": "code",
   "outputs": [],
   "source": [],
   "metadata": {
    "collapsed": false,
    "ExecuteTime": {
     "start_time": "2024-05-21T12:39:57.241057300Z"
    }
   },
   "id": "df9732aa9d58f76e"
  }
 ],
 "metadata": {
  "kernelspec": {
   "display_name": "Python 3",
   "language": "python",
   "name": "python3"
  },
  "language_info": {
   "codemirror_mode": {
    "name": "ipython",
    "version": 2
   },
   "file_extension": ".py",
   "mimetype": "text/x-python",
   "name": "python",
   "nbconvert_exporter": "python",
   "pygments_lexer": "ipython2",
   "version": "2.7.6"
  }
 },
 "nbformat": 4,
 "nbformat_minor": 5
}
