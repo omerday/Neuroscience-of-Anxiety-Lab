{
 "cells": [
  {
   "cell_type": "markdown",
   "source": [],
   "metadata": {
    "collapsed": false
   },
   "id": "5195c48c53d3878a"
  },
  {
   "cell_type": "code",
   "outputs": [
    {
     "name": "stdout",
     "output_type": "stream",
     "text": [
      "         ECG - ECG100C  C5 - Expression\n",
      "0             0.000000              0.0\n",
      "1             0.000153              0.0\n",
      "2            -0.000153              0.0\n",
      "3             0.000000              0.0\n",
      "4             0.000000              0.0\n",
      "...                ...              ...\n",
      "3132788      -0.097656              0.0\n",
      "3132789      -0.100098              0.0\n",
      "3132790      -0.102539              0.0\n",
      "3132791      -0.105438              0.0\n",
      "3132792      -0.109253              0.0\n",
      "\n",
      "[3132793 rows x 2 columns]\n"
     ]
    }
   ],
   "source": [
    "import bioread\n",
    "import pandas as pd\n",
    "acq_file = bioread.read_file(r'C:\\Users\\User\\Downloads\\80_28.1.24 (NPU_template).acq')\n",
    "\n",
    "channels_to_extract = ['ECG - ECG100C', 'C5 - Expression' ]\n",
    "data = {}\n",
    "for channel_name in channels_to_extract:\n",
    "    channel = acq_file.named_channels[channel_name]\n",
    "    data[channel_name] = channel.data\n",
    "\n",
    "df = pd.DataFrame(data)\n",
    "print(df)"
   ],
   "metadata": {
    "collapsed": false,
    "ExecuteTime": {
     "end_time": "2024-04-22T08:58:35.817769400Z",
     "start_time": "2024-04-22T08:58:33.751106800Z"
    }
   },
   "id": "8c5d0077936ee4a3",
   "execution_count": 29
  },
  {
   "cell_type": "code",
   "outputs": [
    {
     "name": "stdout",
     "output_type": "stream",
     "text": [
      "         n_cue  n_no_cue     p_cue  p_no_cue     u_cue  u_no_cue\n",
      "0    -0.092621 -0.018768 -0.009613 -0.011139  0.035706 -0.032196\n",
      "1    -0.091858 -0.019073 -0.009308 -0.011597  0.036163 -0.031586\n",
      "2    -0.091248 -0.018921 -0.009003 -0.011902  0.036774 -0.031433\n",
      "3    -0.090790 -0.019073 -0.009460 -0.012665  0.037384 -0.031281\n",
      "4    -0.089874 -0.018768 -0.009460 -0.012970  0.037689 -0.031128\n",
      "...        ...       ...       ...       ...       ...       ...\n",
      "1194       NaN  0.011444       NaN       NaN       NaN       NaN\n",
      "1195       NaN  0.011902       NaN       NaN       NaN       NaN\n",
      "1196       NaN  0.012360       NaN       NaN       NaN       NaN\n",
      "1197       NaN  0.012817       NaN       NaN       NaN       NaN\n",
      "1198       NaN  0.013428       NaN       NaN       NaN       NaN\n",
      "\n",
      "[1199 rows x 6 columns]\n"
     ]
    }
   ],
   "source": [
    "ecg_data =  {\n",
    "    \"n_cue\": [],\n",
    "    \"n_no_cue\": [],\n",
    "    \"p_cue\": [],\n",
    "    \"p_no_cue\": [],\n",
    "    \"u_cue\": [],\n",
    "    \"u_no_cue\": []\n",
    "}\n",
    "for index, row in df.iterrows():\n",
    "    value = row['C5 - Expression']\n",
    "    ecg_value = row['ECG - ECG100C']\n",
    "    \n",
    "    \n",
    "    if value == 020.0:\n",
    "        ecg_data[\"n_cue\"].append(ecg_value)\n",
    "    if value == 030.0:\n",
    "        ecg_data[\"n_no_cue\"].append(ecg_value)\n",
    "    if value == 120.0:\n",
    "        ecg_data[\"p_cue\"].append(ecg_value)\n",
    "    if value == 130.0:\n",
    "        ecg_data[\"p_no_cue\"].append(ecg_value)\n",
    "    if value == 220.0:\n",
    "        ecg_data[\"u_cue\"].append(ecg_value)\n",
    "    if value == 230.0:\n",
    "        ecg_data[\"u_no_cue\"].append(ecg_value)\n",
    "        \n",
    "max_length = max(len(ecg_data[key]) for key in ecg_data)\n",
    "for key in ecg_data:\n",
    "    while len(ecg_data[key]) < max_length:\n",
    "        ecg_data[key].append(None)\n",
    "df_ecg = pd.DataFrame(ecg_data)\n",
    "print(df_ecg)\n",
    "    \n",
    "         \n"
   ],
   "metadata": {
    "collapsed": false,
    "ExecuteTime": {
     "end_time": "2024-04-22T09:03:44.471333700Z",
     "start_time": "2024-04-22T09:02:11.956644Z"
    }
   },
   "id": "52738fd0a8304417",
   "execution_count": 31
  },
  {
   "cell_type": "code",
   "outputs": [],
   "source": [
    "import heartpy as hp"
   ],
   "metadata": {
    "collapsed": false,
    "ExecuteTime": {
     "end_time": "2024-04-22T08:59:50.879964100Z",
     "start_time": "2024-04-22T08:59:50.877880900Z"
    }
   },
   "id": "fbcc44ad30e9a051",
   "execution_count": null
  },
  {
   "cell_type": "code",
   "outputs": [
    {
     "ename": "ValueError",
     "evalue": "negative dimensions are not allowed",
     "output_type": "error",
     "traceback": [
      "\u001B[1;31m---------------------------------------------------------------------------\u001B[0m",
      "\u001B[1;31mValueError\u001B[0m                                Traceback (most recent call last)",
      "Cell \u001B[1;32mIn[33], line 4\u001B[0m\n\u001B[0;32m      2\u001B[0m heartrate_data \u001B[38;5;241m=\u001B[39m {}\n\u001B[0;32m      3\u001B[0m \u001B[38;5;28;01mfor\u001B[39;00m column \u001B[38;5;129;01min\u001B[39;00m df_ecg\u001B[38;5;241m.\u001B[39mcolumns:\n\u001B[1;32m----> 4\u001B[0m     working_data, measures \u001B[38;5;241m=\u001B[39m \u001B[43mhp\u001B[49m\u001B[38;5;241;43m.\u001B[39;49m\u001B[43mprocess\u001B[49m\u001B[43m(\u001B[49m\u001B[43mdf_ecg\u001B[49m\u001B[43m[\u001B[49m\u001B[43mcolumn\u001B[49m\u001B[43m]\u001B[49m\u001B[38;5;241;43m.\u001B[39;49m\u001B[43mvalues\u001B[49m\u001B[43m,\u001B[49m\u001B[43m \u001B[49m\u001B[43mecg_sampling_rate\u001B[49m\u001B[43m)\u001B[49m\n\u001B[0;32m      5\u001B[0m     heartrate_data[column] \u001B[38;5;241m=\u001B[39m working_data[\u001B[38;5;124m'\u001B[39m\u001B[38;5;124mbpm\u001B[39m\u001B[38;5;124m'\u001B[39m]\n\u001B[0;32m      6\u001B[0m df_heartrate \u001B[38;5;241m=\u001B[39m pd\u001B[38;5;241m.\u001B[39mDataFrame(heartrate_data)\n",
      "File \u001B[1;32m~\\PycharmProjects\\Neuroscience-of-Anxiety-Lab\\venv\\lib\\site-packages\\heartpy\\heartpy.py:287\u001B[0m, in \u001B[0;36mprocess\u001B[1;34m(hrdata, sample_rate, windowsize, report_time, calc_freq, freq_method, welch_wsize, freq_square, interp_clipping, clipping_scale, interp_threshold, hampel_correct, bpmmin, bpmmax, reject_segmentwise, high_precision, high_precision_fs, breathing_method, clean_rr, clean_rr_method, measures, working_data)\u001B[0m\n\u001B[0;32m    284\u001B[0m working_data[\u001B[38;5;124m'\u001B[39m\u001B[38;5;124mhr\u001B[39m\u001B[38;5;124m'\u001B[39m] \u001B[38;5;241m=\u001B[39m hrdata\n\u001B[0;32m    285\u001B[0m working_data[\u001B[38;5;124m'\u001B[39m\u001B[38;5;124msample_rate\u001B[39m\u001B[38;5;124m'\u001B[39m] \u001B[38;5;241m=\u001B[39m sample_rate\n\u001B[1;32m--> 287\u001B[0m rol_mean \u001B[38;5;241m=\u001B[39m \u001B[43mrolling_mean\u001B[49m\u001B[43m(\u001B[49m\u001B[43mhrdata\u001B[49m\u001B[43m,\u001B[49m\u001B[43m \u001B[49m\u001B[43mwindowsize\u001B[49m\u001B[43m,\u001B[49m\u001B[43m \u001B[49m\u001B[43msample_rate\u001B[49m\u001B[43m)\u001B[49m\n\u001B[0;32m    289\u001B[0m working_data \u001B[38;5;241m=\u001B[39m fit_peaks(hrdata, rol_mean, sample_rate, bpmmin\u001B[38;5;241m=\u001B[39mbpmmin,\n\u001B[0;32m    290\u001B[0m                          bpmmax\u001B[38;5;241m=\u001B[39mbpmmax, working_data\u001B[38;5;241m=\u001B[39mworking_data)\n\u001B[0;32m    292\u001B[0m \u001B[38;5;28;01mif\u001B[39;00m high_precision:\n",
      "File \u001B[1;32m~\\PycharmProjects\\Neuroscience-of-Anxiety-Lab\\venv\\lib\\site-packages\\heartpy\\datautils.py:285\u001B[0m, in \u001B[0;36mrolling_mean\u001B[1;34m(data, windowsize, sample_rate)\u001B[0m\n\u001B[0;32m    283\u001B[0m \u001B[38;5;66;03m# calculate rolling mean\u001B[39;00m\n\u001B[0;32m    284\u001B[0m data_arr \u001B[38;5;241m=\u001B[39m np\u001B[38;5;241m.\u001B[39marray(data)\n\u001B[1;32m--> 285\u001B[0m rol_mean \u001B[38;5;241m=\u001B[39m np\u001B[38;5;241m.\u001B[39mmean(\u001B[43m_sliding_window\u001B[49m\u001B[43m(\u001B[49m\u001B[43mdata_arr\u001B[49m\u001B[43m,\u001B[49m\u001B[43m \u001B[49m\u001B[38;5;28;43mint\u001B[39;49m\u001B[43m(\u001B[49m\u001B[43mwindowsize\u001B[49m\u001B[38;5;241;43m*\u001B[39;49m\u001B[43msample_rate\u001B[49m\u001B[43m)\u001B[49m\u001B[43m)\u001B[49m, axis\u001B[38;5;241m=\u001B[39m\u001B[38;5;241m1\u001B[39m)\n\u001B[0;32m    287\u001B[0m \u001B[38;5;66;03m# need to fill 1/2 windowsize gap at the start and end\u001B[39;00m\n\u001B[0;32m    288\u001B[0m n_missvals \u001B[38;5;241m=\u001B[39m \u001B[38;5;28mint\u001B[39m(\u001B[38;5;28mabs\u001B[39m(\u001B[38;5;28mlen\u001B[39m(data_arr) \u001B[38;5;241m-\u001B[39m \u001B[38;5;28mlen\u001B[39m(rol_mean))\u001B[38;5;241m/\u001B[39m\u001B[38;5;241m2\u001B[39m)\n",
      "File \u001B[1;32m~\\PycharmProjects\\Neuroscience-of-Anxiety-Lab\\venv\\lib\\site-packages\\heartpy\\datautils.py:248\u001B[0m, in \u001B[0;36m_sliding_window\u001B[1;34m(data, windowsize)\u001B[0m\n\u001B[0;32m    246\u001B[0m shape \u001B[38;5;241m=\u001B[39m data\u001B[38;5;241m.\u001B[39mshape[:\u001B[38;5;241m-\u001B[39m\u001B[38;5;241m1\u001B[39m] \u001B[38;5;241m+\u001B[39m (data\u001B[38;5;241m.\u001B[39mshape[\u001B[38;5;241m-\u001B[39m\u001B[38;5;241m1\u001B[39m] \u001B[38;5;241m-\u001B[39m windowsize \u001B[38;5;241m+\u001B[39m \u001B[38;5;241m1\u001B[39m, windowsize)\n\u001B[0;32m    247\u001B[0m strides \u001B[38;5;241m=\u001B[39m data\u001B[38;5;241m.\u001B[39mstrides \u001B[38;5;241m+\u001B[39m (data\u001B[38;5;241m.\u001B[39mstrides[\u001B[38;5;241m-\u001B[39m\u001B[38;5;241m1\u001B[39m],)\n\u001B[1;32m--> 248\u001B[0m \u001B[38;5;28;01mreturn\u001B[39;00m \u001B[43mnp\u001B[49m\u001B[38;5;241;43m.\u001B[39;49m\u001B[43mlib\u001B[49m\u001B[38;5;241;43m.\u001B[39;49m\u001B[43mstride_tricks\u001B[49m\u001B[38;5;241;43m.\u001B[39;49m\u001B[43mas_strided\u001B[49m\u001B[43m(\u001B[49m\u001B[43mdata\u001B[49m\u001B[43m,\u001B[49m\u001B[43m \u001B[49m\u001B[43mshape\u001B[49m\u001B[38;5;241;43m=\u001B[39;49m\u001B[43mshape\u001B[49m\u001B[43m,\u001B[49m\u001B[43m \u001B[49m\u001B[43mstrides\u001B[49m\u001B[38;5;241;43m=\u001B[39;49m\u001B[43mstrides\u001B[49m\u001B[43m)\u001B[49m\n",
      "File \u001B[1;32m~\\PycharmProjects\\Neuroscience-of-Anxiety-Lab\\venv\\lib\\site-packages\\numpy\\lib\\stride_tricks.py:105\u001B[0m, in \u001B[0;36mas_strided\u001B[1;34m(x, shape, strides, subok, writeable)\u001B[0m\n\u001B[0;32m    102\u001B[0m \u001B[38;5;28;01mif\u001B[39;00m strides \u001B[38;5;129;01mis\u001B[39;00m \u001B[38;5;129;01mnot\u001B[39;00m \u001B[38;5;28;01mNone\u001B[39;00m:\n\u001B[0;32m    103\u001B[0m     interface[\u001B[38;5;124m'\u001B[39m\u001B[38;5;124mstrides\u001B[39m\u001B[38;5;124m'\u001B[39m] \u001B[38;5;241m=\u001B[39m \u001B[38;5;28mtuple\u001B[39m(strides)\n\u001B[1;32m--> 105\u001B[0m array \u001B[38;5;241m=\u001B[39m \u001B[43mnp\u001B[49m\u001B[38;5;241;43m.\u001B[39;49m\u001B[43masarray\u001B[49m\u001B[43m(\u001B[49m\u001B[43mDummyArray\u001B[49m\u001B[43m(\u001B[49m\u001B[43minterface\u001B[49m\u001B[43m,\u001B[49m\u001B[43m \u001B[49m\u001B[43mbase\u001B[49m\u001B[38;5;241;43m=\u001B[39;49m\u001B[43mx\u001B[49m\u001B[43m)\u001B[49m\u001B[43m)\u001B[49m\n\u001B[0;32m    106\u001B[0m \u001B[38;5;66;03m# The route via `__interface__` does not preserve structured\u001B[39;00m\n\u001B[0;32m    107\u001B[0m \u001B[38;5;66;03m# dtypes. Since dtype should remain unchanged, we set it explicitly.\u001B[39;00m\n\u001B[0;32m    108\u001B[0m array\u001B[38;5;241m.\u001B[39mdtype \u001B[38;5;241m=\u001B[39m x\u001B[38;5;241m.\u001B[39mdtype\n",
      "\u001B[1;31mValueError\u001B[0m: negative dimensions are not allowed"
     ]
    }
   ],
   "source": [
    "\n",
    "ecg_sampling_rate = 2000\n",
    "heartrate_data = {}\n",
    "for column in df_ecg.columns:\n",
    "    working_data, measures = hp.process(df_ecg[column].values, ecg_sampling_rate)\n",
    "    heartrate_data[column] = working_data['bpm']\n",
    "df_heartrate = pd.DataFrame(heartrate_data)\n",
    "print(df_heartrate)\n",
    "\n",
    "\n",
    "\n",
    "\n",
    "\n",
    "    "
   ],
   "metadata": {
    "collapsed": false,
    "ExecuteTime": {
     "end_time": "2024-04-22T09:09:47.547332100Z",
     "start_time": "2024-04-22T09:09:47.498226500Z"
    }
   },
   "id": "35ce85ca60d480a9",
   "execution_count": 33
  },
  {
   "cell_type": "code",
   "outputs": [],
   "source": [],
   "metadata": {
    "collapsed": false,
    "ExecuteTime": {
     "start_time": "2024-04-22T08:59:50.883030400Z"
    }
   },
   "id": "63e46591e77455c",
   "execution_count": null
  }
 ],
 "metadata": {
  "kernelspec": {
   "display_name": "Python 3",
   "language": "python",
   "name": "python3"
  },
  "language_info": {
   "codemirror_mode": {
    "name": "ipython",
    "version": 2
   },
   "file_extension": ".py",
   "mimetype": "text/x-python",
   "name": "python",
   "nbconvert_exporter": "python",
   "pygments_lexer": "ipython2",
   "version": "2.7.6"
  }
 },
 "nbformat": 4,
 "nbformat_minor": 5
}
