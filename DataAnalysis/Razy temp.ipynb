{
 "cells": [
  {
   "cell_type": "markdown",
   "source": [],
   "metadata": {
    "collapsed": false
   },
   "id": "5195c48c53d3878a"
  },
  {
   "cell_type": "code",
   "outputs": [
    {
     "name": "stdout",
     "output_type": "stream",
     "text": [
      "         ECG - ECG100C  C5 - Expression\n",
      "0             0.000000              0.0\n",
      "1             0.000153              0.0\n",
      "2            -0.000153              0.0\n",
      "3             0.000000              0.0\n",
      "4             0.000000              0.0\n",
      "...                ...              ...\n",
      "3132788      -0.097656              0.0\n",
      "3132789      -0.100098              0.0\n",
      "3132790      -0.102539              0.0\n",
      "3132791      -0.105438              0.0\n",
      "3132792      -0.109253              0.0\n",
      "\n",
      "[3132793 rows x 2 columns]\n"
     ]
    }
   ],
   "source": [
    "import bioread\n",
    "import np\n",
    "import pandas as pd\n",
    "import heartpy as hp\n",
    "import neurokit2 as nk\n",
    "\n",
    "acq_file = bioread.read_file(r'C:\\Users\\User\\Downloads\\80_28.1.24 (NPU_template).acq')\n",
    "\n",
    "channels_to_extract = ['ECG - ECG100C', 'C5 - Expression' ]\n",
    "data = {}\n",
    "for channel_name in channels_to_extract:\n",
    "    channel = acq_file.named_channels[channel_name]\n",
    "    data[channel_name] = channel.data\n",
    "\n",
    "df = pd.DataFrame(data)\n",
    "print(df)\n"
   ],
   "metadata": {
    "collapsed": false,
    "ExecuteTime": {
     "end_time": "2024-05-21T12:47:58.345157500Z",
     "start_time": "2024-05-21T12:47:55.056615Z"
    }
   },
   "id": "8c5d0077936ee4a3",
   "execution_count": 43
  },
  {
   "cell_type": "code",
   "outputs": [],
   "source": [
    "df = df.dropna()\n",
    "df = df.reset_index(drop=True)\n"
   ],
   "metadata": {
    "collapsed": false,
    "ExecuteTime": {
     "end_time": "2024-05-21T12:47:58.463813600Z",
     "start_time": "2024-05-21T12:47:58.346178200Z"
    }
   },
   "id": "445dff91fda6be38",
   "execution_count": 44
  },
  {
   "cell_type": "code",
   "outputs": [],
   "source": [
    "non_zero_indices = df.index[df['C5 - Expression'] != 0]\n",
    "index_rows_to_change = []\n",
    "for i in range(len(non_zero_indices)-1):\n",
    "    if non_zero_indices[i+1] == non_zero_indices[i]+1:\n",
    "        index_rows_to_change.append(non_zero_indices[i])\n",
    "for index in index_rows_to_change:\n",
    "    df.loc[index, 'C5 - Expression'] = 0"
   ],
   "metadata": {
    "collapsed": false,
    "ExecuteTime": {
     "end_time": "2024-05-21T12:47:59.124020100Z",
     "start_time": "2024-05-21T12:47:58.439453Z"
    }
   },
   "id": "2666187f86aab588",
   "execution_count": 45
  },
  {
   "cell_type": "code",
   "outputs": [
    {
     "name": "stdout",
     "output_type": "stream",
     "text": [
      "         ECG - ECG100C  C5 - Expression\n",
      "0             0.000000              0.0\n",
      "1             0.000153              0.0\n",
      "2            -0.000153              0.0\n",
      "3             0.000000              0.0\n",
      "4             0.000000              0.0\n",
      "...                ...              ...\n",
      "3132788      -0.097656              0.0\n",
      "3132789      -0.100098              0.0\n",
      "3132790      -0.102539              0.0\n",
      "3132791      -0.105438              0.0\n",
      "3132792      -0.109253              0.0\n",
      "\n",
      "[3132793 rows x 2 columns]\n"
     ]
    }
   ],
   "source": [
    "print(df)"
   ],
   "metadata": {
    "collapsed": false,
    "ExecuteTime": {
     "end_time": "2024-05-21T12:47:59.157703300Z",
     "start_time": "2024-05-21T12:47:59.126960100Z"
    }
   },
   "id": "f571241d7bd2ee9e",
   "execution_count": 46
  },
  {
   "cell_type": "code",
   "outputs": [
    {
     "name": "stdout",
     "output_type": "stream",
     "text": [
      "481122    0.016327\n",
      "Name: ECG - ECG100C, dtype: float64\n"
     ]
    }
   ],
   "source": [
    "df_baseline = df['ECG - ECG100C'][df['C5 - Expression']==99]\n",
    "\n",
    "print(df_baseline)"
   ],
   "metadata": {
    "collapsed": false,
    "ExecuteTime": {
     "end_time": "2024-05-21T12:47:59.191333900Z",
     "start_time": "2024-05-21T12:47:59.149647600Z"
    }
   },
   "id": "a48361d959697e78",
   "execution_count": 47
  },
  {
   "cell_type": "code",
   "outputs": [
    {
     "name": "stdout",
     "output_type": "stream",
     "text": [
      "        ECG - ECG100C\n",
      "481122       0.016327\n",
      "481123       0.016632\n",
      "481124       0.017548\n",
      "481125       0.017548\n",
      "481126       0.018463\n",
      "...               ...\n",
      "601117      -0.069733\n",
      "601118      -0.070953\n",
      "601119      -0.071259\n",
      "601120      -0.072021\n",
      "601121      -0.072632\n",
      "\n",
      "[120000 rows x 1 columns]\n"
     ]
    }
   ],
   "source": [
    "df_baseline_minute = pd.DataFrame()\n",
    "for index in df_baseline.index:\n",
    "    df_slice = df['ECG - ECG100C'].iloc[index : index + 2000 * 60]\n",
    "    df_slice = df_slice.to_frame(name='ECG - ECG100C')\n",
    "    df_baseline_minute = pd.concat([df_baseline_minute, df_slice])\n",
    "print(df_baseline_minute)"
   ],
   "metadata": {
    "collapsed": false,
    "ExecuteTime": {
     "end_time": "2024-05-21T12:47:59.291337800Z",
     "start_time": "2024-05-21T12:47:59.177673500Z"
    }
   },
   "id": "7a7ef8e45d63831d",
   "execution_count": 48
  },
  {
   "cell_type": "code",
   "outputs": [
    {
     "name": "stdout",
     "output_type": "stream",
     "text": [
      "[ 0.0163269   0.01663208  0.01754761 ... -0.07125854 -0.07202148\n",
      " -0.07263184]\n"
     ]
    }
   ],
   "source": [
    "baseline_minute_array = df_baseline_minute['ECG - ECG100C'].values.flatten()\n",
    "print(baseline_minute_array)"
   ],
   "metadata": {
    "collapsed": false,
    "ExecuteTime": {
     "end_time": "2024-05-21T12:47:59.292915700Z",
     "start_time": "2024-05-21T12:47:59.212751900Z"
    }
   },
   "id": "651887f3d2b85836",
   "execution_count": 49
  },
  {
   "cell_type": "code",
   "outputs": [
    {
     "name": "stdout",
     "output_type": "stream",
     "text": [
      "[26.53670043 26.09830361 28.30188679 29.16869227 27.63703363 27.95899348\n",
      " 27.66251729 26.72605791 29.1403594  29.0275762  29.9550674  32.71537623\n",
      " 30.58103976 23.83790226 25.86206897 28.70813397 28.11621368 27.07581227\n",
      " 27.26033621 26.92998205 25.3164557  27.53556677 26.89376961 25.9965338\n",
      " 26.80965147 24.73206925 24.52984464 26.39683238 28.30188679 31.69572108\n",
      " 31.07198343 22.22222222 23.55712603 25.22068096 25.12562814 24.23263328\n",
      " 25.45608825 24.62043496 24.74226804 26.78571429 24.600246   26.15518745\n",
      " 27.76492365 24.35064935 24.15458937 29.73240833 29.71768202 23.82843527\n",
      " 24.26202992 26.0756193  25.21008403 23.44665885]\n"
     ]
    }
   ],
   "source": [
    "\n",
    "signals = nk.ecg_process(baseline_minute_array, 2000)\n",
    "heart_rate = nk.ecg_rate(signals)\n",
    "print(heart_rate)"
   ],
   "metadata": {
    "collapsed": false,
    "ExecuteTime": {
     "end_time": "2024-05-21T12:50:54.480289300Z",
     "start_time": "2024-05-21T12:50:52.564836700Z"
    }
   },
   "id": "ff300ef7aca7a521",
   "execution_count": 55
  },
  {
   "cell_type": "code",
   "outputs": [
    {
     "name": "stdout",
     "output_type": "stream",
     "text": [
      "       n_cue  n_no_cue     p_cue  p_no_cue     u_cue  u_no_cue\n",
      "0  -0.048065 -0.008698 -0.004578  0.016174  0.102844 -0.026703\n",
      "1  -0.019684  0.130157 -0.006866 -0.040588  0.067291 -0.094452\n",
      "2  -0.026398 -0.010529  0.030975 -0.038300 -0.004425 -0.044556\n",
      "3  -0.152893  0.074768 -0.047150 -0.041046 -0.025482 -0.048828\n",
      "4  -0.028381  1.200714  0.029297 -0.042725 -0.053406  0.059814\n",
      "5  -0.014648 -0.022430 -0.019989 -0.561829 -0.009155  0.146790\n",
      "6   0.114136  0.104828       NaN -0.021210       NaN -0.041046\n",
      "7  -0.020294  0.016479       NaN -0.087585       NaN -0.053253\n",
      "8  -0.012054 -0.007782       NaN       NaN       NaN       NaN\n",
      "9        NaN -0.016785       NaN       NaN       NaN       NaN\n",
      "10       NaN  0.139313       NaN       NaN       NaN       NaN\n",
      "11       NaN  0.013428       NaN       NaN       NaN       NaN\n"
     ]
    }
   ],
   "source": [
    "ecg_data =  {\n",
    "    \"n_cue\": [],\n",
    "    \"n_no_cue\": [],\n",
    "    \"p_cue\": [],\n",
    "    \"p_no_cue\": [],\n",
    "    \"u_cue\": [],\n",
    "    \"u_no_cue\": []\n",
    "}\n",
    "for index, row in df.iterrows():\n",
    "    value = row['C5 - Expression']\n",
    "    ecg_value = row['ECG - ECG100C']\n",
    "    \n",
    "    \n",
    "    if value == 020.0:\n",
    "        ecg_data[\"n_cue\"].append(ecg_value)\n",
    "    if value == 030.0:\n",
    "        ecg_data[\"n_no_cue\"].append(ecg_value)\n",
    "    if value == 120.0:\n",
    "        ecg_data[\"p_cue\"].append(ecg_value)\n",
    "    if value == 130.0:\n",
    "        ecg_data[\"p_no_cue\"].append(ecg_value)\n",
    "    if value == 220.0:\n",
    "        ecg_data[\"u_cue\"].append(ecg_value)\n",
    "    if value == 230.0:\n",
    "        ecg_data[\"u_no_cue\"].append(ecg_value)\n",
    "        \n",
    "max_length = max(len(ecg_data[key]) for key in ecg_data)\n",
    "for key in ecg_data:\n",
    "    while len(ecg_data[key]) < max_length:\n",
    "        ecg_data[key].append(None)\n",
    "df_ecg = pd.DataFrame(ecg_data)\n",
    "print(df_ecg)\n",
    "\n",
    "\n",
    "    \n",
    "         \n"
   ],
   "metadata": {
    "collapsed": false,
    "ExecuteTime": {
     "end_time": "2024-05-21T12:50:00.306386500Z",
     "start_time": "2024-05-21T12:48:00.368394300Z"
    }
   },
   "id": "52738fd0a8304417",
   "execution_count": 51
  },
  {
   "cell_type": "code",
   "outputs": [],
   "source": [
    "## trying with HEARTPY df\n",
    "ecg_sampling_rate = 2000\n",
    "mean_heart_rate = {}\n",
    "working_data, measures = hp.process(df[\"ECG - ECG100C\"].values, ecg_sampling_rate)\n",
    "mean_heart_rate[\"ECG - ECG100C\"] = measures['bpm']\n",
    "\n"
   ],
   "metadata": {
    "collapsed": false,
    "ExecuteTime": {
     "end_time": "2024-05-21T12:50:04.695262400Z",
     "start_time": "2024-05-21T12:50:00.306386500Z"
    }
   },
   "id": "4105875426a15bb8",
   "execution_count": 52
  },
  {
   "cell_type": "code",
   "outputs": [
    {
     "data": {
      "text/plain": "{'bpm': 55.370887615384696,\n 'ibi': 1083.6019176136363,\n 'sdnn': 96.3206670362669,\n 'sdsd': 57.10036487168562,\n 'rmssd': 92.14341368092913,\n 'pnn20': 0.823445318084346,\n 'pnn50': 0.5911365260900643,\n 'hr_mad': 59.0,\n 'sd1': 65.15455829273219,\n 'sd2': 119.220180224025,\n 's': 24403.06920781976,\n 'sd1/sd2': 0.5465061214494153,\n 'breathingrate': 0.30157408560770455}"
     },
     "execution_count": 53,
     "metadata": {},
     "output_type": "execute_result"
    }
   ],
   "source": [
    "measures"
   ],
   "metadata": {
    "collapsed": false,
    "ExecuteTime": {
     "end_time": "2024-05-21T12:50:04.717289Z",
     "start_time": "2024-05-21T12:50:04.698270800Z"
    }
   },
   "id": "cb7e4c99127c8331",
   "execution_count": 53
  },
  {
   "cell_type": "code",
   "outputs": [
    {
     "ename": "ValueError",
     "evalue": "negative dimensions are not allowed",
     "output_type": "error",
     "traceback": [
      "\u001B[1;31m---------------------------------------------------------------------------\u001B[0m",
      "\u001B[1;31mValueError\u001B[0m                                Traceback (most recent call last)",
      "Cell \u001B[1;32mIn[54], line 8\u001B[0m\n\u001B[0;32m      6\u001B[0m \u001B[38;5;28;01mfor\u001B[39;00m column \u001B[38;5;129;01min\u001B[39;00m df_ecg\u001B[38;5;241m.\u001B[39mcolumns:\n\u001B[0;32m      7\u001B[0m     nmpy \u001B[38;5;241m=\u001B[39m np\u001B[38;5;241m.\u001B[39marray(df_ecg[column])\n\u001B[1;32m----> 8\u001B[0m     working_data, measures \u001B[38;5;241m=\u001B[39m \u001B[43mhp\u001B[49m\u001B[38;5;241;43m.\u001B[39;49m\u001B[43mprocess\u001B[49m\u001B[43m(\u001B[49m\u001B[43mnmpy\u001B[49m\u001B[43m,\u001B[49m\u001B[43m \u001B[49m\u001B[43mecg_sampling_rate\u001B[49m\u001B[43m)\u001B[49m\n\u001B[0;32m      9\u001B[0m     mean_heart_rate[column] \u001B[38;5;241m=\u001B[39m measures[\u001B[38;5;124m'\u001B[39m\u001B[38;5;124mbpm\u001B[39m\u001B[38;5;124m'\u001B[39m]\n\u001B[0;32m     10\u001B[0m     mean_heart_rate \u001B[38;5;241m=\u001B[39m {column: \u001B[38;5;28msum\u001B[39m(heart_rates) \u001B[38;5;241m/\u001B[39m \u001B[38;5;28mlen\u001B[39m(heart_rates) \u001B[38;5;28;01mfor\u001B[39;00m column, heart_rates \u001B[38;5;129;01min\u001B[39;00m mean_heart_rate\u001B[38;5;241m.\u001B[39mitems()}\n",
      "File \u001B[1;32mc:\\users\\user\\appdata\\local\\programs\\python\\python38\\lib\\site-packages\\heartpy\\heartpy.py:287\u001B[0m, in \u001B[0;36mprocess\u001B[1;34m(hrdata, sample_rate, windowsize, report_time, calc_freq, freq_method, welch_wsize, freq_square, interp_clipping, clipping_scale, interp_threshold, hampel_correct, bpmmin, bpmmax, reject_segmentwise, high_precision, high_precision_fs, breathing_method, clean_rr, clean_rr_method, measures, working_data)\u001B[0m\n\u001B[0;32m    284\u001B[0m working_data[\u001B[38;5;124m'\u001B[39m\u001B[38;5;124mhr\u001B[39m\u001B[38;5;124m'\u001B[39m] \u001B[38;5;241m=\u001B[39m hrdata\n\u001B[0;32m    285\u001B[0m working_data[\u001B[38;5;124m'\u001B[39m\u001B[38;5;124msample_rate\u001B[39m\u001B[38;5;124m'\u001B[39m] \u001B[38;5;241m=\u001B[39m sample_rate\n\u001B[1;32m--> 287\u001B[0m rol_mean \u001B[38;5;241m=\u001B[39m \u001B[43mrolling_mean\u001B[49m\u001B[43m(\u001B[49m\u001B[43mhrdata\u001B[49m\u001B[43m,\u001B[49m\u001B[43m \u001B[49m\u001B[43mwindowsize\u001B[49m\u001B[43m,\u001B[49m\u001B[43m \u001B[49m\u001B[43msample_rate\u001B[49m\u001B[43m)\u001B[49m\n\u001B[0;32m    289\u001B[0m working_data \u001B[38;5;241m=\u001B[39m fit_peaks(hrdata, rol_mean, sample_rate, bpmmin\u001B[38;5;241m=\u001B[39mbpmmin,\n\u001B[0;32m    290\u001B[0m                          bpmmax\u001B[38;5;241m=\u001B[39mbpmmax, working_data\u001B[38;5;241m=\u001B[39mworking_data)\n\u001B[0;32m    292\u001B[0m \u001B[38;5;28;01mif\u001B[39;00m high_precision:\n",
      "File \u001B[1;32mc:\\users\\user\\appdata\\local\\programs\\python\\python38\\lib\\site-packages\\heartpy\\datautils.py:285\u001B[0m, in \u001B[0;36mrolling_mean\u001B[1;34m(data, windowsize, sample_rate)\u001B[0m\n\u001B[0;32m    283\u001B[0m \u001B[38;5;66;03m# calculate rolling mean\u001B[39;00m\n\u001B[0;32m    284\u001B[0m data_arr \u001B[38;5;241m=\u001B[39m np\u001B[38;5;241m.\u001B[39marray(data)\n\u001B[1;32m--> 285\u001B[0m rol_mean \u001B[38;5;241m=\u001B[39m np\u001B[38;5;241m.\u001B[39mmean(\u001B[43m_sliding_window\u001B[49m\u001B[43m(\u001B[49m\u001B[43mdata_arr\u001B[49m\u001B[43m,\u001B[49m\u001B[43m \u001B[49m\u001B[38;5;28;43mint\u001B[39;49m\u001B[43m(\u001B[49m\u001B[43mwindowsize\u001B[49m\u001B[38;5;241;43m*\u001B[39;49m\u001B[43msample_rate\u001B[49m\u001B[43m)\u001B[49m\u001B[43m)\u001B[49m, axis\u001B[38;5;241m=\u001B[39m\u001B[38;5;241m1\u001B[39m)\n\u001B[0;32m    287\u001B[0m \u001B[38;5;66;03m# need to fill 1/2 windowsize gap at the start and end\u001B[39;00m\n\u001B[0;32m    288\u001B[0m n_missvals \u001B[38;5;241m=\u001B[39m \u001B[38;5;28mint\u001B[39m(\u001B[38;5;28mabs\u001B[39m(\u001B[38;5;28mlen\u001B[39m(data_arr) \u001B[38;5;241m-\u001B[39m \u001B[38;5;28mlen\u001B[39m(rol_mean))\u001B[38;5;241m/\u001B[39m\u001B[38;5;241m2\u001B[39m)\n",
      "File \u001B[1;32mc:\\users\\user\\appdata\\local\\programs\\python\\python38\\lib\\site-packages\\heartpy\\datautils.py:248\u001B[0m, in \u001B[0;36m_sliding_window\u001B[1;34m(data, windowsize)\u001B[0m\n\u001B[0;32m    246\u001B[0m shape \u001B[38;5;241m=\u001B[39m data\u001B[38;5;241m.\u001B[39mshape[:\u001B[38;5;241m-\u001B[39m\u001B[38;5;241m1\u001B[39m] \u001B[38;5;241m+\u001B[39m (data\u001B[38;5;241m.\u001B[39mshape[\u001B[38;5;241m-\u001B[39m\u001B[38;5;241m1\u001B[39m] \u001B[38;5;241m-\u001B[39m windowsize \u001B[38;5;241m+\u001B[39m \u001B[38;5;241m1\u001B[39m, windowsize)\n\u001B[0;32m    247\u001B[0m strides \u001B[38;5;241m=\u001B[39m data\u001B[38;5;241m.\u001B[39mstrides \u001B[38;5;241m+\u001B[39m (data\u001B[38;5;241m.\u001B[39mstrides[\u001B[38;5;241m-\u001B[39m\u001B[38;5;241m1\u001B[39m],)\n\u001B[1;32m--> 248\u001B[0m \u001B[38;5;28;01mreturn\u001B[39;00m \u001B[43mnp\u001B[49m\u001B[38;5;241;43m.\u001B[39;49m\u001B[43mlib\u001B[49m\u001B[38;5;241;43m.\u001B[39;49m\u001B[43mstride_tricks\u001B[49m\u001B[38;5;241;43m.\u001B[39;49m\u001B[43mas_strided\u001B[49m\u001B[43m(\u001B[49m\u001B[43mdata\u001B[49m\u001B[43m,\u001B[49m\u001B[43m \u001B[49m\u001B[43mshape\u001B[49m\u001B[38;5;241;43m=\u001B[39;49m\u001B[43mshape\u001B[49m\u001B[43m,\u001B[49m\u001B[43m \u001B[49m\u001B[43mstrides\u001B[49m\u001B[38;5;241;43m=\u001B[39;49m\u001B[43mstrides\u001B[49m\u001B[43m)\u001B[49m\n",
      "File \u001B[1;32mc:\\users\\user\\appdata\\local\\programs\\python\\python38\\lib\\site-packages\\numpy\\lib\\stride_tricks.py:105\u001B[0m, in \u001B[0;36mas_strided\u001B[1;34m(x, shape, strides, subok, writeable)\u001B[0m\n\u001B[0;32m    102\u001B[0m \u001B[38;5;28;01mif\u001B[39;00m strides \u001B[38;5;129;01mis\u001B[39;00m \u001B[38;5;129;01mnot\u001B[39;00m \u001B[38;5;28;01mNone\u001B[39;00m:\n\u001B[0;32m    103\u001B[0m     interface[\u001B[38;5;124m'\u001B[39m\u001B[38;5;124mstrides\u001B[39m\u001B[38;5;124m'\u001B[39m] \u001B[38;5;241m=\u001B[39m \u001B[38;5;28mtuple\u001B[39m(strides)\n\u001B[1;32m--> 105\u001B[0m array \u001B[38;5;241m=\u001B[39m \u001B[43mnp\u001B[49m\u001B[38;5;241;43m.\u001B[39;49m\u001B[43masarray\u001B[49m\u001B[43m(\u001B[49m\u001B[43mDummyArray\u001B[49m\u001B[43m(\u001B[49m\u001B[43minterface\u001B[49m\u001B[43m,\u001B[49m\u001B[43m \u001B[49m\u001B[43mbase\u001B[49m\u001B[38;5;241;43m=\u001B[39;49m\u001B[43mx\u001B[49m\u001B[43m)\u001B[49m\u001B[43m)\u001B[49m\n\u001B[0;32m    106\u001B[0m \u001B[38;5;66;03m# The route via `__interface__` does not preserve structured\u001B[39;00m\n\u001B[0;32m    107\u001B[0m \u001B[38;5;66;03m# dtypes. Since dtype should remain unchanged, we set it explicitly.\u001B[39;00m\n\u001B[0;32m    108\u001B[0m array\u001B[38;5;241m.\u001B[39mdtype \u001B[38;5;241m=\u001B[39m x\u001B[38;5;241m.\u001B[39mdtype\n",
      "\u001B[1;31mValueError\u001B[0m: negative dimensions are not allowed"
     ]
    }
   ],
   "source": [
    "## trying with HEARTPY\n",
    "import numpy as np \n",
    "\n",
    "ecg_sampling_rate = 2000\n",
    "mean_heart_rate = {}\n",
    "for column in df_ecg.columns:\n",
    "    nmpy = np.array(df_ecg[column])\n",
    "    working_data, measures = hp.process(nmpy, ecg_sampling_rate)\n",
    "    mean_heart_rate[column] = measures['bpm']\n",
    "    mean_heart_rate = {column: sum(heart_rates) / len(heart_rates) for column, heart_rates in mean_heart_rate.items()}\n",
    "print(\"Mean Heart Rates:\")\n",
    "for column, mean_hr in mean_heart_rate.items():\n",
    "    print(f\"{column}: {mean_hr} bpm\")"
   ],
   "metadata": {
    "collapsed": false,
    "ExecuteTime": {
     "end_time": "2024-05-21T12:50:04.996705100Z",
     "start_time": "2024-05-21T12:50:04.716289Z"
    }
   },
   "id": "7a7a73b56740b68d",
   "execution_count": 54
  },
  {
   "cell_type": "code",
   "outputs": [],
   "source": [
    "\n",
    "\n",
    "## trying with neurokit   \n",
    "ecg_sampling_rate = 2000\n",
    "heart_rate_data = {}\n",
    "for column in df_ecg.columns:\n",
    "    signals = nk.ecg_process(df_ecg[column], ecg_sampling_rate)\n",
    "    heart_rate = nk.ecg_rate(signals)\n",
    "    heart_rate_data[column] = heart_rate\n",
    "print(\"Heart Rates:\")\n",
    "for column, heart_rate in heart_rate_data.items():\n",
    "    print(f\"{column}: {heart_rate.mean()} bpm\")\n",
    "\n",
    "heart_rate_df = pd.DataFrame(heart_rate_data)\n",
    "\n",
    "mean_heart_rate_per_column = heart_rate_df.mean(axis=0)\n",
    "\n",
    "print(\"Mean Heart Rate per column:\")\n",
    "print(mean_heart_rate_per_column)\n",
    "    \n",
    "    \n",
    "\n",
    "\n",
    "\n",
    "\n",
    "\n",
    "\n",
    "\n",
    "    "
   ],
   "metadata": {
    "collapsed": false,
    "ExecuteTime": {
     "start_time": "2024-05-21T12:50:04.996705100Z"
    }
   },
   "id": "35ce85ca60d480a9",
   "execution_count": null
  },
  {
   "cell_type": "code",
   "outputs": [],
   "source": [
    "nmpy"
   ],
   "metadata": {
    "collapsed": false,
    "ExecuteTime": {
     "end_time": "2024-05-21T12:50:05.002210500Z",
     "start_time": "2024-05-21T12:50:05.000704700Z"
    }
   },
   "id": "63e46591e77455c",
   "execution_count": null
  },
  {
   "cell_type": "code",
   "outputs": [],
   "source": [],
   "metadata": {
    "collapsed": false,
    "ExecuteTime": {
     "end_time": "2024-05-21T12:50:05.075499500Z",
     "start_time": "2024-05-21T12:50:05.008385200Z"
    }
   },
   "id": "df9732aa9d58f76e"
  }
 ],
 "metadata": {
  "kernelspec": {
   "display_name": "Python 3",
   "language": "python",
   "name": "python3"
  },
  "language_info": {
   "codemirror_mode": {
    "name": "ipython",
    "version": 2
   },
   "file_extension": ".py",
   "mimetype": "text/x-python",
   "name": "python",
   "nbconvert_exporter": "python",
   "pygments_lexer": "ipython2",
   "version": "2.7.6"
  }
 },
 "nbformat": 4,
 "nbformat_minor": 5
}
