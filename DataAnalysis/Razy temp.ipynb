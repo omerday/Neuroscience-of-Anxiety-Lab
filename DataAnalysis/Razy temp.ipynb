{
 "cells": [
  {
   "cell_type": "markdown",
   "source": [],
   "metadata": {
    "collapsed": false
   },
   "id": "5195c48c53d3878a"
  },
  {
   "cell_type": "code",
   "outputs": [
    {
     "name": "stdout",
     "output_type": "stream",
     "text": [
      "DataFrame for file 0:\n",
      "          ECG - ECG100C  C5 - Expression\n",
      "0             0.001373              0.0\n",
      "1             0.001068              0.0\n",
      "2             0.000763              0.0\n",
      "3             0.000610              0.0\n",
      "4             0.000305              0.0\n",
      "...                ...              ...\n",
      "6649582       0.017700              0.0\n",
      "6649583       0.015564              0.0\n",
      "6649584       0.013275              0.0\n",
      "6649585       0.010681              0.0\n",
      "6649586       0.008545              0.0\n",
      "\n",
      "[6649587 rows x 2 columns]\n",
      "DataFrame for file 1:\n",
      "          ECG - ECG100C  C5 - Expression\n",
      "0            -0.002441              0.0\n",
      "1            -0.003052              0.0\n",
      "2            -0.002289              0.0\n",
      "3            -0.002441              0.0\n",
      "4            -0.001831              0.0\n",
      "...                ...              ...\n",
      "8556913      -0.001373              0.0\n",
      "8556914      -0.000916              0.0\n",
      "8556915      -0.000916              0.0\n",
      "8556916      -0.000763              0.0\n",
      "8556917      -0.000458              0.0\n",
      "\n",
      "[8556918 rows x 2 columns]\n"
     ]
    }
   ],
   "source": [
    "import bioread\n",
    "import numpy as np\n",
    "import pandas as pd\n",
    "import heartpy as hp\n",
    "import neurokit2 as nk\n",
    "import os \n",
    "\n",
    "df_list = []\n",
    "channels_to_extract = ['ECG - ECG100C', 'C5 - Expression' ]\n",
    "directory_path = r'C:\\Users\\User\\Desktop\\NPU_FILES'\n",
    "\n",
    "for filename in os.listdir(directory_path):\n",
    "    if filename.endswith(\".acq\"):\n",
    "        file_path= os.path.join(directory_path, filename)\n",
    "        acq_file = bioread.read_file(file_path)\n",
    "        data = {}\n",
    "        for channel_name in channels_to_extract:\n",
    "            channel = acq_file.named_channels[channel_name]\n",
    "            data[channel_name] = channel.data\n",
    "\n",
    "        df = pd.DataFrame(data)\n",
    "        df_list.append(df)\n",
    "for i, df in enumerate(df_list):\n",
    "    print(f\"DataFrame for file {i}:\\n\", df)\n"
   ],
   "metadata": {
    "collapsed": false,
    "ExecuteTime": {
     "end_time": "2024-05-27T14:34:36.875290200Z",
     "start_time": "2024-05-27T14:34:19.819972600Z"
    }
   },
   "id": "8c5d0077936ee4a3",
   "execution_count": 2
  },
  {
   "cell_type": "code",
   "outputs": [],
   "source": [
    "for df in df_list:\n",
    "    df = df.dropna()\n",
    "    df = df.reset_index(drop=True)\n"
   ],
   "metadata": {
    "collapsed": false,
    "ExecuteTime": {
     "end_time": "2024-05-27T14:34:37.075128100Z",
     "start_time": "2024-05-27T14:34:36.875290200Z"
    }
   },
   "id": "445dff91fda6be38",
   "execution_count": 3
  },
  {
   "cell_type": "code",
   "outputs": [],
   "source": [
    "for df in df_list:\n",
    "    non_zero_indices = df.index[df['C5 - Expression'] != 0]\n",
    "    index_rows_to_change = []\n",
    "    for i in range(len(non_zero_indices)-1):\n",
    "        if non_zero_indices[i+1] == non_zero_indices[i]+1:\n",
    "            index_rows_to_change.append(non_zero_indices[i])\n",
    "    for index in index_rows_to_change:\n",
    "        df.loc[index, 'C5 - Expression'] = 0"
   ],
   "metadata": {
    "collapsed": false,
    "ExecuteTime": {
     "end_time": "2024-05-27T14:34:38.362074800Z",
     "start_time": "2024-05-27T14:34:37.076231400Z"
    }
   },
   "id": "2666187f86aab588",
   "execution_count": 4
  },
  {
   "cell_type": "code",
   "outputs": [
    {
     "name": "stdout",
     "output_type": "stream",
     "text": [
      "Baseline rows for DataFrame 0: [2511643, 5243759, 5478683, 5700043, 6187678]\n",
      "\n",
      "Baseline rows for DataFrame 1: [6121595]\n"
     ]
    }
   ],
   "source": [
    "baseline_row_numbers = []  \n",
    "\n",
    "for df in df_list:\n",
    "    baseline_rows = df.index[df['C5 - Expression'] == 99].tolist()\n",
    "    baseline_row_numbers.append(baseline_rows)\n",
    "\n",
    "for i, baseline_rows in enumerate(baseline_row_numbers):\n",
    "    print(f\"Baseline rows for DataFrame {i}: {baseline_rows}\\n\")"
   ],
   "metadata": {
    "collapsed": false,
    "ExecuteTime": {
     "end_time": "2024-05-27T14:37:57.994017100Z",
     "start_time": "2024-05-27T14:37:57.848890300Z"
    }
   },
   "id": "aa68ec1528484a",
   "execution_count": 6
  },
  {
   "cell_type": "code",
   "outputs": [
    {
     "name": "stdout",
     "output_type": "stream",
     "text": [
      "Extended DataFrame 0:\n",
      "[         ECG - ECG100C\n",
      "2511643      -0.014801\n",
      "2511644      -0.014343\n",
      "2511645      -0.014801\n",
      "2511646      -0.014496\n",
      "2511647      -0.014496\n",
      "...                ...\n",
      "6307673      -0.034790\n",
      "6307674      -0.035248\n",
      "6307675      -0.036163\n",
      "6307676      -0.037231\n",
      "6307677      -0.038147\n",
      "\n",
      "[600000 rows x 1 columns],          ECG - ECG100C\n",
      "6121595       0.000153\n",
      "6121596       0.000458\n",
      "6121597       0.000763\n",
      "6121598       0.000763\n",
      "6121599       0.000916\n",
      "...                ...\n",
      "6241590      -0.206909\n",
      "6241591      -0.203857\n",
      "6241592      -0.201111\n",
      "6241593      -0.198212\n",
      "6241594      -0.195007\n",
      "\n",
      "[120000 rows x 1 columns]]\n",
      "\n",
      "Extended DataFrame 1:\n",
      "[         ECG - ECG100C\n",
      "2511643      -0.014801\n",
      "2511644      -0.014343\n",
      "2511645      -0.014801\n",
      "2511646      -0.014496\n",
      "2511647      -0.014496\n",
      "...                ...\n",
      "6307673      -0.034790\n",
      "6307674      -0.035248\n",
      "6307675      -0.036163\n",
      "6307676      -0.037231\n",
      "6307677      -0.038147\n",
      "\n",
      "[600000 rows x 1 columns],          ECG - ECG100C\n",
      "6121595       0.000153\n",
      "6121596       0.000458\n",
      "6121597       0.000763\n",
      "6121598       0.000763\n",
      "6121599       0.000916\n",
      "...                ...\n",
      "6241590      -0.206909\n",
      "6241591      -0.203857\n",
      "6241592      -0.201111\n",
      "6241593      -0.198212\n",
      "6241594      -0.195007\n",
      "\n",
      "[120000 rows x 1 columns]]\n"
     ]
    }
   ],
   "source": [
    "\n",
    "baseline_minutes = []\n",
    "\n",
    "for df, baseline_rows in zip(df_list, baseline_row_numbers):\n",
    "    temp = []\n",
    "\n",
    "    for row in baseline_rows:\n",
    "        calc_minute = df.iloc[row:row + (2000 * 60)]\n",
    "        temp.append(calc_minute)\n",
    "\n",
    "    # Concatenate  into a single DataFrame\n",
    "    baseline_minute = pd.concat(temp)\n",
    "    baseline_minute = baseline_minute[['ECG - ECG100C']]\n",
    "    baseline_minutes.append(baseline_minute)\n",
    "\n",
    "# Print the extended DataFrames\n",
    "for i, extended_df in enumerate(baseline_minutes):\n",
    "    print(f\"Extended DataFrame {i}:\\n{baseline_minutes}\\n\")"
   ],
   "metadata": {
    "collapsed": false,
    "ExecuteTime": {
     "end_time": "2024-05-27T14:52:34.600153600Z",
     "start_time": "2024-05-27T14:52:34.561964100Z"
    }
   },
   "id": "de094f5e2d8c82f1",
   "execution_count": 9
  },
  {
   "cell_type": "code",
   "outputs": [],
   "source": [
    "all_baseline_arrays = []\n",
    "for df in baseline_minutes:\n",
    "    baseline_minute_array = df['ECG - ECG100C'].values.flatten()\n",
    "    all_baseline_arrays.append(baseline_minute_array)\n"
   ],
   "metadata": {
    "collapsed": false,
    "ExecuteTime": {
     "end_time": "2024-05-27T14:58:30.940351700Z",
     "start_time": "2024-05-27T14:58:30.924724300Z"
    }
   },
   "id": "651887f3d2b85836",
   "execution_count": 11
  },
  {
   "cell_type": "code",
   "outputs": [],
   "source": [
    "mean_heart_rates = []\n",
    "for array in all_baseline_arrays:\n",
    "    signals, info = nk.ecg_process(array, 2000)\n",
    "    heart_rate = signals[\"ECG_Rate\"]\n",
    "    heart_rate_mean = heart_rate.mean()\n",
    "    mean_heart_rates.append(heart_rate_mean)\n"
   ],
   "metadata": {
    "collapsed": false,
    "ExecuteTime": {
     "end_time": "2024-05-27T15:04:03.525431400Z",
     "start_time": "2024-05-27T15:03:59.860399900Z"
    }
   },
   "id": "ff300ef7aca7a521",
   "execution_count": 14
  },
  {
   "cell_type": "code",
   "outputs": [
    {
     "data": {
      "text/plain": "<Figure size 640x480 with 1 Axes>",
      "image/png": "[encoded data removed]"
     },
     "metadata": {},
     "output_type": "display_data"
    }
   ],
   "source": [
    "import matplotlib.pyplot as plt\n",
    "\n",
    "# Calculate the overall mean heart rate across all patients\n",
    "overall_mean_heart_rate = sum(mean_heart_rates) / len(mean_heart_rates)\n",
    "\n",
    "# Create a bar plot for individual mean heart rates\n",
    "plt.bar(range(len(mean_heart_rates)), mean_heart_rates, color='blue')\n",
    "plt.axhline(y=overall_mean_heart_rate, color='red', linestyle='--', label=f'Overall Mean: {overall_mean_heart_rate:.2f}')\n",
    "\n",
    "# Add labels and title\n",
    "plt.xlabel('Patient')\n",
    "plt.ylabel('Mean Heart Rate')\n",
    "plt.title('Mean Heart Rate for Each Patient')\n",
    "\n",
    "# Add legend\n",
    "plt.legend()\n",
    "\n",
    "# Show plot\n",
    "plt.show()"
   ],
   "metadata": {
    "collapsed": false,
    "ExecuteTime": {
     "end_time": "2024-05-27T15:07:50.021303600Z",
     "start_time": "2024-05-27T15:07:49.823333800Z"
    }
   },
   "id": "886cd85cc4fd557b",
   "execution_count": 16
  },
  {
   "cell_type": "code",
   "outputs": [],
   "source": [
    "# frequency-domain HRV features\n",
    "hrv_freq = nk.hrv_frequency(signals, sampling_rate=2000)\n",
    "\n",
    "lf_power = hrv_freq['HRV_LF']\n",
    "hf_power = hrv_freq['HRV_HF']\n",
    "lf_hf_ratio = hrv_freq['HRV_LFHF']\n",
    "\n",
    "print(f\"LF Power: {lf_power}\") # Low Frequency  Power\n",
    "print(f\"HF Power: {hf_power}\") # High Frequency  Power\n",
    "print(f\"LF/HF Ratio: {lf_hf_ratio}\")"
   ],
   "metadata": {
    "collapsed": false
   },
   "id": "f10ba551e06f36fe"
  },
  {
   "cell_type": "code",
   "outputs": [],
   "source": [
    "# HRV mean\n",
    "hrv_time = nk.hrv_time(signals, sampling_rate=2000)\n",
    "hrv_mean = hrv_time['HRV_MeanNN']\n",
    "print(f\"HRV Mean (MeanNN): {hrv_mean}\")"
   ],
   "metadata": {
    "collapsed": false,
    "ExecuteTime": {
     "start_time": "2024-05-27T14:34:39.054170Z"
    }
   },
   "id": "4b267bcc9d60756e",
   "execution_count": null
  },
  {
   "cell_type": "code",
   "outputs": [],
   "source": [
    "ecg_data =  {\n",
    "    \"n_cue\": [],\n",
    "    \"n_no_cue\": [],\n",
    "    \"p_cue\": [],\n",
    "    \"p_no_cue\": [],\n",
    "    \"u_cue\": [],\n",
    "    \"u_no_cue\": []\n",
    "}\n",
    "for index, row in df.iterrows():\n",
    "    value = row['C5 - Expression']\n",
    "    ecg_value = row['ECG - ECG100C']\n",
    "    \n",
    "    \n",
    "    if value == 020.0:\n",
    "        ecg_data[\"n_cue\"].append(ecg_value)\n",
    "    if value == 030.0:\n",
    "        ecg_data[\"n_no_cue\"].append(ecg_value)\n",
    "    if value == 120.0:\n",
    "        ecg_data[\"p_cue\"].append(ecg_value)\n",
    "    if value == 130.0:\n",
    "        ecg_data[\"p_no_cue\"].append(ecg_value)\n",
    "    if value == 220.0:\n",
    "        ecg_data[\"u_cue\"].append(ecg_value)\n",
    "    if value == 230.0:\n",
    "        ecg_data[\"u_no_cue\"].append(ecg_value)\n",
    "        \n",
    "max_length = max(len(ecg_data[key]) for key in ecg_data)\n",
    "for key in ecg_data:\n",
    "    while len(ecg_data[key]) < max_length:\n",
    "        ecg_data[key].append(None)\n",
    "df_ecg = pd.DataFrame(ecg_data)\n",
    "print(df_ecg)\n",
    "\n",
    "\n",
    "    \n",
    "         \n"
   ],
   "metadata": {
    "collapsed": false,
    "ExecuteTime": {
     "start_time": "2024-05-27T14:34:39.055257100Z"
    }
   },
   "id": "52738fd0a8304417",
   "execution_count": null
  },
  {
   "cell_type": "code",
   "outputs": [],
   "source": [
    "\n",
    "\n",
    "## trying with neurokit   \n",
    "ecg_sampling_rate = 2000\n",
    "heart_rate_data = {}\n",
    "for column in df_ecg.columns:\n",
    "    signals = nk.ecg_process(df_ecg[column], ecg_sampling_rate)\n",
    "    heart_rate = nk.ecg_rate(signals)\n",
    "    heart_rate_data[column] = heart_rate\n",
    "print(\"Heart Rates:\")\n",
    "for column, heart_rate in heart_rate_data.items():\n",
    "    print(f\"{column}: {heart_rate.mean()} bpm\")\n",
    "\n",
    "heart_rate_df = pd.DataFrame(heart_rate_data)\n",
    "\n",
    "mean_heart_rate_per_column = heart_rate_df.mean(axis=0)\n",
    "\n",
    "print(\"Mean Heart Rate per column:\")\n",
    "print(mean_heart_rate_per_column)\n",
    "    \n",
    "    \n",
    "\n",
    "\n",
    "\n",
    "\n",
    "\n",
    "\n",
    "\n",
    "    "
   ],
   "metadata": {
    "collapsed": false,
    "ExecuteTime": {
     "start_time": "2024-05-27T14:34:39.057393400Z"
    }
   },
   "id": "35ce85ca60d480a9",
   "execution_count": null
  }
 ],
 "metadata": {
  "kernelspec": {
   "display_name": "Python 3",
   "language": "python",
   "name": "python3"
  },
  "language_info": {
   "codemirror_mode": {
    "name": "ipython",
    "version": 2
   },
   "file_extension": ".py",
   "mimetype": "text/x-python",
   "name": "python",
   "nbconvert_exporter": "python",
   "pygments_lexer": "ipython2",
   "version": "2.7.6"
  }
 },
 "nbformat": 4,
 "nbformat_minor": 5
}
