{
 "cells": [
  {
   "cell_type": "markdown",
   "source": [],
   "metadata": {
    "collapsed": false
   },
   "id": "5195c48c53d3878a"
  },
  {
   "cell_type": "code",
   "outputs": [
    {
     "name": "stdout",
     "output_type": "stream",
     "text": [
      "         ECG - ECG100C  C5 - Expression\n",
      "0             0.000000              0.0\n",
      "1             0.000153              0.0\n",
      "2            -0.000153              0.0\n",
      "3             0.000000              0.0\n",
      "4             0.000000              0.0\n",
      "...                ...              ...\n",
      "3132788      -0.097656              0.0\n",
      "3132789      -0.100098              0.0\n",
      "3132790      -0.102539              0.0\n",
      "3132791      -0.105438              0.0\n",
      "3132792      -0.109253              0.0\n",
      "\n",
      "[3132793 rows x 2 columns]\n"
     ]
    }
   ],
   "source": [
    "import bioread\n",
    "import numpy as np\n",
    "import pandas as pd\n",
    "import heartpy as hp\n",
    "import neurokit2 as nk\n",
    "\n",
    "acq_file = bioread.read_file(r'C:\\Users\\User\\Downloads\\80_28.1.24 (NPU_template).acq')\n",
    "\n",
    "channels_to_extract = ['ECG - ECG100C', 'C5 - Expression' ]\n",
    "data = {}\n",
    "for channel_name in channels_to_extract:\n",
    "    channel = acq_file.named_channels[channel_name]\n",
    "    data[channel_name] = channel.data\n",
    "\n",
    "df = pd.DataFrame(data)\n",
    "print(df)\n"
   ],
   "metadata": {
    "collapsed": false,
    "ExecuteTime": {
     "end_time": "2024-05-21T16:21:51.358981900Z",
     "start_time": "2024-05-21T16:21:46.614818700Z"
    }
   },
   "id": "8c5d0077936ee4a3",
   "execution_count": 2
  },
  {
   "cell_type": "code",
   "outputs": [],
   "source": [
    "df = df.dropna()\n",
    "df = df.reset_index(drop=True)\n"
   ],
   "metadata": {
    "collapsed": false,
    "ExecuteTime": {
     "end_time": "2024-05-21T16:21:51.438185900Z",
     "start_time": "2024-05-21T16:21:51.365498Z"
    }
   },
   "id": "445dff91fda6be38",
   "execution_count": 3
  },
  {
   "cell_type": "code",
   "outputs": [],
   "source": [
    "non_zero_indices = df.index[df['C5 - Expression'] != 0]\n",
    "index_rows_to_change = []\n",
    "for i in range(len(non_zero_indices)-1):\n",
    "    if non_zero_indices[i+1] == non_zero_indices[i]+1:\n",
    "        index_rows_to_change.append(non_zero_indices[i])\n",
    "for index in index_rows_to_change:\n",
    "    df.loc[index, 'C5 - Expression'] = 0"
   ],
   "metadata": {
    "collapsed": false,
    "ExecuteTime": {
     "end_time": "2024-05-21T16:21:51.858852200Z",
     "start_time": "2024-05-21T16:21:51.440441800Z"
    }
   },
   "id": "2666187f86aab588",
   "execution_count": 4
  },
  {
   "cell_type": "code",
   "outputs": [
    {
     "name": "stdout",
     "output_type": "stream",
     "text": [
      "         ECG - ECG100C  C5 - Expression\n",
      "0             0.000000              0.0\n",
      "1             0.000153              0.0\n",
      "2            -0.000153              0.0\n",
      "3             0.000000              0.0\n",
      "4             0.000000              0.0\n",
      "...                ...              ...\n",
      "3132788      -0.097656              0.0\n",
      "3132789      -0.100098              0.0\n",
      "3132790      -0.102539              0.0\n",
      "3132791      -0.105438              0.0\n",
      "3132792      -0.109253              0.0\n",
      "\n",
      "[3132793 rows x 2 columns]\n"
     ]
    }
   ],
   "source": [
    "print(df)"
   ],
   "metadata": {
    "collapsed": false,
    "ExecuteTime": {
     "end_time": "2024-05-21T16:21:51.878147400Z",
     "start_time": "2024-05-21T16:21:51.865153800Z"
    }
   },
   "id": "f571241d7bd2ee9e",
   "execution_count": 5
  },
  {
   "cell_type": "code",
   "outputs": [
    {
     "name": "stdout",
     "output_type": "stream",
     "text": [
      "481122    0.016327\n",
      "Name: ECG - ECG100C, dtype: float64\n"
     ]
    }
   ],
   "source": [
    "df_baseline = df['ECG - ECG100C'][df['C5 - Expression']==99]\n",
    "\n",
    "print(df_baseline)"
   ],
   "metadata": {
    "collapsed": false,
    "ExecuteTime": {
     "end_time": "2024-05-21T16:21:51.920557800Z",
     "start_time": "2024-05-21T16:21:51.878147400Z"
    }
   },
   "id": "a48361d959697e78",
   "execution_count": 6
  },
  {
   "cell_type": "code",
   "outputs": [
    {
     "name": "stdout",
     "output_type": "stream",
     "text": [
      "        ECG - ECG100C\n",
      "481122       0.016327\n",
      "481123       0.016632\n",
      "481124       0.017548\n",
      "481125       0.017548\n",
      "481126       0.018463\n",
      "...               ...\n",
      "601117      -0.069733\n",
      "601118      -0.070953\n",
      "601119      -0.071259\n",
      "601120      -0.072021\n",
      "601121      -0.072632\n",
      "\n",
      "[120000 rows x 1 columns]\n"
     ]
    }
   ],
   "source": [
    "df_baseline_minute = pd.DataFrame()\n",
    "for index in df_baseline.index:\n",
    "    df_slice = df['ECG - ECG100C'].iloc[index : index + 2000 * 60]\n",
    "    df_slice = df_slice.to_frame(name='ECG - ECG100C')\n",
    "    df_baseline_minute = pd.concat([df_baseline_minute, df_slice])\n",
    "print(df_baseline_minute)"
   ],
   "metadata": {
    "collapsed": false,
    "ExecuteTime": {
     "end_time": "2024-05-21T16:21:51.922737800Z",
     "start_time": "2024-05-21T16:21:51.910947100Z"
    }
   },
   "id": "7a7ef8e45d63831d",
   "execution_count": 7
  },
  {
   "cell_type": "code",
   "outputs": [
    {
     "name": "stdout",
     "output_type": "stream",
     "text": [
      "[ 0.0163269   0.01663208  0.01754761 ... -0.07125854 -0.07202148\n",
      " -0.07263184]\n"
     ]
    }
   ],
   "source": [
    "baseline_minute_array = df_baseline_minute['ECG - ECG100C'].values.flatten()\n",
    "print(baseline_minute_array)"
   ],
   "metadata": {
    "collapsed": false,
    "ExecuteTime": {
     "end_time": "2024-05-21T16:21:52.017450500Z",
     "start_time": "2024-05-21T16:21:51.924805900Z"
    }
   },
   "id": "651887f3d2b85836",
   "execution_count": 8
  },
  {
   "cell_type": "code",
   "outputs": [
    {
     "name": "stdout",
     "output_type": "stream",
     "text": [
      "         ECG_Raw  ECG_Clean   ECG_Rate  ECG_Quality  ECG_R_Peaks  ECG_P_Peaks  \\\n",
      "0       0.016327   0.000721  53.073401     0.881548            0            0   \n",
      "1       0.016632   0.001131  53.073401     0.881548            0            0   \n",
      "2       0.017548   0.001542  53.073401     0.881548            0            0   \n",
      "3       0.017548   0.001951  53.073401     0.881548            0            0   \n",
      "4       0.018463   0.002359  53.073401     0.881548            0            0   \n",
      "...          ...        ...        ...          ...          ...          ...   \n",
      "119995 -0.069733   0.019685  46.893318     0.000000            0            0   \n",
      "119996 -0.070953   0.019029  46.893318     0.000000            0            0   \n",
      "119997 -0.071259   0.018369  46.893318     0.000000            0            0   \n",
      "119998 -0.072021   0.017706  46.893318     0.000000            0            0   \n",
      "119999 -0.072632   0.017043  46.893318     0.000000            0            0   \n",
      "\n",
      "        ECG_P_Onsets  ECG_P_Offsets  ECG_Q_Peaks  ECG_R_Onsets  ECG_R_Offsets  \\\n",
      "0                  0              0            0             0              0   \n",
      "1                  0              0            0             0              0   \n",
      "2                  0              0            0             0              0   \n",
      "3                  0              0            0             0              0   \n",
      "4                  0              0            0             0              0   \n",
      "...              ...            ...          ...           ...            ...   \n",
      "119995             0              0            0             0              0   \n",
      "119996             0              0            0             0              0   \n",
      "119997             0              0            0             0              0   \n",
      "119998             0              0            0             0              0   \n",
      "119999             0              0            0             0              0   \n",
      "\n",
      "        ECG_S_Peaks  ECG_T_Peaks  ECG_T_Onsets  ECG_T_Offsets  \\\n",
      "0                 0            0             0              0   \n",
      "1                 0            0             0              0   \n",
      "2                 0            0             0              0   \n",
      "3                 0            0             0              0   \n",
      "4                 0            0             0              0   \n",
      "...             ...          ...           ...            ...   \n",
      "119995            0            0             0              0   \n",
      "119996            0            0             0              0   \n",
      "119997            0            0             0              0   \n",
      "119998            0            0             0              0   \n",
      "119999            0            0             0              0   \n",
      "\n",
      "        ECG_Phase_Atrial  ECG_Phase_Completion_Atrial  ECG_Phase_Ventricular  \\\n",
      "0                    NaN                          0.0                    NaN   \n",
      "1                    NaN                          0.0                    NaN   \n",
      "2                    NaN                          0.0                    NaN   \n",
      "3                    NaN                          0.0                    NaN   \n",
      "4                    NaN                          0.0                    NaN   \n",
      "...                  ...                          ...                    ...   \n",
      "119995               NaN                          0.0                    NaN   \n",
      "119996               NaN                          0.0                    NaN   \n",
      "119997               NaN                          0.0                    NaN   \n",
      "119998               NaN                          0.0                    NaN   \n",
      "119999               NaN                          0.0                    NaN   \n",
      "\n",
      "        ECG_Phase_Completion_Ventricular  \n",
      "0                                    0.0  \n",
      "1                                    0.0  \n",
      "2                                    0.0  \n",
      "3                                    0.0  \n",
      "4                                    0.0  \n",
      "...                                  ...  \n",
      "119995                               0.0  \n",
      "119996                               0.0  \n",
      "119997                               0.0  \n",
      "119998                               0.0  \n",
      "119999                               0.0  \n",
      "\n",
      "[120000 rows x 19 columns]\n"
     ]
    }
   ],
   "source": [
    "\n",
    "signals, info = nk.ecg_process(baseline_minute_array, 2000)\n",
    "print(signals)\n"
   ],
   "metadata": {
    "collapsed": false,
    "ExecuteTime": {
     "end_time": "2024-05-21T16:32:42.418655600Z",
     "start_time": "2024-05-21T16:32:41.570721900Z"
    }
   },
   "id": "ff300ef7aca7a521",
   "execution_count": 17
  },
  {
   "cell_type": "code",
   "outputs": [
    {
     "name": "stdout",
     "output_type": "stream",
     "text": [
      "LF Power: 0    0.045129\n",
      "Name: HRV_LF, dtype: float64\n",
      "HF Power: 0    0.078333\n",
      "Name: HRV_HF, dtype: float64\n",
      "LF/HF Ratio: 0    0.576117\n",
      "Name: HRV_LFHF, dtype: float64\n"
     ]
    }
   ],
   "source": [
    "# frequency-domain HRV features\n",
    "hrv_freq = nk.hrv_frequency(signals, sampling_rate=2000)\n",
    "\n",
    "lf_power = hrv_freq['HRV_LF']\n",
    "hf_power = hrv_freq['HRV_HF']\n",
    "lf_hf_ratio = hrv_freq['HRV_LFHF']\n",
    "\n",
    "print(f\"LF Power: {lf_power}\") # Low Frequency  Power\n",
    "print(f\"HF Power: {hf_power}\") # High Frequency  Power\n",
    "print(f\"LF/HF Ratio: {lf_hf_ratio}\")"
   ],
   "metadata": {
    "collapsed": false,
    "ExecuteTime": {
     "end_time": "2024-05-21T16:25:48.533175200Z",
     "start_time": "2024-05-21T16:25:48.502876600Z"
    }
   },
   "id": "ac5755eb08446978",
   "execution_count": 13
  },
  {
   "cell_type": "code",
   "outputs": [
    {
     "name": "stdout",
     "output_type": "stream",
     "text": [
      "Heart Rate Mean: 53.077959083389864\n"
     ]
    }
   ],
   "source": [
    "# Heart rate mean \n",
    "heart_rate = signals[\"ECG_Rate\"]\n",
    "heart_rate_mean = heart_rate.mean()\n",
    "print(f\"Heart Rate Mean: {heart_rate_mean}\")"
   ],
   "metadata": {
    "collapsed": false,
    "ExecuteTime": {
     "end_time": "2024-05-21T16:28:13.323314500Z",
     "start_time": "2024-05-21T16:28:13.295649800Z"
    }
   },
   "id": "213f6c8848bdf214",
   "execution_count": 14
  },
  {
   "cell_type": "code",
   "outputs": [
    {
     "name": "stdout",
     "output_type": "stream",
     "text": [
      "HRV Mean (MeanNN): 0    1130.509804\n",
      "Name: HRV_MeanNN, dtype: float64\n"
     ]
    }
   ],
   "source": [
    "# HRV mean\n",
    "hrv_time = nk.hrv_time(signals, sampling_rate=2000)\n",
    "hrv_mean = hrv_time['HRV_MeanNN']\n",
    "print(f\"HRV Mean (MeanNN): {hrv_mean}\")"
   ],
   "metadata": {
    "collapsed": false,
    "ExecuteTime": {
     "end_time": "2024-05-21T16:30:13.150806500Z",
     "start_time": "2024-05-21T16:30:13.118732300Z"
    }
   },
   "id": "4b267bcc9d60756e",
   "execution_count": 16
  },
  {
   "cell_type": "code",
   "outputs": [
    {
     "name": "stdout",
     "output_type": "stream",
     "text": [
      "       n_cue  n_no_cue     p_cue  p_no_cue     u_cue  u_no_cue\n",
      "0  -0.048065 -0.008698 -0.004578  0.016174  0.102844 -0.026703\n",
      "1  -0.019684  0.130157 -0.006866 -0.040588  0.067291 -0.094452\n",
      "2  -0.026398 -0.010529  0.030975 -0.038300 -0.004425 -0.044556\n",
      "3  -0.152893  0.074768 -0.047150 -0.041046 -0.025482 -0.048828\n",
      "4  -0.028381  1.200714  0.029297 -0.042725 -0.053406  0.059814\n",
      "5  -0.014648 -0.022430 -0.019989 -0.561829 -0.009155  0.146790\n",
      "6   0.114136  0.104828       NaN -0.021210       NaN -0.041046\n",
      "7  -0.020294  0.016479       NaN -0.087585       NaN -0.053253\n",
      "8  -0.012054 -0.007782       NaN       NaN       NaN       NaN\n",
      "9        NaN -0.016785       NaN       NaN       NaN       NaN\n",
      "10       NaN  0.139313       NaN       NaN       NaN       NaN\n",
      "11       NaN  0.013428       NaN       NaN       NaN       NaN\n"
     ]
    }
   ],
   "source": [
    "ecg_data =  {\n",
    "    \"n_cue\": [],\n",
    "    \"n_no_cue\": [],\n",
    "    \"p_cue\": [],\n",
    "    \"p_no_cue\": [],\n",
    "    \"u_cue\": [],\n",
    "    \"u_no_cue\": []\n",
    "}\n",
    "for index, row in df.iterrows():\n",
    "    value = row['C5 - Expression']\n",
    "    ecg_value = row['ECG - ECG100C']\n",
    "    \n",
    "    \n",
    "    if value == 020.0:\n",
    "        ecg_data[\"n_cue\"].append(ecg_value)\n",
    "    if value == 030.0:\n",
    "        ecg_data[\"n_no_cue\"].append(ecg_value)\n",
    "    if value == 120.0:\n",
    "        ecg_data[\"p_cue\"].append(ecg_value)\n",
    "    if value == 130.0:\n",
    "        ecg_data[\"p_no_cue\"].append(ecg_value)\n",
    "    if value == 220.0:\n",
    "        ecg_data[\"u_cue\"].append(ecg_value)\n",
    "    if value == 230.0:\n",
    "        ecg_data[\"u_no_cue\"].append(ecg_value)\n",
    "        \n",
    "max_length = max(len(ecg_data[key]) for key in ecg_data)\n",
    "for key in ecg_data:\n",
    "    while len(ecg_data[key]) < max_length:\n",
    "        ecg_data[key].append(None)\n",
    "df_ecg = pd.DataFrame(ecg_data)\n",
    "print(df_ecg)\n",
    "\n",
    "\n",
    "    \n",
    "         \n"
   ],
   "metadata": {
    "collapsed": false,
    "ExecuteTime": {
     "end_time": "2024-05-21T16:23:17.052169800Z",
     "start_time": "2024-05-21T16:21:52.777907100Z"
    }
   },
   "id": "52738fd0a8304417",
   "execution_count": 11
  },
  {
   "cell_type": "code",
   "outputs": [
    {
     "name": "stderr",
     "output_type": "stream",
     "text": [
      "c:\\users\\user\\appdata\\local\\programs\\python\\python38\\lib\\site-packages\\neurokit2\\ecg\\ecg_clean.py:101: NeuroKitWarning: There are 3 missing data points in your signal. Filling missing values by using the forward filling method.\n",
      "  warn(\n",
      "c:\\users\\user\\appdata\\local\\programs\\python\\python38\\lib\\site-packages\\neurokit2\\ecg\\ecg_clean.py:153: FutureWarning: DataFrame.pad/Series.pad is deprecated. Use DataFrame.ffill/Series.ffill instead\n",
      "  ecg_signal = pd.DataFrame.pad(pd.Series(ecg_signal))\n"
     ]
    },
    {
     "ename": "ValueError",
     "evalue": "The length of the input vector x must be greater than padlen, which is 18.",
     "output_type": "error",
     "traceback": [
      "\u001B[1;31m---------------------------------------------------------------------------\u001B[0m",
      "\u001B[1;31mValueError\u001B[0m                                Traceback (most recent call last)",
      "Cell \u001B[1;32mIn[12], line 5\u001B[0m\n\u001B[0;32m      3\u001B[0m heart_rate_data \u001B[38;5;241m=\u001B[39m {}\n\u001B[0;32m      4\u001B[0m \u001B[38;5;28;01mfor\u001B[39;00m column \u001B[38;5;129;01min\u001B[39;00m df_ecg\u001B[38;5;241m.\u001B[39mcolumns:\n\u001B[1;32m----> 5\u001B[0m     signals \u001B[38;5;241m=\u001B[39m \u001B[43mnk\u001B[49m\u001B[38;5;241;43m.\u001B[39;49m\u001B[43mecg_process\u001B[49m\u001B[43m(\u001B[49m\u001B[43mdf_ecg\u001B[49m\u001B[43m[\u001B[49m\u001B[43mcolumn\u001B[49m\u001B[43m]\u001B[49m\u001B[43m,\u001B[49m\u001B[43m \u001B[49m\u001B[43mecg_sampling_rate\u001B[49m\u001B[43m)\u001B[49m\n\u001B[0;32m      6\u001B[0m     heart_rate \u001B[38;5;241m=\u001B[39m nk\u001B[38;5;241m.\u001B[39mecg_rate(signals)\n\u001B[0;32m      7\u001B[0m     heart_rate_data[column] \u001B[38;5;241m=\u001B[39m heart_rate\n",
      "File \u001B[1;32mc:\\users\\user\\appdata\\local\\programs\\python\\python38\\lib\\site-packages\\neurokit2\\ecg\\ecg_process.py:95\u001B[0m, in \u001B[0;36mecg_process\u001B[1;34m(ecg_signal, sampling_rate, method)\u001B[0m\n\u001B[0;32m     93\u001B[0m \u001B[38;5;66;03m# Sanitize and clean input\u001B[39;00m\n\u001B[0;32m     94\u001B[0m ecg_signal \u001B[38;5;241m=\u001B[39m signal_sanitize(ecg_signal)\n\u001B[1;32m---> 95\u001B[0m ecg_cleaned \u001B[38;5;241m=\u001B[39m \u001B[43mecg_clean\u001B[49m\u001B[43m(\u001B[49m\u001B[43mecg_signal\u001B[49m\u001B[43m,\u001B[49m\u001B[43m \u001B[49m\u001B[43msampling_rate\u001B[49m\u001B[38;5;241;43m=\u001B[39;49m\u001B[43msampling_rate\u001B[49m\u001B[43m,\u001B[49m\u001B[43m \u001B[49m\u001B[43mmethod\u001B[49m\u001B[38;5;241;43m=\u001B[39;49m\u001B[43mmethod\u001B[49m\u001B[43m)\u001B[49m\n\u001B[0;32m     97\u001B[0m \u001B[38;5;66;03m# Detect R-peaks\u001B[39;00m\n\u001B[0;32m     98\u001B[0m instant_peaks, info \u001B[38;5;241m=\u001B[39m ecg_peaks(\n\u001B[0;32m     99\u001B[0m     ecg_cleaned\u001B[38;5;241m=\u001B[39mecg_cleaned,\n\u001B[0;32m    100\u001B[0m     sampling_rate\u001B[38;5;241m=\u001B[39msampling_rate,\n\u001B[0;32m    101\u001B[0m     method\u001B[38;5;241m=\u001B[39mmethod,\n\u001B[0;32m    102\u001B[0m     correct_artifacts\u001B[38;5;241m=\u001B[39m\u001B[38;5;28;01mTrue\u001B[39;00m,\n\u001B[0;32m    103\u001B[0m )\n",
      "File \u001B[1;32mc:\\users\\user\\appdata\\local\\programs\\python\\python38\\lib\\site-packages\\neurokit2\\ecg\\ecg_clean.py:110\u001B[0m, in \u001B[0;36mecg_clean\u001B[1;34m(ecg_signal, sampling_rate, method, **kwargs)\u001B[0m\n\u001B[0;32m    108\u001B[0m method \u001B[38;5;241m=\u001B[39m method\u001B[38;5;241m.\u001B[39mlower()  \u001B[38;5;66;03m# remove capitalised letters\u001B[39;00m\n\u001B[0;32m    109\u001B[0m \u001B[38;5;28;01mif\u001B[39;00m method \u001B[38;5;129;01min\u001B[39;00m [\u001B[38;5;124m\"\u001B[39m\u001B[38;5;124mnk\u001B[39m\u001B[38;5;124m\"\u001B[39m, \u001B[38;5;124m\"\u001B[39m\u001B[38;5;124mnk2\u001B[39m\u001B[38;5;124m\"\u001B[39m, \u001B[38;5;124m\"\u001B[39m\u001B[38;5;124mneurokit\u001B[39m\u001B[38;5;124m\"\u001B[39m, \u001B[38;5;124m\"\u001B[39m\u001B[38;5;124mneurokit2\u001B[39m\u001B[38;5;124m\"\u001B[39m]:\n\u001B[1;32m--> 110\u001B[0m     clean \u001B[38;5;241m=\u001B[39m \u001B[43m_ecg_clean_nk\u001B[49m\u001B[43m(\u001B[49m\u001B[43mecg_signal\u001B[49m\u001B[43m,\u001B[49m\u001B[43m \u001B[49m\u001B[43msampling_rate\u001B[49m\u001B[43m,\u001B[49m\u001B[43m \u001B[49m\u001B[38;5;241;43m*\u001B[39;49m\u001B[38;5;241;43m*\u001B[39;49m\u001B[43mkwargs\u001B[49m\u001B[43m)\u001B[49m\n\u001B[0;32m    111\u001B[0m \u001B[38;5;28;01melif\u001B[39;00m method \u001B[38;5;129;01min\u001B[39;00m [\u001B[38;5;124m\"\u001B[39m\u001B[38;5;124mbiosppy\u001B[39m\u001B[38;5;124m\"\u001B[39m, \u001B[38;5;124m\"\u001B[39m\u001B[38;5;124mgamboa2008\u001B[39m\u001B[38;5;124m\"\u001B[39m]:\n\u001B[0;32m    112\u001B[0m     clean \u001B[38;5;241m=\u001B[39m _ecg_clean_biosppy(ecg_signal, sampling_rate)\n",
      "File \u001B[1;32mc:\\users\\user\\appdata\\local\\programs\\python\\python38\\lib\\site-packages\\neurokit2\\ecg\\ecg_clean.py:163\u001B[0m, in \u001B[0;36m_ecg_clean_nk\u001B[1;34m(ecg_signal, sampling_rate, **kwargs)\u001B[0m\n\u001B[0;32m    161\u001B[0m \u001B[38;5;28;01mdef\u001B[39;00m \u001B[38;5;21m_ecg_clean_nk\u001B[39m(ecg_signal, sampling_rate\u001B[38;5;241m=\u001B[39m\u001B[38;5;241m1000\u001B[39m, \u001B[38;5;241m*\u001B[39m\u001B[38;5;241m*\u001B[39mkwargs):\n\u001B[0;32m    162\u001B[0m     \u001B[38;5;66;03m# Remove slow drift and dc offset with highpass Butterworth.\u001B[39;00m\n\u001B[1;32m--> 163\u001B[0m     clean \u001B[38;5;241m=\u001B[39m \u001B[43msignal_filter\u001B[49m\u001B[43m(\u001B[49m\n\u001B[0;32m    164\u001B[0m \u001B[43m        \u001B[49m\u001B[43msignal\u001B[49m\u001B[38;5;241;43m=\u001B[39;49m\u001B[43mecg_signal\u001B[49m\u001B[43m,\u001B[49m\n\u001B[0;32m    165\u001B[0m \u001B[43m        \u001B[49m\u001B[43msampling_rate\u001B[49m\u001B[38;5;241;43m=\u001B[39;49m\u001B[43msampling_rate\u001B[49m\u001B[43m,\u001B[49m\n\u001B[0;32m    166\u001B[0m \u001B[43m        \u001B[49m\u001B[43mlowcut\u001B[49m\u001B[38;5;241;43m=\u001B[39;49m\u001B[38;5;241;43m0.5\u001B[39;49m\u001B[43m,\u001B[49m\n\u001B[0;32m    167\u001B[0m \u001B[43m        \u001B[49m\u001B[43mmethod\u001B[49m\u001B[38;5;241;43m=\u001B[39;49m\u001B[38;5;124;43m\"\u001B[39;49m\u001B[38;5;124;43mbutterworth\u001B[39;49m\u001B[38;5;124;43m\"\u001B[39;49m\u001B[43m,\u001B[49m\n\u001B[0;32m    168\u001B[0m \u001B[43m        \u001B[49m\u001B[43morder\u001B[49m\u001B[38;5;241;43m=\u001B[39;49m\u001B[38;5;241;43m5\u001B[39;49m\u001B[43m,\u001B[49m\n\u001B[0;32m    169\u001B[0m \u001B[43m    \u001B[49m\u001B[43m)\u001B[49m\n\u001B[0;32m    171\u001B[0m     clean \u001B[38;5;241m=\u001B[39m signal_filter(\n\u001B[0;32m    172\u001B[0m         signal\u001B[38;5;241m=\u001B[39mclean, sampling_rate\u001B[38;5;241m=\u001B[39msampling_rate, method\u001B[38;5;241m=\u001B[39m\u001B[38;5;124m\"\u001B[39m\u001B[38;5;124mpowerline\u001B[39m\u001B[38;5;124m\"\u001B[39m, \u001B[38;5;241m*\u001B[39m\u001B[38;5;241m*\u001B[39mkwargs\n\u001B[0;32m    173\u001B[0m     )\n\u001B[0;32m    174\u001B[0m     \u001B[38;5;28;01mreturn\u001B[39;00m clean\n",
      "File \u001B[1;32mc:\\users\\user\\appdata\\local\\programs\\python\\python38\\lib\\site-packages\\neurokit2\\signal\\signal_filter.py:160\u001B[0m, in \u001B[0;36msignal_filter\u001B[1;34m(signal, sampling_rate, lowcut, highcut, method, order, window_size, powerline, show)\u001B[0m\n\u001B[0;32m    157\u001B[0m     \u001B[38;5;28;01mraise\u001B[39;00m \u001B[38;5;167;01mValueError\u001B[39;00m(\u001B[38;5;124m\"\u001B[39m\u001B[38;5;124mNeuroKit error: signal_filter(): you need to specify a \u001B[39m\u001B[38;5;124m'\u001B[39m\u001B[38;5;124mlowcut\u001B[39m\u001B[38;5;124m'\u001B[39m\u001B[38;5;124m or a \u001B[39m\u001B[38;5;124m'\u001B[39m\u001B[38;5;124mhighcut\u001B[39m\u001B[38;5;124m'\u001B[39m\u001B[38;5;124m.\u001B[39m\u001B[38;5;124m\"\u001B[39m)\n\u001B[0;32m    159\u001B[0m \u001B[38;5;28;01mif\u001B[39;00m method \u001B[38;5;129;01min\u001B[39;00m [\u001B[38;5;124m\"\u001B[39m\u001B[38;5;124mbutter\u001B[39m\u001B[38;5;124m\"\u001B[39m, \u001B[38;5;124m\"\u001B[39m\u001B[38;5;124mbutterworth\u001B[39m\u001B[38;5;124m\"\u001B[39m]:\n\u001B[1;32m--> 160\u001B[0m     filtered \u001B[38;5;241m=\u001B[39m \u001B[43m_signal_filter_butterworth\u001B[49m\u001B[43m(\u001B[49m\u001B[43msignal_sanitized\u001B[49m\u001B[43m,\u001B[49m\u001B[43m \u001B[49m\u001B[43msampling_rate\u001B[49m\u001B[43m,\u001B[49m\u001B[43m \u001B[49m\u001B[43mlowcut\u001B[49m\u001B[43m,\u001B[49m\u001B[43m \u001B[49m\u001B[43mhighcut\u001B[49m\u001B[43m,\u001B[49m\u001B[43m \u001B[49m\u001B[43morder\u001B[49m\u001B[43m)\u001B[49m\n\u001B[0;32m    161\u001B[0m \u001B[38;5;28;01melif\u001B[39;00m method \u001B[38;5;129;01min\u001B[39;00m [\u001B[38;5;124m\"\u001B[39m\u001B[38;5;124mbutter_ba\u001B[39m\u001B[38;5;124m\"\u001B[39m, \u001B[38;5;124m\"\u001B[39m\u001B[38;5;124mbutterworth_ba\u001B[39m\u001B[38;5;124m\"\u001B[39m]:\n\u001B[0;32m    162\u001B[0m     filtered \u001B[38;5;241m=\u001B[39m _signal_filter_butterworth_ba(signal_sanitized, sampling_rate, lowcut, highcut, order)\n",
      "File \u001B[1;32mc:\\users\\user\\appdata\\local\\programs\\python\\python38\\lib\\site-packages\\neurokit2\\signal\\signal_filter.py:249\u001B[0m, in \u001B[0;36m_signal_filter_butterworth\u001B[1;34m(signal, sampling_rate, lowcut, highcut, order)\u001B[0m\n\u001B[0;32m    247\u001B[0m freqs, filter_type \u001B[38;5;241m=\u001B[39m _signal_filter_sanitize(lowcut\u001B[38;5;241m=\u001B[39mlowcut, highcut\u001B[38;5;241m=\u001B[39mhighcut, sampling_rate\u001B[38;5;241m=\u001B[39msampling_rate)\n\u001B[0;32m    248\u001B[0m sos \u001B[38;5;241m=\u001B[39m scipy\u001B[38;5;241m.\u001B[39msignal\u001B[38;5;241m.\u001B[39mbutter(order, freqs, btype\u001B[38;5;241m=\u001B[39mfilter_type, output\u001B[38;5;241m=\u001B[39m\u001B[38;5;124m\"\u001B[39m\u001B[38;5;124msos\u001B[39m\u001B[38;5;124m\"\u001B[39m, fs\u001B[38;5;241m=\u001B[39msampling_rate)\n\u001B[1;32m--> 249\u001B[0m filtered \u001B[38;5;241m=\u001B[39m \u001B[43mscipy\u001B[49m\u001B[38;5;241;43m.\u001B[39;49m\u001B[43msignal\u001B[49m\u001B[38;5;241;43m.\u001B[39;49m\u001B[43msosfiltfilt\u001B[49m\u001B[43m(\u001B[49m\u001B[43msos\u001B[49m\u001B[43m,\u001B[49m\u001B[43m \u001B[49m\u001B[43msignal\u001B[49m\u001B[43m)\u001B[49m\n\u001B[0;32m    250\u001B[0m \u001B[38;5;28;01mreturn\u001B[39;00m filtered\n",
      "File \u001B[1;32mc:\\users\\user\\appdata\\local\\programs\\python\\python38\\lib\\site-packages\\scipy\\signal\\_signaltools.py:4411\u001B[0m, in \u001B[0;36msosfiltfilt\u001B[1;34m(sos, x, axis, padtype, padlen)\u001B[0m\n\u001B[0;32m   4409\u001B[0m ntaps \u001B[38;5;241m=\u001B[39m \u001B[38;5;241m2\u001B[39m \u001B[38;5;241m*\u001B[39m n_sections \u001B[38;5;241m+\u001B[39m \u001B[38;5;241m1\u001B[39m\n\u001B[0;32m   4410\u001B[0m ntaps \u001B[38;5;241m-\u001B[39m\u001B[38;5;241m=\u001B[39m \u001B[38;5;28mmin\u001B[39m((sos[:, \u001B[38;5;241m2\u001B[39m] \u001B[38;5;241m==\u001B[39m \u001B[38;5;241m0\u001B[39m)\u001B[38;5;241m.\u001B[39msum(), (sos[:, \u001B[38;5;241m5\u001B[39m] \u001B[38;5;241m==\u001B[39m \u001B[38;5;241m0\u001B[39m)\u001B[38;5;241m.\u001B[39msum())\n\u001B[1;32m-> 4411\u001B[0m edge, ext \u001B[38;5;241m=\u001B[39m \u001B[43m_validate_pad\u001B[49m\u001B[43m(\u001B[49m\u001B[43mpadtype\u001B[49m\u001B[43m,\u001B[49m\u001B[43m \u001B[49m\u001B[43mpadlen\u001B[49m\u001B[43m,\u001B[49m\u001B[43m \u001B[49m\u001B[43mx\u001B[49m\u001B[43m,\u001B[49m\u001B[43m \u001B[49m\u001B[43maxis\u001B[49m\u001B[43m,\u001B[49m\n\u001B[0;32m   4412\u001B[0m \u001B[43m                          \u001B[49m\u001B[43mntaps\u001B[49m\u001B[38;5;241;43m=\u001B[39;49m\u001B[43mntaps\u001B[49m\u001B[43m)\u001B[49m\n\u001B[0;32m   4414\u001B[0m \u001B[38;5;66;03m# These steps follow the same form as filtfilt with modifications\u001B[39;00m\n\u001B[0;32m   4415\u001B[0m zi \u001B[38;5;241m=\u001B[39m sosfilt_zi(sos)  \u001B[38;5;66;03m# shape (n_sections, 2) --> (n_sections, ..., 2, ...)\u001B[39;00m\n",
      "File \u001B[1;32mc:\\users\\user\\appdata\\local\\programs\\python\\python38\\lib\\site-packages\\scipy\\signal\\_signaltools.py:4180\u001B[0m, in \u001B[0;36m_validate_pad\u001B[1;34m(padtype, padlen, x, axis, ntaps)\u001B[0m\n\u001B[0;32m   4178\u001B[0m \u001B[38;5;66;03m# x's 'axis' dimension must be bigger than edge.\u001B[39;00m\n\u001B[0;32m   4179\u001B[0m \u001B[38;5;28;01mif\u001B[39;00m x\u001B[38;5;241m.\u001B[39mshape[axis] \u001B[38;5;241m<\u001B[39m\u001B[38;5;241m=\u001B[39m edge:\n\u001B[1;32m-> 4180\u001B[0m     \u001B[38;5;28;01mraise\u001B[39;00m \u001B[38;5;167;01mValueError\u001B[39;00m(\u001B[38;5;124m\"\u001B[39m\u001B[38;5;124mThe length of the input vector x must be greater \u001B[39m\u001B[38;5;124m\"\u001B[39m\n\u001B[0;32m   4181\u001B[0m                      \u001B[38;5;124m\"\u001B[39m\u001B[38;5;124mthan padlen, which is \u001B[39m\u001B[38;5;132;01m%d\u001B[39;00m\u001B[38;5;124m.\u001B[39m\u001B[38;5;124m\"\u001B[39m \u001B[38;5;241m%\u001B[39m edge)\n\u001B[0;32m   4183\u001B[0m \u001B[38;5;28;01mif\u001B[39;00m padtype \u001B[38;5;129;01mis\u001B[39;00m \u001B[38;5;129;01mnot\u001B[39;00m \u001B[38;5;28;01mNone\u001B[39;00m \u001B[38;5;129;01mand\u001B[39;00m edge \u001B[38;5;241m>\u001B[39m \u001B[38;5;241m0\u001B[39m:\n\u001B[0;32m   4184\u001B[0m     \u001B[38;5;66;03m# Make an extension of length `edge` at each\u001B[39;00m\n\u001B[0;32m   4185\u001B[0m     \u001B[38;5;66;03m# end of the input array.\u001B[39;00m\n\u001B[0;32m   4186\u001B[0m     \u001B[38;5;28;01mif\u001B[39;00m padtype \u001B[38;5;241m==\u001B[39m \u001B[38;5;124m'\u001B[39m\u001B[38;5;124meven\u001B[39m\u001B[38;5;124m'\u001B[39m:\n",
      "\u001B[1;31mValueError\u001B[0m: The length of the input vector x must be greater than padlen, which is 18."
     ]
    }
   ],
   "source": [
    "\n",
    "\n",
    "## trying with neurokit   \n",
    "ecg_sampling_rate = 2000\n",
    "heart_rate_data = {}\n",
    "for column in df_ecg.columns:\n",
    "    signals = nk.ecg_process(df_ecg[column], ecg_sampling_rate)\n",
    "    heart_rate = nk.ecg_rate(signals)\n",
    "    heart_rate_data[column] = heart_rate\n",
    "print(\"Heart Rates:\")\n",
    "for column, heart_rate in heart_rate_data.items():\n",
    "    print(f\"{column}: {heart_rate.mean()} bpm\")\n",
    "\n",
    "heart_rate_df = pd.DataFrame(heart_rate_data)\n",
    "\n",
    "mean_heart_rate_per_column = heart_rate_df.mean(axis=0)\n",
    "\n",
    "print(\"Mean Heart Rate per column:\")\n",
    "print(mean_heart_rate_per_column)\n",
    "    \n",
    "    \n",
    "\n",
    "\n",
    "\n",
    "\n",
    "\n",
    "\n",
    "\n",
    "    "
   ],
   "metadata": {
    "collapsed": false,
    "ExecuteTime": {
     "end_time": "2024-05-21T16:23:17.811544300Z",
     "start_time": "2024-05-21T16:23:17.068616700Z"
    }
   },
   "id": "35ce85ca60d480a9",
   "execution_count": 12
  }
 ],
 "metadata": {
  "kernelspec": {
   "display_name": "Python 3",
   "language": "python",
   "name": "python3"
  },
  "language_info": {
   "codemirror_mode": {
    "name": "ipython",
    "version": 2
   },
   "file_extension": ".py",
   "mimetype": "text/x-python",
   "name": "python",
   "nbconvert_exporter": "python",
   "pygments_lexer": "ipython2",
   "version": "2.7.6"
  }
 },
 "nbformat": 4,
 "nbformat_minor": 5
}
