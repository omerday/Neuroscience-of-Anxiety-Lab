{
 "cells": [
  {
   "cell_type": "markdown",
   "source": [],
   "metadata": {
    "collapsed": false
   },
   "id": "5195c48c53d3878a"
  },
  {
   "cell_type": "code",
   "outputs": [
    {
     "data": {
      "text/plain": "   Heart Rate  ECG - ECG100C  C5 - Expression\n0         0.0       0.118256              0.0\n1         0.0       0.119476              0.0\n2         0.0       0.119934              0.0\n3         0.0       0.121307              0.0\n4         0.0       0.121460              0.0",
      "text/html": "<div>\n<style scoped>\n    .dataframe tbody tr th:only-of-type {\n        vertical-align: middle;\n    }\n\n    .dataframe tbody tr th {\n        vertical-align: top;\n    }\n\n    .dataframe thead th {\n        text-align: right;\n    }\n</style>\n<table border=\"1\" class=\"dataframe\">\n  <thead>\n    <tr style=\"text-align: right;\">\n      <th></th>\n      <th>Heart Rate</th>\n      <th>ECG - ECG100C</th>\n      <th>C5 - Expression</th>\n    </tr>\n  </thead>\n  <tbody>\n    <tr>\n      <th>0</th>\n      <td>0.0</td>\n      <td>0.118256</td>\n      <td>0.0</td>\n    </tr>\n    <tr>\n      <th>1</th>\n      <td>0.0</td>\n      <td>0.119476</td>\n      <td>0.0</td>\n    </tr>\n    <tr>\n      <th>2</th>\n      <td>0.0</td>\n      <td>0.119934</td>\n      <td>0.0</td>\n    </tr>\n    <tr>\n      <th>3</th>\n      <td>0.0</td>\n      <td>0.121307</td>\n      <td>0.0</td>\n    </tr>\n    <tr>\n      <th>4</th>\n      <td>0.0</td>\n      <td>0.121460</td>\n      <td>0.0</td>\n    </tr>\n  </tbody>\n</table>\n</div>"
     },
     "execution_count": 9,
     "metadata": {},
     "output_type": "execute_result"
    }
   ],
   "source": [
    "import bioread\n",
    "import pandas as pd\n",
    "acq_file = bioread.read_file(r'C:\\Users\\User\\Desktop\\TIM.acq')\n",
    "\n",
    "channels_to_extract = ['Heart Rate', 'ECG - ECG100C', 'C5 - Expression' ]\n",
    "data = {}\n",
    "for channel_name in channels_to_extract:\n",
    "    channel = acq_file.named_channels[channel_name]\n",
    "    data[channel_name] = channel.data\n",
    "\n",
    "df = pd.DataFrame(data)\n",
    "df.head()"
   ],
   "metadata": {
    "collapsed": false,
    "ExecuteTime": {
     "end_time": "2024-04-09T13:26:23.766094600Z",
     "start_time": "2024-04-09T13:26:19.364477700Z"
    }
   },
   "id": "8c5d0077936ee4a3",
   "execution_count": 9
  },
  {
   "cell_type": "code",
   "outputs": [],
   "source": [],
   "metadata": {
    "collapsed": false
   },
   "id": "f957b74a1e9c49"
  },
  {
   "cell_type": "code",
   "outputs": [
    {
     "data": {
      "text/plain": "[Channel EDA - EDA100C: 7904435 samples, 2000.0 samples/sec, loaded: True,\n Channel ECG - ECG100C: 7904435 samples, 2000.0 samples/sec, loaded: True,\n Channel EMG - EMG100C: 7904435 samples, 2000.0 samples/sec, loaded: True,\n Channel Stim current - CBLCFMA - Current Feedba: 7904435 samples, 2000.0 samples/sec, loaded: True,\n Channel Digital (STP Input 0): 7904435 samples, 2000.0 samples/sec, loaded: True,\n Channel Digital (STP Input 1): 7904435 samples, 2000.0 samples/sec, loaded: True,\n Channel Digital (STP Input 2): 7904435 samples, 2000.0 samples/sec, loaded: True,\n Channel Digital (STP Input 3): 7904435 samples, 2000.0 samples/sec, loaded: True,\n Channel Digital (STP Input 4): 7904435 samples, 2000.0 samples/sec, loaded: True,\n Channel Digital (STP Input 5): 7904435 samples, 2000.0 samples/sec, loaded: True,\n Channel Digital (STP Input 6): 7904435 samples, 2000.0 samples/sec, loaded: True,\n Channel Digital (STP Input 7): 7904435 samples, 2000.0 samples/sec, loaded: True,\n Channel Heart Rate: 7904435 samples, 2000.0 samples/sec, loaded: True,\n Channel C5 - Expression: 7904435 samples, 2000.0 samples/sec, loaded: True]"
     },
     "execution_count": 8,
     "metadata": {},
     "output_type": "execute_result"
    }
   ],
   "source": [
    "acq_file.channels"
   ],
   "metadata": {
    "collapsed": false,
    "ExecuteTime": {
     "end_time": "2024-04-09T13:25:40.202764800Z",
     "start_time": "2024-04-09T13:25:40.142596800Z"
    }
   },
   "id": "5a029817f25acf37",
   "execution_count": 8
  },
  {
   "cell_type": "code",
   "outputs": [],
   "source": [],
   "metadata": {
    "collapsed": false
   },
   "id": "80a4ba301a798a5e"
  }
 ],
 "metadata": {
  "kernelspec": {
   "display_name": "Python 3",
   "language": "python",
   "name": "python3"
  },
  "language_info": {
   "codemirror_mode": {
    "name": "ipython",
    "version": 2
   },
   "file_extension": ".py",
   "mimetype": "text/x-python",
   "name": "python",
   "nbconvert_exporter": "python",
   "pygments_lexer": "ipython2",
   "version": "2.7.6"
  }
 },
 "nbformat": 4,
 "nbformat_minor": 5
}
