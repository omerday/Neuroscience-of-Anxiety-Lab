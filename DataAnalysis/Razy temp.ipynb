{
 "cells": [
  {
   "cell_type": "markdown",
   "source": [],
   "metadata": {
    "collapsed": false
   },
   "id": "5195c48c53d3878a"
  },
  {
   "cell_type": "code",
   "outputs": [
    {
     "name": "stdout",
     "output_type": "stream",
     "text": [
      "         ECG - ECG100C  C5 - Expression\n",
      "0             0.000000              0.0\n",
      "1             0.000153              0.0\n",
      "2            -0.000153              0.0\n",
      "3             0.000000              0.0\n",
      "4             0.000000              0.0\n",
      "...                ...              ...\n",
      "3132788      -0.097656              0.0\n",
      "3132789      -0.100098              0.0\n",
      "3132790      -0.102539              0.0\n",
      "3132791      -0.105438              0.0\n",
      "3132792      -0.109253              0.0\n",
      "\n",
      "[3132793 rows x 2 columns]\n"
     ]
    }
   ],
   "source": [
    "import bioread\n",
    "import pandas as pd\n",
    "import heartpy as hp\n",
    "import neurokit2 as nk\n",
    "\n",
    "acq_file = bioread.read_file(r'C:\\Users\\User\\Downloads\\80_28.1.24 (NPU_template).acq')\n",
    "\n",
    "channels_to_extract = ['ECG - ECG100C', 'C5 - Expression' ]\n",
    "data = {}\n",
    "for channel_name in channels_to_extract:\n",
    "    channel = acq_file.named_channels[channel_name]\n",
    "    data[channel_name] = channel.data\n",
    "\n",
    "df = pd.DataFrame(data)\n",
    "print(df)\n"
   ],
   "metadata": {
    "collapsed": false,
    "ExecuteTime": {
     "end_time": "2024-05-16T14:51:36.547171400Z",
     "start_time": "2024-05-16T14:51:34.461996500Z"
    }
   },
   "id": "8c5d0077936ee4a3",
   "execution_count": 22
  },
  {
   "cell_type": "code",
   "outputs": [],
   "source": [
    "df = df.dropna()\n",
    "df = df.reset_index(drop=True)\n"
   ],
   "metadata": {
    "collapsed": false,
    "ExecuteTime": {
     "end_time": "2024-05-16T14:51:37.435871400Z",
     "start_time": "2024-05-16T14:51:37.368324500Z"
    }
   },
   "id": "445dff91fda6be38",
   "execution_count": 23
  },
  {
   "cell_type": "code",
   "outputs": [],
   "source": [
    "non_zero_indices = df.index[df['C5 - Expression'] != 0]\n",
    "index_rows_to_change = []\n",
    "for i in range(len(non_zero_indices)-1):\n",
    "    if non_zero_indices[i+1] == non_zero_indices[i]+1:\n",
    "        index_rows_to_change.append(non_zero_indices[i])\n",
    "for index in index_rows_to_change:\n",
    "    df.loc[index, 'C5 - Expression'] = 0"
   ],
   "metadata": {
    "collapsed": false,
    "ExecuteTime": {
     "end_time": "2024-05-16T14:51:39.107846100Z",
     "start_time": "2024-05-16T14:51:38.492258400Z"
    }
   },
   "id": "2666187f86aab588",
   "execution_count": 24
  },
  {
   "cell_type": "code",
   "outputs": [
    {
     "name": "stdout",
     "output_type": "stream",
     "text": [
      "         ECG - ECG100C  C5 - Expression\n",
      "0             0.000000              0.0\n",
      "1             0.000153              0.0\n",
      "2            -0.000153              0.0\n",
      "3             0.000000              0.0\n",
      "4             0.000000              0.0\n",
      "...                ...              ...\n",
      "3132788      -0.097656              0.0\n",
      "3132789      -0.100098              0.0\n",
      "3132790      -0.102539              0.0\n",
      "3132791      -0.105438              0.0\n",
      "3132792      -0.109253              0.0\n",
      "\n",
      "[3132793 rows x 2 columns]\n"
     ]
    }
   ],
   "source": [
    "print(df)"
   ],
   "metadata": {
    "collapsed": false,
    "ExecuteTime": {
     "end_time": "2024-05-16T14:51:39.979794100Z",
     "start_time": "2024-05-16T14:51:39.953474600Z"
    }
   },
   "id": "f571241d7bd2ee9e",
   "execution_count": 25
  },
  {
   "cell_type": "code",
   "outputs": [
    {
     "name": "stdout",
     "output_type": "stream",
     "text": [
      "        ECG - ECG100C  C5 - Expression\n",
      "481122       0.016327             99.0\n"
     ]
    }
   ],
   "source": [
    "df_baseline = df[df['C5 - Expression'] == 99]\n",
    "\n",
    "print(df_baseline)"
   ],
   "metadata": {
    "collapsed": false,
    "ExecuteTime": {
     "end_time": "2024-05-16T14:51:41.127205200Z",
     "start_time": "2024-05-16T14:51:41.078096100Z"
    }
   },
   "id": "a48361d959697e78",
   "execution_count": 26
  },
  {
   "cell_type": "code",
   "outputs": [
    {
     "name": "stdout",
     "output_type": "stream",
     "text": [
      "        ECG - ECG100C  C5 - Expression\n",
      "481122       0.016327             99.0\n",
      "481123       0.016632              0.0\n",
      "481124       0.017548              0.0\n",
      "481125       0.017548              0.0\n",
      "481126       0.018463              0.0\n",
      "...               ...              ...\n",
      "601117      -0.069733              0.0\n",
      "601118      -0.070953              0.0\n",
      "601119      -0.071259              0.0\n",
      "601120      -0.072021              0.0\n",
      "601121      -0.072632              0.0\n",
      "\n",
      "[120000 rows x 2 columns]\n"
     ]
    }
   ],
   "source": [
    "df_baseline_minute = pd.DataFrame()\n",
    "for index in df_baseline.index:\n",
    "    df_slice = df.iloc[index : index + 2000 * 60]\n",
    "    df_baseline_minute = pd.concat([df_baseline_minute, df_slice])\n",
    "print(df_baseline_minute)"
   ],
   "metadata": {
    "collapsed": false,
    "ExecuteTime": {
     "end_time": "2024-05-16T15:02:33.610906700Z",
     "start_time": "2024-05-16T15:02:33.595495900Z"
    }
   },
   "id": "7a7ef8e45d63831d",
   "execution_count": 28
  },
  {
   "cell_type": "code",
   "outputs": [
    {
     "name": "stdout",
     "output_type": "stream",
     "text": [
      "         n_cue  n_no_cue     p_cue  p_no_cue     u_cue  u_no_cue\n",
      "0    -0.092621 -0.018768 -0.009613 -0.011139  0.035706 -0.032196\n",
      "1    -0.091858 -0.019073 -0.009308 -0.011597  0.036163 -0.031586\n",
      "2    -0.091248 -0.018921 -0.009003 -0.011902  0.036774 -0.031433\n",
      "3    -0.090790 -0.019073 -0.009460 -0.012665  0.037384 -0.031281\n",
      "4    -0.089874 -0.018768 -0.009460 -0.012970  0.037689 -0.031128\n",
      "...        ...       ...       ...       ...       ...       ...\n",
      "1194       NaN  0.011444       NaN       NaN       NaN       NaN\n",
      "1195       NaN  0.011902       NaN       NaN       NaN       NaN\n",
      "1196       NaN  0.012360       NaN       NaN       NaN       NaN\n",
      "1197       NaN  0.012817       NaN       NaN       NaN       NaN\n",
      "1198       NaN  0.013428       NaN       NaN       NaN       NaN\n",
      "\n",
      "[1199 rows x 6 columns]\n"
     ]
    }
   ],
   "source": [
    "ecg_data =  {\n",
    "    \"n_cue\": [],\n",
    "    \"n_no_cue\": [],\n",
    "    \"p_cue\": [],\n",
    "    \"p_no_cue\": [],\n",
    "    \"u_cue\": [],\n",
    "    \"u_no_cue\": []\n",
    "}\n",
    "for index, row in df.iterrows():\n",
    "    value = row['C5 - Expression']\n",
    "    ecg_value = row['ECG - ECG100C']\n",
    "    \n",
    "    \n",
    "    if value == 020.0:\n",
    "        ecg_data[\"n_cue\"].append(ecg_value)\n",
    "    if value == 030.0:\n",
    "        ecg_data[\"n_no_cue\"].append(ecg_value)\n",
    "    if value == 120.0:\n",
    "        ecg_data[\"p_cue\"].append(ecg_value)\n",
    "    if value == 130.0:\n",
    "        ecg_data[\"p_no_cue\"].append(ecg_value)\n",
    "    if value == 220.0:\n",
    "        ecg_data[\"u_cue\"].append(ecg_value)\n",
    "    if value == 230.0:\n",
    "        ecg_data[\"u_no_cue\"].append(ecg_value)\n",
    "        \n",
    "max_length = max(len(ecg_data[key]) for key in ecg_data)\n",
    "for key in ecg_data:\n",
    "    while len(ecg_data[key]) < max_length:\n",
    "        ecg_data[key].append(None)\n",
    "df_ecg = pd.DataFrame(ecg_data)\n",
    "print(df_ecg)\n",
    "\n",
    "\n",
    "    \n",
    "         \n"
   ],
   "metadata": {
    "collapsed": false,
    "ExecuteTime": {
     "end_time": "2024-05-06T11:38:40.257061800Z",
     "start_time": "2024-05-06T11:36:24.377041900Z"
    }
   },
   "id": "52738fd0a8304417",
   "execution_count": 2
  },
  {
   "cell_type": "code",
   "outputs": [],
   "source": [
    "## trying with HEARTPY df\n",
    "ecg_sampling_rate = 2000\n",
    "mean_heart_rate = {}\n",
    "working_data, measures = hp.process(df[\"ECG - ECG100C\"].values, ecg_sampling_rate)\n",
    "mean_heart_rate[\"ECG - ECG100C\"] = measures['bpm']\n",
    "\n"
   ],
   "metadata": {
    "collapsed": false,
    "ExecuteTime": {
     "end_time": "2024-05-06T11:40:51.744293600Z",
     "start_time": "2024-05-06T11:40:47.575193100Z"
    }
   },
   "id": "4105875426a15bb8",
   "execution_count": 4
  },
  {
   "cell_type": "code",
   "outputs": [
    {
     "data": {
      "text/plain": "{'bpm': 55.370887615384696,\n 'ibi': 1083.6019176136363,\n 'sdnn': 96.3206670362669,\n 'sdsd': 57.10036487168562,\n 'rmssd': 92.14341368092913,\n 'pnn20': 0.823445318084346,\n 'pnn50': 0.5911365260900643,\n 'hr_mad': 59.0,\n 'sd1': 65.15455829273219,\n 'sd2': 119.220180224025,\n 's': 24403.06920781976,\n 'sd1/sd2': 0.5465061214494153,\n 'breathingrate': 0.30157408560770455}"
     },
     "execution_count": 5,
     "metadata": {},
     "output_type": "execute_result"
    }
   ],
   "source": [
    "measures"
   ],
   "metadata": {
    "collapsed": false,
    "ExecuteTime": {
     "end_time": "2024-05-06T11:41:11.260908500Z",
     "start_time": "2024-05-06T11:41:11.189153800Z"
    }
   },
   "id": "cb7e4c99127c8331",
   "execution_count": 5
  },
  {
   "cell_type": "code",
   "outputs": [
    {
     "ename": "ValueError",
     "evalue": "negative dimensions are not allowed",
     "output_type": "error",
     "traceback": [
      "\u001B[1;31m---------------------------------------------------------------------------\u001B[0m",
      "\u001B[1;31mValueError\u001B[0m                                Traceback (most recent call last)",
      "Cell \u001B[1;32mIn[8], line 8\u001B[0m\n\u001B[0;32m      6\u001B[0m \u001B[38;5;28;01mfor\u001B[39;00m column \u001B[38;5;129;01min\u001B[39;00m df_ecg\u001B[38;5;241m.\u001B[39mcolumns:\n\u001B[0;32m      7\u001B[0m     nmpy \u001B[38;5;241m=\u001B[39m np\u001B[38;5;241m.\u001B[39marray(df_ecg[column])\n\u001B[1;32m----> 8\u001B[0m     working_data, measures \u001B[38;5;241m=\u001B[39m \u001B[43mhp\u001B[49m\u001B[38;5;241;43m.\u001B[39;49m\u001B[43mprocess\u001B[49m\u001B[43m(\u001B[49m\u001B[43mnmpy\u001B[49m\u001B[43m,\u001B[49m\u001B[43m \u001B[49m\u001B[43mecg_sampling_rate\u001B[49m\u001B[43m)\u001B[49m\n\u001B[0;32m      9\u001B[0m     mean_heart_rate[column] \u001B[38;5;241m=\u001B[39m measures[\u001B[38;5;124m'\u001B[39m\u001B[38;5;124mbpm\u001B[39m\u001B[38;5;124m'\u001B[39m]\n\u001B[0;32m     10\u001B[0m     mean_heart_rate \u001B[38;5;241m=\u001B[39m {column: \u001B[38;5;28msum\u001B[39m(heart_rates) \u001B[38;5;241m/\u001B[39m \u001B[38;5;28mlen\u001B[39m(heart_rates) \u001B[38;5;28;01mfor\u001B[39;00m column, heart_rates \u001B[38;5;129;01min\u001B[39;00m mean_heart_rate\u001B[38;5;241m.\u001B[39mitems()}\n",
      "File \u001B[1;32mc:\\users\\user\\appdata\\local\\programs\\python\\python38\\lib\\site-packages\\heartpy\\heartpy.py:287\u001B[0m, in \u001B[0;36mprocess\u001B[1;34m(hrdata, sample_rate, windowsize, report_time, calc_freq, freq_method, welch_wsize, freq_square, interp_clipping, clipping_scale, interp_threshold, hampel_correct, bpmmin, bpmmax, reject_segmentwise, high_precision, high_precision_fs, breathing_method, clean_rr, clean_rr_method, measures, working_data)\u001B[0m\n\u001B[0;32m    284\u001B[0m working_data[\u001B[38;5;124m'\u001B[39m\u001B[38;5;124mhr\u001B[39m\u001B[38;5;124m'\u001B[39m] \u001B[38;5;241m=\u001B[39m hrdata\n\u001B[0;32m    285\u001B[0m working_data[\u001B[38;5;124m'\u001B[39m\u001B[38;5;124msample_rate\u001B[39m\u001B[38;5;124m'\u001B[39m] \u001B[38;5;241m=\u001B[39m sample_rate\n\u001B[1;32m--> 287\u001B[0m rol_mean \u001B[38;5;241m=\u001B[39m \u001B[43mrolling_mean\u001B[49m\u001B[43m(\u001B[49m\u001B[43mhrdata\u001B[49m\u001B[43m,\u001B[49m\u001B[43m \u001B[49m\u001B[43mwindowsize\u001B[49m\u001B[43m,\u001B[49m\u001B[43m \u001B[49m\u001B[43msample_rate\u001B[49m\u001B[43m)\u001B[49m\n\u001B[0;32m    289\u001B[0m working_data \u001B[38;5;241m=\u001B[39m fit_peaks(hrdata, rol_mean, sample_rate, bpmmin\u001B[38;5;241m=\u001B[39mbpmmin,\n\u001B[0;32m    290\u001B[0m                          bpmmax\u001B[38;5;241m=\u001B[39mbpmmax, working_data\u001B[38;5;241m=\u001B[39mworking_data)\n\u001B[0;32m    292\u001B[0m \u001B[38;5;28;01mif\u001B[39;00m high_precision:\n",
      "File \u001B[1;32mc:\\users\\user\\appdata\\local\\programs\\python\\python38\\lib\\site-packages\\heartpy\\datautils.py:285\u001B[0m, in \u001B[0;36mrolling_mean\u001B[1;34m(data, windowsize, sample_rate)\u001B[0m\n\u001B[0;32m    283\u001B[0m \u001B[38;5;66;03m# calculate rolling mean\u001B[39;00m\n\u001B[0;32m    284\u001B[0m data_arr \u001B[38;5;241m=\u001B[39m np\u001B[38;5;241m.\u001B[39marray(data)\n\u001B[1;32m--> 285\u001B[0m rol_mean \u001B[38;5;241m=\u001B[39m np\u001B[38;5;241m.\u001B[39mmean(\u001B[43m_sliding_window\u001B[49m\u001B[43m(\u001B[49m\u001B[43mdata_arr\u001B[49m\u001B[43m,\u001B[49m\u001B[43m \u001B[49m\u001B[38;5;28;43mint\u001B[39;49m\u001B[43m(\u001B[49m\u001B[43mwindowsize\u001B[49m\u001B[38;5;241;43m*\u001B[39;49m\u001B[43msample_rate\u001B[49m\u001B[43m)\u001B[49m\u001B[43m)\u001B[49m, axis\u001B[38;5;241m=\u001B[39m\u001B[38;5;241m1\u001B[39m)\n\u001B[0;32m    287\u001B[0m \u001B[38;5;66;03m# need to fill 1/2 windowsize gap at the start and end\u001B[39;00m\n\u001B[0;32m    288\u001B[0m n_missvals \u001B[38;5;241m=\u001B[39m \u001B[38;5;28mint\u001B[39m(\u001B[38;5;28mabs\u001B[39m(\u001B[38;5;28mlen\u001B[39m(data_arr) \u001B[38;5;241m-\u001B[39m \u001B[38;5;28mlen\u001B[39m(rol_mean))\u001B[38;5;241m/\u001B[39m\u001B[38;5;241m2\u001B[39m)\n",
      "File \u001B[1;32mc:\\users\\user\\appdata\\local\\programs\\python\\python38\\lib\\site-packages\\heartpy\\datautils.py:248\u001B[0m, in \u001B[0;36m_sliding_window\u001B[1;34m(data, windowsize)\u001B[0m\n\u001B[0;32m    246\u001B[0m shape \u001B[38;5;241m=\u001B[39m data\u001B[38;5;241m.\u001B[39mshape[:\u001B[38;5;241m-\u001B[39m\u001B[38;5;241m1\u001B[39m] \u001B[38;5;241m+\u001B[39m (data\u001B[38;5;241m.\u001B[39mshape[\u001B[38;5;241m-\u001B[39m\u001B[38;5;241m1\u001B[39m] \u001B[38;5;241m-\u001B[39m windowsize \u001B[38;5;241m+\u001B[39m \u001B[38;5;241m1\u001B[39m, windowsize)\n\u001B[0;32m    247\u001B[0m strides \u001B[38;5;241m=\u001B[39m data\u001B[38;5;241m.\u001B[39mstrides \u001B[38;5;241m+\u001B[39m (data\u001B[38;5;241m.\u001B[39mstrides[\u001B[38;5;241m-\u001B[39m\u001B[38;5;241m1\u001B[39m],)\n\u001B[1;32m--> 248\u001B[0m \u001B[38;5;28;01mreturn\u001B[39;00m \u001B[43mnp\u001B[49m\u001B[38;5;241;43m.\u001B[39;49m\u001B[43mlib\u001B[49m\u001B[38;5;241;43m.\u001B[39;49m\u001B[43mstride_tricks\u001B[49m\u001B[38;5;241;43m.\u001B[39;49m\u001B[43mas_strided\u001B[49m\u001B[43m(\u001B[49m\u001B[43mdata\u001B[49m\u001B[43m,\u001B[49m\u001B[43m \u001B[49m\u001B[43mshape\u001B[49m\u001B[38;5;241;43m=\u001B[39;49m\u001B[43mshape\u001B[49m\u001B[43m,\u001B[49m\u001B[43m \u001B[49m\u001B[43mstrides\u001B[49m\u001B[38;5;241;43m=\u001B[39;49m\u001B[43mstrides\u001B[49m\u001B[43m)\u001B[49m\n",
      "File \u001B[1;32mc:\\users\\user\\appdata\\local\\programs\\python\\python38\\lib\\site-packages\\numpy\\lib\\stride_tricks.py:105\u001B[0m, in \u001B[0;36mas_strided\u001B[1;34m(x, shape, strides, subok, writeable)\u001B[0m\n\u001B[0;32m    102\u001B[0m \u001B[38;5;28;01mif\u001B[39;00m strides \u001B[38;5;129;01mis\u001B[39;00m \u001B[38;5;129;01mnot\u001B[39;00m \u001B[38;5;28;01mNone\u001B[39;00m:\n\u001B[0;32m    103\u001B[0m     interface[\u001B[38;5;124m'\u001B[39m\u001B[38;5;124mstrides\u001B[39m\u001B[38;5;124m'\u001B[39m] \u001B[38;5;241m=\u001B[39m \u001B[38;5;28mtuple\u001B[39m(strides)\n\u001B[1;32m--> 105\u001B[0m array \u001B[38;5;241m=\u001B[39m \u001B[43mnp\u001B[49m\u001B[38;5;241;43m.\u001B[39;49m\u001B[43masarray\u001B[49m\u001B[43m(\u001B[49m\u001B[43mDummyArray\u001B[49m\u001B[43m(\u001B[49m\u001B[43minterface\u001B[49m\u001B[43m,\u001B[49m\u001B[43m \u001B[49m\u001B[43mbase\u001B[49m\u001B[38;5;241;43m=\u001B[39;49m\u001B[43mx\u001B[49m\u001B[43m)\u001B[49m\u001B[43m)\u001B[49m\n\u001B[0;32m    106\u001B[0m \u001B[38;5;66;03m# The route via `__interface__` does not preserve structured\u001B[39;00m\n\u001B[0;32m    107\u001B[0m \u001B[38;5;66;03m# dtypes. Since dtype should remain unchanged, we set it explicitly.\u001B[39;00m\n\u001B[0;32m    108\u001B[0m array\u001B[38;5;241m.\u001B[39mdtype \u001B[38;5;241m=\u001B[39m x\u001B[38;5;241m.\u001B[39mdtype\n",
      "\u001B[1;31mValueError\u001B[0m: negative dimensions are not allowed"
     ]
    }
   ],
   "source": [
    "## trying with HEARTPY\n",
    "import numpy as np \n",
    "\n",
    "ecg_sampling_rate = 2000\n",
    "mean_heart_rate = {}\n",
    "for column in df_ecg.columns:\n",
    "    nmpy = np.array(df_ecg[column])\n",
    "    working_data, measures = hp.process(nmpy, ecg_sampling_rate)\n",
    "    mean_heart_rate[column] = measures['bpm']\n",
    "    mean_heart_rate = {column: sum(heart_rates) / len(heart_rates) for column, heart_rates in mean_heart_rate.items()}\n",
    "print(\"Mean Heart Rates:\")\n",
    "for column, mean_hr in mean_heart_rate.items():\n",
    "    print(f\"{column}: {mean_hr} bpm\")"
   ],
   "metadata": {
    "collapsed": false,
    "ExecuteTime": {
     "end_time": "2024-05-06T12:01:09.571407500Z",
     "start_time": "2024-05-06T12:01:09.418984100Z"
    }
   },
   "id": "7a7a73b56740b68d",
   "execution_count": 8
  },
  {
   "cell_type": "code",
   "outputs": [
    {
     "name": "stderr",
     "output_type": "stream",
     "text": [
      "c:\\users\\user\\appdata\\local\\programs\\python\\python38\\lib\\site-packages\\neurokit2\\ecg\\ecg_clean.py:101: NeuroKitWarning: There are 299 missing data points in your signal. Filling missing values by using the forward filling method.\n",
      "  warn(\n",
      "c:\\users\\user\\appdata\\local\\programs\\python\\python38\\lib\\site-packages\\neurokit2\\ecg\\ecg_clean.py:153: FutureWarning: DataFrame.pad/Series.pad is deprecated. Use DataFrame.ffill/Series.ffill instead\n",
      "  ecg_signal = pd.DataFrame.pad(pd.Series(ecg_signal))\n"
     ]
    },
    {
     "ename": "TypeError",
     "evalue": "NeuroKit error: signal_smooth(): 'size' should be between 1 and length of the signal.",
     "output_type": "error",
     "traceback": [
      "\u001B[1;31m---------------------------------------------------------------------------\u001B[0m",
      "\u001B[1;31mTypeError\u001B[0m                                 Traceback (most recent call last)",
      "Cell \u001B[1;32mIn[6], line 5\u001B[0m\n\u001B[0;32m      3\u001B[0m heart_rate_data \u001B[38;5;241m=\u001B[39m {}\n\u001B[0;32m      4\u001B[0m \u001B[38;5;28;01mfor\u001B[39;00m column \u001B[38;5;129;01min\u001B[39;00m df_ecg\u001B[38;5;241m.\u001B[39mcolumns:\n\u001B[1;32m----> 5\u001B[0m     signals \u001B[38;5;241m=\u001B[39m \u001B[43mnk\u001B[49m\u001B[38;5;241;43m.\u001B[39;49m\u001B[43mecg_process\u001B[49m\u001B[43m(\u001B[49m\u001B[43mdf_ecg\u001B[49m\u001B[43m[\u001B[49m\u001B[43mcolumn\u001B[49m\u001B[43m]\u001B[49m\u001B[43m,\u001B[49m\u001B[43m \u001B[49m\u001B[43mecg_sampling_rate\u001B[49m\u001B[43m)\u001B[49m\n\u001B[0;32m      6\u001B[0m     heart_rate \u001B[38;5;241m=\u001B[39m nk\u001B[38;5;241m.\u001B[39mecg_rate(signals)\n\u001B[0;32m      7\u001B[0m     heart_rate_data[column] \u001B[38;5;241m=\u001B[39m heart_rate\n",
      "File \u001B[1;32mc:\\users\\user\\appdata\\local\\programs\\python\\python38\\lib\\site-packages\\neurokit2\\ecg\\ecg_process.py:98\u001B[0m, in \u001B[0;36mecg_process\u001B[1;34m(ecg_signal, sampling_rate, method)\u001B[0m\n\u001B[0;32m     95\u001B[0m ecg_cleaned \u001B[38;5;241m=\u001B[39m ecg_clean(ecg_signal, sampling_rate\u001B[38;5;241m=\u001B[39msampling_rate, method\u001B[38;5;241m=\u001B[39mmethod)\n\u001B[0;32m     97\u001B[0m \u001B[38;5;66;03m# Detect R-peaks\u001B[39;00m\n\u001B[1;32m---> 98\u001B[0m instant_peaks, info \u001B[38;5;241m=\u001B[39m \u001B[43mecg_peaks\u001B[49m\u001B[43m(\u001B[49m\n\u001B[0;32m     99\u001B[0m \u001B[43m    \u001B[49m\u001B[43mecg_cleaned\u001B[49m\u001B[38;5;241;43m=\u001B[39;49m\u001B[43mecg_cleaned\u001B[49m\u001B[43m,\u001B[49m\n\u001B[0;32m    100\u001B[0m \u001B[43m    \u001B[49m\u001B[43msampling_rate\u001B[49m\u001B[38;5;241;43m=\u001B[39;49m\u001B[43msampling_rate\u001B[49m\u001B[43m,\u001B[49m\n\u001B[0;32m    101\u001B[0m \u001B[43m    \u001B[49m\u001B[43mmethod\u001B[49m\u001B[38;5;241;43m=\u001B[39;49m\u001B[43mmethod\u001B[49m\u001B[43m,\u001B[49m\n\u001B[0;32m    102\u001B[0m \u001B[43m    \u001B[49m\u001B[43mcorrect_artifacts\u001B[49m\u001B[38;5;241;43m=\u001B[39;49m\u001B[38;5;28;43;01mTrue\u001B[39;49;00m\u001B[43m,\u001B[49m\n\u001B[0;32m    103\u001B[0m \u001B[43m\u001B[49m\u001B[43m)\u001B[49m\n\u001B[0;32m    105\u001B[0m \u001B[38;5;66;03m# Calculate heart rate\u001B[39;00m\n\u001B[0;32m    106\u001B[0m rate \u001B[38;5;241m=\u001B[39m signal_rate(\n\u001B[0;32m    107\u001B[0m     info, sampling_rate\u001B[38;5;241m=\u001B[39msampling_rate, desired_length\u001B[38;5;241m=\u001B[39m\u001B[38;5;28mlen\u001B[39m(ecg_cleaned)\n\u001B[0;32m    108\u001B[0m )\n",
      "File \u001B[1;32mc:\\users\\user\\appdata\\local\\programs\\python\\python38\\lib\\site-packages\\neurokit2\\ecg\\ecg_peaks.py:256\u001B[0m, in \u001B[0;36mecg_peaks\u001B[1;34m(ecg_cleaned, sampling_rate, method, correct_artifacts, show, **kwargs)\u001B[0m\n\u001B[0;32m    252\u001B[0m info \u001B[38;5;241m=\u001B[39m {\u001B[38;5;124m\"\u001B[39m\u001B[38;5;124mmethod_peaks\u001B[39m\u001B[38;5;124m\"\u001B[39m: method\u001B[38;5;241m.\u001B[39mlower(), \u001B[38;5;124m\"\u001B[39m\u001B[38;5;124mmethod_fixpeaks\u001B[39m\u001B[38;5;124m\"\u001B[39m: \u001B[38;5;124m\"\u001B[39m\u001B[38;5;124mNone\u001B[39m\u001B[38;5;124m\"\u001B[39m}\n\u001B[0;32m    254\u001B[0m \u001B[38;5;66;03m# First peak detection\u001B[39;00m\n\u001B[0;32m    255\u001B[0m info\u001B[38;5;241m.\u001B[39mupdate(\n\u001B[1;32m--> 256\u001B[0m     \u001B[43mecg_findpeaks\u001B[49m\u001B[43m(\u001B[49m\n\u001B[0;32m    257\u001B[0m \u001B[43m        \u001B[49m\u001B[43mecg_cleaned\u001B[49m\u001B[43m,\u001B[49m\n\u001B[0;32m    258\u001B[0m \u001B[43m        \u001B[49m\u001B[43msampling_rate\u001B[49m\u001B[38;5;241;43m=\u001B[39;49m\u001B[43msampling_rate\u001B[49m\u001B[43m,\u001B[49m\n\u001B[0;32m    259\u001B[0m \u001B[43m        \u001B[49m\u001B[43mmethod\u001B[49m\u001B[38;5;241;43m=\u001B[39;49m\u001B[43minfo\u001B[49m\u001B[43m[\u001B[49m\u001B[38;5;124;43m\"\u001B[39;49m\u001B[38;5;124;43mmethod_peaks\u001B[39;49m\u001B[38;5;124;43m\"\u001B[39;49m\u001B[43m]\u001B[49m\u001B[43m,\u001B[49m\n\u001B[0;32m    260\u001B[0m \u001B[43m        \u001B[49m\u001B[38;5;241;43m*\u001B[39;49m\u001B[38;5;241;43m*\u001B[39;49m\u001B[43mkwargs\u001B[49m\n\u001B[0;32m    261\u001B[0m \u001B[43m    \u001B[49m\u001B[43m)\u001B[49m\n\u001B[0;32m    262\u001B[0m )\n\u001B[0;32m    264\u001B[0m \u001B[38;5;66;03m# Peak correction\u001B[39;00m\n\u001B[0;32m    265\u001B[0m \u001B[38;5;28;01mif\u001B[39;00m correct_artifacts:\n",
      "File \u001B[1;32mc:\\users\\user\\appdata\\local\\programs\\python\\python38\\lib\\site-packages\\neurokit2\\ecg\\ecg_findpeaks.py:66\u001B[0m, in \u001B[0;36mecg_findpeaks\u001B[1;34m(ecg_cleaned, sampling_rate, method, show, **kwargs)\u001B[0m\n\u001B[0;32m     64\u001B[0m \u001B[38;5;28;01mtry\u001B[39;00m:\n\u001B[0;32m     65\u001B[0m     func \u001B[38;5;241m=\u001B[39m _ecg_findpeaks_findmethod(method)\n\u001B[1;32m---> 66\u001B[0m     rpeaks \u001B[38;5;241m=\u001B[39m \u001B[43mfunc\u001B[49m\u001B[43m(\u001B[49m\u001B[43mecg_cleaned\u001B[49m\u001B[43m,\u001B[49m\u001B[43m \u001B[49m\u001B[43msampling_rate\u001B[49m\u001B[38;5;241;43m=\u001B[39;49m\u001B[43msampling_rate\u001B[49m\u001B[43m,\u001B[49m\u001B[43m \u001B[49m\u001B[43mshow\u001B[49m\u001B[38;5;241;43m=\u001B[39;49m\u001B[43mshow\u001B[49m\u001B[43m,\u001B[49m\u001B[43m \u001B[49m\u001B[38;5;241;43m*\u001B[39;49m\u001B[38;5;241;43m*\u001B[39;49m\u001B[43mkwargs\u001B[49m\u001B[43m)\u001B[49m\n\u001B[0;32m     67\u001B[0m \u001B[38;5;28;01mexcept\u001B[39;00m \u001B[38;5;167;01mValueError\u001B[39;00m \u001B[38;5;28;01mas\u001B[39;00m error:\n\u001B[0;32m     68\u001B[0m     \u001B[38;5;28;01mraise\u001B[39;00m error\n",
      "File \u001B[1;32mc:\\users\\user\\appdata\\local\\programs\\python\\python38\\lib\\site-packages\\neurokit2\\ecg\\ecg_findpeaks.py:253\u001B[0m, in \u001B[0;36m_ecg_findpeaks_neurokit\u001B[1;34m(signal, sampling_rate, smoothwindow, avgwindow, gradthreshweight, minlenweight, mindelay, show)\u001B[0m\n\u001B[0;32m    251\u001B[0m avg_kernel \u001B[38;5;241m=\u001B[39m \u001B[38;5;28mint\u001B[39m(np\u001B[38;5;241m.\u001B[39mrint(avgwindow \u001B[38;5;241m*\u001B[39m sampling_rate))\n\u001B[0;32m    252\u001B[0m smoothgrad \u001B[38;5;241m=\u001B[39m signal_smooth(absgrad, kernel\u001B[38;5;241m=\u001B[39m\u001B[38;5;124m\"\u001B[39m\u001B[38;5;124mboxcar\u001B[39m\u001B[38;5;124m\"\u001B[39m, size\u001B[38;5;241m=\u001B[39msmooth_kernel)\n\u001B[1;32m--> 253\u001B[0m avggrad \u001B[38;5;241m=\u001B[39m \u001B[43msignal_smooth\u001B[49m\u001B[43m(\u001B[49m\u001B[43msmoothgrad\u001B[49m\u001B[43m,\u001B[49m\u001B[43m \u001B[49m\u001B[43mkernel\u001B[49m\u001B[38;5;241;43m=\u001B[39;49m\u001B[38;5;124;43m\"\u001B[39;49m\u001B[38;5;124;43mboxcar\u001B[39;49m\u001B[38;5;124;43m\"\u001B[39;49m\u001B[43m,\u001B[49m\u001B[43m \u001B[49m\u001B[43msize\u001B[49m\u001B[38;5;241;43m=\u001B[39;49m\u001B[43mavg_kernel\u001B[49m\u001B[43m)\u001B[49m\n\u001B[0;32m    254\u001B[0m gradthreshold \u001B[38;5;241m=\u001B[39m gradthreshweight \u001B[38;5;241m*\u001B[39m avggrad\n\u001B[0;32m    255\u001B[0m mindelay \u001B[38;5;241m=\u001B[39m \u001B[38;5;28mint\u001B[39m(np\u001B[38;5;241m.\u001B[39mrint(sampling_rate \u001B[38;5;241m*\u001B[39m mindelay))\n",
      "File \u001B[1;32mc:\\users\\user\\appdata\\local\\programs\\python\\python38\\lib\\site-packages\\neurokit2\\signal\\signal_smooth.py:96\u001B[0m, in \u001B[0;36msignal_smooth\u001B[1;34m(signal, method, kernel, size, alpha)\u001B[0m\n\u001B[0;32m     94\u001B[0m size \u001B[38;5;241m=\u001B[39m \u001B[38;5;28mint\u001B[39m(size)\n\u001B[0;32m     95\u001B[0m \u001B[38;5;28;01mif\u001B[39;00m size \u001B[38;5;241m>\u001B[39m length \u001B[38;5;129;01mor\u001B[39;00m size \u001B[38;5;241m<\u001B[39m \u001B[38;5;241m1\u001B[39m:\n\u001B[1;32m---> 96\u001B[0m     \u001B[38;5;28;01mraise\u001B[39;00m \u001B[38;5;167;01mTypeError\u001B[39;00m(\n\u001B[0;32m     97\u001B[0m         \u001B[38;5;124m\"\u001B[39m\u001B[38;5;124mNeuroKit error: signal_smooth(): \u001B[39m\u001B[38;5;124m'\u001B[39m\u001B[38;5;124msize\u001B[39m\u001B[38;5;124m'\u001B[39m\u001B[38;5;124m should be between 1 and length of the signal.\u001B[39m\u001B[38;5;124m\"\u001B[39m\n\u001B[0;32m     98\u001B[0m     )\n\u001B[0;32m    100\u001B[0m method \u001B[38;5;241m=\u001B[39m method\u001B[38;5;241m.\u001B[39mlower()\n\u001B[0;32m    102\u001B[0m \u001B[38;5;66;03m# LOESS\u001B[39;00m\n",
      "\u001B[1;31mTypeError\u001B[0m: NeuroKit error: signal_smooth(): 'size' should be between 1 and length of the signal."
     ]
    }
   ],
   "source": [
    "\n",
    "\n",
    "## trying with neurokit   \n",
    "ecg_sampling_rate = 2000\n",
    "heart_rate_data = {}\n",
    "for column in df_ecg.columns:\n",
    "    signals = nk.ecg_process(df_ecg[column], ecg_sampling_rate)\n",
    "    heart_rate = nk.ecg_rate(signals)\n",
    "    heart_rate_data[column] = heart_rate\n",
    "print(\"Heart Rates:\")\n",
    "for column, heart_rate in heart_rate_data.items():\n",
    "    print(f\"{column}: {heart_rate.mean()} bpm\")\n",
    "\n",
    "heart_rate_df = pd.DataFrame(heart_rate_data)\n",
    "\n",
    "mean_heart_rate_per_column = heart_rate_df.mean(axis=0)\n",
    "\n",
    "print(\"Mean Heart Rate per column:\")\n",
    "print(mean_heart_rate_per_column)\n",
    "    \n",
    "    \n",
    "\n",
    "\n",
    "\n",
    "\n",
    "\n",
    "\n",
    "\n",
    "    "
   ],
   "metadata": {
    "collapsed": false,
    "ExecuteTime": {
     "end_time": "2024-05-06T11:57:23.736651200Z",
     "start_time": "2024-05-06T11:57:23.339013900Z"
    }
   },
   "id": "35ce85ca60d480a9",
   "execution_count": 6
  },
  {
   "cell_type": "code",
   "outputs": [
    {
     "data": {
      "text/plain": "array([-0.09262085, -0.09185791, -0.09124756, ...,         nan,\n               nan,         nan])"
     },
     "execution_count": 10,
     "metadata": {},
     "output_type": "execute_result"
    }
   ],
   "source": [
    "nmpy"
   ],
   "metadata": {
    "collapsed": false,
    "ExecuteTime": {
     "end_time": "2024-05-06T12:05:23.589093100Z",
     "start_time": "2024-05-06T12:05:23.539149Z"
    }
   },
   "id": "63e46591e77455c",
   "execution_count": 10
  },
  {
   "cell_type": "code",
   "outputs": [],
   "source": [],
   "metadata": {
    "collapsed": false
   },
   "id": "df9732aa9d58f76e"
  }
 ],
 "metadata": {
  "kernelspec": {
   "display_name": "Python 3",
   "language": "python",
   "name": "python3"
  },
  "language_info": {
   "codemirror_mode": {
    "name": "ipython",
    "version": 2
   },
   "file_extension": ".py",
   "mimetype": "text/x-python",
   "name": "python",
   "nbconvert_exporter": "python",
   "pygments_lexer": "ipython2",
   "version": "2.7.6"
  }
 },
 "nbformat": 4,
 "nbformat_minor": 5
}
