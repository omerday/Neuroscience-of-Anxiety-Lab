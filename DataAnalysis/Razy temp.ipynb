{
 "cells": [
  {
   "cell_type": "markdown",
   "source": [],
   "metadata": {
    "collapsed": false
   },
   "id": "5195c48c53d3878a"
  },
  {
   "cell_type": "code",
   "outputs": [
    {
     "ename": "ImportError",
     "evalue": "DLL load failed while importing _iterative: The specified module could not be found.",
     "output_type": "error",
     "traceback": [
      "\u001B[1;31m---------------------------------------------------------------------------\u001B[0m",
      "\u001B[1;31mImportError\u001B[0m                               Traceback (most recent call last)",
      "Cell \u001B[1;32mIn[5], line 3\u001B[0m\n\u001B[0;32m      1\u001B[0m \u001B[38;5;28;01mimport\u001B[39;00m \u001B[38;5;21;01mbioread\u001B[39;00m\n\u001B[0;32m      2\u001B[0m \u001B[38;5;28;01mimport\u001B[39;00m \u001B[38;5;21;01mpandas\u001B[39;00m \u001B[38;5;28;01mas\u001B[39;00m \u001B[38;5;21;01mpd\u001B[39;00m\n\u001B[1;32m----> 3\u001B[0m \u001B[38;5;28;01mimport\u001B[39;00m \u001B[38;5;21;01mneurokit2\u001B[39;00m \u001B[38;5;28;01mas\u001B[39;00m \u001B[38;5;21;01mnk\u001B[39;00m\n\u001B[0;32m      5\u001B[0m acq_file \u001B[38;5;241m=\u001B[39m bioread\u001B[38;5;241m.\u001B[39mread_file(\u001B[38;5;124mr\u001B[39m\u001B[38;5;124m'\u001B[39m\u001B[38;5;124mC:\u001B[39m\u001B[38;5;124m\\\u001B[39m\u001B[38;5;124mUsers\u001B[39m\u001B[38;5;124m\\\u001B[39m\u001B[38;5;124mUser\u001B[39m\u001B[38;5;124m\\\u001B[39m\u001B[38;5;124mDownloads\u001B[39m\u001B[38;5;124m\\\u001B[39m\u001B[38;5;124m80_28.1.24 (NPU_template).acq\u001B[39m\u001B[38;5;124m'\u001B[39m)\n\u001B[0;32m      7\u001B[0m channels_to_extract \u001B[38;5;241m=\u001B[39m [\u001B[38;5;124m'\u001B[39m\u001B[38;5;124mECG - ECG100C\u001B[39m\u001B[38;5;124m'\u001B[39m, \u001B[38;5;124m'\u001B[39m\u001B[38;5;124mC5 - Expression\u001B[39m\u001B[38;5;124m'\u001B[39m ]\n",
      "File \u001B[1;32m~\\PycharmProjects\\Neuroscience-of-Anxiety-Lab\\venv\\lib\\site-packages\\neurokit2\\__init__.py:11\u001B[0m\n\u001B[0;32m      9\u001B[0m \u001B[38;5;28;01mimport\u001B[39;00m \u001B[38;5;21;01mpandas\u001B[39;00m \u001B[38;5;28;01mas\u001B[39;00m \u001B[38;5;21;01mpd\u001B[39;00m\n\u001B[0;32m     10\u001B[0m \u001B[38;5;28;01mimport\u001B[39;00m \u001B[38;5;21;01mscipy\u001B[39;00m\n\u001B[1;32m---> 11\u001B[0m \u001B[38;5;28;01mimport\u001B[39;00m \u001B[38;5;21;01msklearn\u001B[39;00m\n\u001B[0;32m     13\u001B[0m \u001B[38;5;28;01mfrom\u001B[39;00m \u001B[38;5;21;01m.\u001B[39;00m\u001B[38;5;21;01mbenchmark\u001B[39;00m \u001B[38;5;28;01mimport\u001B[39;00m \u001B[38;5;241m*\u001B[39m\n\u001B[0;32m     14\u001B[0m \u001B[38;5;28;01mfrom\u001B[39;00m \u001B[38;5;21;01m.\u001B[39;00m\u001B[38;5;21;01mbio\u001B[39;00m \u001B[38;5;28;01mimport\u001B[39;00m \u001B[38;5;241m*\u001B[39m\n",
      "File \u001B[1;32m~\\PycharmProjects\\Neuroscience-of-Anxiety-Lab\\venv\\lib\\site-packages\\sklearn\\__init__.py:83\u001B[0m\n\u001B[0;32m     69\u001B[0m     \u001B[38;5;66;03m# We are not importing the rest of scikit-learn during the build\u001B[39;00m\n\u001B[0;32m     70\u001B[0m     \u001B[38;5;66;03m# process, as it may not be compiled yet\u001B[39;00m\n\u001B[0;32m     71\u001B[0m \u001B[38;5;28;01melse\u001B[39;00m:\n\u001B[1;32m   (...)\u001B[0m\n\u001B[0;32m     77\u001B[0m     \u001B[38;5;66;03m# later is linked to the OpenMP runtime to make it possible to introspect\u001B[39;00m\n\u001B[0;32m     78\u001B[0m     \u001B[38;5;66;03m# it and importing it first would fail if the OpenMP dll cannot be found.\u001B[39;00m\n\u001B[0;32m     79\u001B[0m     \u001B[38;5;28;01mfrom\u001B[39;00m \u001B[38;5;21;01m.\u001B[39;00m \u001B[38;5;28;01mimport\u001B[39;00m (\n\u001B[0;32m     80\u001B[0m         __check_build,  \u001B[38;5;66;03m# noqa: F401\u001B[39;00m\n\u001B[0;32m     81\u001B[0m         _distributor_init,  \u001B[38;5;66;03m# noqa: F401\u001B[39;00m\n\u001B[0;32m     82\u001B[0m     )\n\u001B[1;32m---> 83\u001B[0m     \u001B[38;5;28;01mfrom\u001B[39;00m \u001B[38;5;21;01m.\u001B[39;00m\u001B[38;5;21;01mbase\u001B[39;00m \u001B[38;5;28;01mimport\u001B[39;00m clone\n\u001B[0;32m     84\u001B[0m     \u001B[38;5;28;01mfrom\u001B[39;00m \u001B[38;5;21;01m.\u001B[39;00m\u001B[38;5;21;01mutils\u001B[39;00m\u001B[38;5;21;01m.\u001B[39;00m\u001B[38;5;21;01m_show_versions\u001B[39;00m \u001B[38;5;28;01mimport\u001B[39;00m show_versions\n\u001B[0;32m     86\u001B[0m     __all__ \u001B[38;5;241m=\u001B[39m [\n\u001B[0;32m     87\u001B[0m         \u001B[38;5;124m\"\u001B[39m\u001B[38;5;124mcalibration\u001B[39m\u001B[38;5;124m\"\u001B[39m,\n\u001B[0;32m     88\u001B[0m         \u001B[38;5;124m\"\u001B[39m\u001B[38;5;124mcluster\u001B[39m\u001B[38;5;124m\"\u001B[39m,\n\u001B[1;32m   (...)\u001B[0m\n\u001B[0;32m    129\u001B[0m         \u001B[38;5;124m\"\u001B[39m\u001B[38;5;124mshow_versions\u001B[39m\u001B[38;5;124m\"\u001B[39m,\n\u001B[0;32m    130\u001B[0m     ]\n",
      "File \u001B[1;32m~\\PycharmProjects\\Neuroscience-of-Anxiety-Lab\\venv\\lib\\site-packages\\sklearn\\base.py:19\u001B[0m\n\u001B[0;32m     17\u001B[0m \u001B[38;5;28;01mfrom\u001B[39;00m \u001B[38;5;21;01m.\u001B[39;00m\u001B[38;5;21;01m_config\u001B[39;00m \u001B[38;5;28;01mimport\u001B[39;00m config_context, get_config\n\u001B[0;32m     18\u001B[0m \u001B[38;5;28;01mfrom\u001B[39;00m \u001B[38;5;21;01m.\u001B[39;00m\u001B[38;5;21;01mexceptions\u001B[39;00m \u001B[38;5;28;01mimport\u001B[39;00m InconsistentVersionWarning\n\u001B[1;32m---> 19\u001B[0m \u001B[38;5;28;01mfrom\u001B[39;00m \u001B[38;5;21;01m.\u001B[39;00m\u001B[38;5;21;01mutils\u001B[39;00m \u001B[38;5;28;01mimport\u001B[39;00m _IS_32BIT\n\u001B[0;32m     20\u001B[0m \u001B[38;5;28;01mfrom\u001B[39;00m \u001B[38;5;21;01m.\u001B[39;00m\u001B[38;5;21;01mutils\u001B[39;00m\u001B[38;5;21;01m.\u001B[39;00m\u001B[38;5;21;01m_estimator_html_repr\u001B[39;00m \u001B[38;5;28;01mimport\u001B[39;00m estimator_html_repr\n\u001B[0;32m     21\u001B[0m \u001B[38;5;28;01mfrom\u001B[39;00m \u001B[38;5;21;01m.\u001B[39;00m\u001B[38;5;21;01mutils\u001B[39;00m\u001B[38;5;21;01m.\u001B[39;00m\u001B[38;5;21;01m_metadata_requests\u001B[39;00m \u001B[38;5;28;01mimport\u001B[39;00m _MetadataRequester\n",
      "File \u001B[1;32m~\\PycharmProjects\\Neuroscience-of-Anxiety-Lab\\venv\\lib\\site-packages\\sklearn\\utils\\__init__.py:15\u001B[0m\n\u001B[0;32m     12\u001B[0m \u001B[38;5;28;01mfrom\u001B[39;00m \u001B[38;5;21;01mitertools\u001B[39;00m \u001B[38;5;28;01mimport\u001B[39;00m compress, islice\n\u001B[0;32m     14\u001B[0m \u001B[38;5;28;01mimport\u001B[39;00m \u001B[38;5;21;01mnumpy\u001B[39;00m \u001B[38;5;28;01mas\u001B[39;00m \u001B[38;5;21;01mnp\u001B[39;00m\n\u001B[1;32m---> 15\u001B[0m \u001B[38;5;28;01mfrom\u001B[39;00m \u001B[38;5;21;01mscipy\u001B[39;00m\u001B[38;5;21;01m.\u001B[39;00m\u001B[38;5;21;01msparse\u001B[39;00m \u001B[38;5;28;01mimport\u001B[39;00m issparse\n\u001B[0;32m     17\u001B[0m \u001B[38;5;28;01mfrom\u001B[39;00m \u001B[38;5;21;01m.\u001B[39;00m\u001B[38;5;21;01m.\u001B[39;00m \u001B[38;5;28;01mimport\u001B[39;00m get_config\n\u001B[0;32m     18\u001B[0m \u001B[38;5;28;01mfrom\u001B[39;00m \u001B[38;5;21;01m.\u001B[39;00m\u001B[38;5;21;01m.\u001B[39;00m\u001B[38;5;21;01mexceptions\u001B[39;00m \u001B[38;5;28;01mimport\u001B[39;00m DataConversionWarning\n",
      "File \u001B[1;32m~\\PycharmProjects\\Neuroscience-of-Anxiety-Lab\\venv\\lib\\site-packages\\scipy\\sparse\\__init__.py:283\u001B[0m\n\u001B[0;32m    278\u001B[0m \u001B[38;5;28;01mfrom\u001B[39;00m \u001B[38;5;21;01m.\u001B[39;00m\u001B[38;5;21;01m_arrays\u001B[39;00m \u001B[38;5;28;01mimport\u001B[39;00m (\n\u001B[0;32m    279\u001B[0m     csr_array, csc_array, lil_array, dok_array, coo_array, dia_array, bsr_array\n\u001B[0;32m    280\u001B[0m )\n\u001B[0;32m    282\u001B[0m \u001B[38;5;66;03m# For backward compatibility with v0.19.\u001B[39;00m\n\u001B[1;32m--> 283\u001B[0m \u001B[38;5;28;01mfrom\u001B[39;00m \u001B[38;5;21;01m.\u001B[39;00m \u001B[38;5;28;01mimport\u001B[39;00m csgraph\n\u001B[0;32m    285\u001B[0m \u001B[38;5;66;03m# Deprecated namespaces, to be removed in v2.0.0\u001B[39;00m\n\u001B[0;32m    286\u001B[0m \u001B[38;5;28;01mfrom\u001B[39;00m \u001B[38;5;21;01m.\u001B[39;00m \u001B[38;5;28;01mimport\u001B[39;00m (\n\u001B[0;32m    287\u001B[0m     base, bsr, compressed, construct, coo, csc, csr, data, dia, dok, extract,\n\u001B[0;32m    288\u001B[0m     lil, sparsetools, sputils\n\u001B[0;32m    289\u001B[0m )\n",
      "File \u001B[1;32m~\\PycharmProjects\\Neuroscience-of-Anxiety-Lab\\venv\\lib\\site-packages\\scipy\\sparse\\csgraph\\__init__.py:185\u001B[0m\n\u001B[0;32m    157\u001B[0m __docformat__ \u001B[38;5;241m=\u001B[39m \u001B[38;5;124m\"\u001B[39m\u001B[38;5;124mrestructuredtext en\u001B[39m\u001B[38;5;124m\"\u001B[39m\n\u001B[0;32m    159\u001B[0m __all__ \u001B[38;5;241m=\u001B[39m [\u001B[38;5;124m'\u001B[39m\u001B[38;5;124mconnected_components\u001B[39m\u001B[38;5;124m'\u001B[39m,\n\u001B[0;32m    160\u001B[0m            \u001B[38;5;124m'\u001B[39m\u001B[38;5;124mlaplacian\u001B[39m\u001B[38;5;124m'\u001B[39m,\n\u001B[0;32m    161\u001B[0m            \u001B[38;5;124m'\u001B[39m\u001B[38;5;124mshortest_path\u001B[39m\u001B[38;5;124m'\u001B[39m,\n\u001B[1;32m   (...)\u001B[0m\n\u001B[0;32m    182\u001B[0m            \u001B[38;5;124m'\u001B[39m\u001B[38;5;124mcsgraph_to_masked\u001B[39m\u001B[38;5;124m'\u001B[39m,\n\u001B[0;32m    183\u001B[0m            \u001B[38;5;124m'\u001B[39m\u001B[38;5;124mNegativeCycleError\u001B[39m\u001B[38;5;124m'\u001B[39m]\n\u001B[1;32m--> 185\u001B[0m \u001B[38;5;28;01mfrom\u001B[39;00m \u001B[38;5;21;01m.\u001B[39;00m\u001B[38;5;21;01m_laplacian\u001B[39;00m \u001B[38;5;28;01mimport\u001B[39;00m laplacian\n\u001B[0;32m    186\u001B[0m \u001B[38;5;28;01mfrom\u001B[39;00m \u001B[38;5;21;01m.\u001B[39;00m\u001B[38;5;21;01m_shortest_path\u001B[39;00m \u001B[38;5;28;01mimport\u001B[39;00m (\n\u001B[0;32m    187\u001B[0m     shortest_path, floyd_warshall, dijkstra, bellman_ford, johnson,\n\u001B[0;32m    188\u001B[0m     NegativeCycleError\n\u001B[0;32m    189\u001B[0m )\n\u001B[0;32m    190\u001B[0m \u001B[38;5;28;01mfrom\u001B[39;00m \u001B[38;5;21;01m.\u001B[39;00m\u001B[38;5;21;01m_traversal\u001B[39;00m \u001B[38;5;28;01mimport\u001B[39;00m (\n\u001B[0;32m    191\u001B[0m     breadth_first_order, depth_first_order, breadth_first_tree,\n\u001B[0;32m    192\u001B[0m     depth_first_tree, connected_components\n\u001B[0;32m    193\u001B[0m )\n",
      "File \u001B[1;32m~\\PycharmProjects\\Neuroscience-of-Anxiety-Lab\\venv\\lib\\site-packages\\scipy\\sparse\\csgraph\\_laplacian.py:7\u001B[0m\n\u001B[0;32m      5\u001B[0m \u001B[38;5;28;01mimport\u001B[39;00m \u001B[38;5;21;01mnumpy\u001B[39;00m \u001B[38;5;28;01mas\u001B[39;00m \u001B[38;5;21;01mnp\u001B[39;00m\n\u001B[0;32m      6\u001B[0m \u001B[38;5;28;01mfrom\u001B[39;00m \u001B[38;5;21;01mscipy\u001B[39;00m\u001B[38;5;21;01m.\u001B[39;00m\u001B[38;5;21;01msparse\u001B[39;00m \u001B[38;5;28;01mimport\u001B[39;00m isspmatrix\n\u001B[1;32m----> 7\u001B[0m \u001B[38;5;28;01mfrom\u001B[39;00m \u001B[38;5;21;01mscipy\u001B[39;00m\u001B[38;5;21;01m.\u001B[39;00m\u001B[38;5;21;01msparse\u001B[39;00m\u001B[38;5;21;01m.\u001B[39;00m\u001B[38;5;21;01mlinalg\u001B[39;00m \u001B[38;5;28;01mimport\u001B[39;00m LinearOperator\n\u001B[0;32m     10\u001B[0m \u001B[38;5;66;03m###############################################################################\u001B[39;00m\n\u001B[0;32m     11\u001B[0m \u001B[38;5;66;03m# Graph laplacian\u001B[39;00m\n\u001B[0;32m     12\u001B[0m \u001B[38;5;28;01mdef\u001B[39;00m \u001B[38;5;21mlaplacian\u001B[39m(\n\u001B[0;32m     13\u001B[0m     csgraph,\n\u001B[0;32m     14\u001B[0m     normed\u001B[38;5;241m=\u001B[39m\u001B[38;5;28;01mFalse\u001B[39;00m,\n\u001B[1;32m   (...)\u001B[0m\n\u001B[0;32m     21\u001B[0m     symmetrized\u001B[38;5;241m=\u001B[39m\u001B[38;5;28;01mFalse\u001B[39;00m,\n\u001B[0;32m     22\u001B[0m ):\n",
      "File \u001B[1;32m~\\PycharmProjects\\Neuroscience-of-Anxiety-Lab\\venv\\lib\\site-packages\\scipy\\sparse\\linalg\\__init__.py:130\u001B[0m\n\u001B[0;32m    127\u001B[0m \u001B[38;5;28;01mfrom\u001B[39;00m \u001B[38;5;21;01m.\u001B[39;00m\u001B[38;5;21;01m_expm_multiply\u001B[39;00m \u001B[38;5;28;01mimport\u001B[39;00m \u001B[38;5;241m*\u001B[39m\n\u001B[0;32m    129\u001B[0m \u001B[38;5;66;03m# Deprecated namespaces, to be removed in v2.0.0\u001B[39;00m\n\u001B[1;32m--> 130\u001B[0m \u001B[38;5;28;01mfrom\u001B[39;00m \u001B[38;5;21;01m.\u001B[39;00m \u001B[38;5;28;01mimport\u001B[39;00m isolve, dsolve, interface, eigen, matfuncs\n\u001B[0;32m    132\u001B[0m __all__ \u001B[38;5;241m=\u001B[39m [s \u001B[38;5;28;01mfor\u001B[39;00m s \u001B[38;5;129;01min\u001B[39;00m \u001B[38;5;28mdir\u001B[39m() \u001B[38;5;28;01mif\u001B[39;00m \u001B[38;5;129;01mnot\u001B[39;00m s\u001B[38;5;241m.\u001B[39mstartswith(\u001B[38;5;124m'\u001B[39m\u001B[38;5;124m_\u001B[39m\u001B[38;5;124m'\u001B[39m)]\n\u001B[0;32m    134\u001B[0m \u001B[38;5;28;01mfrom\u001B[39;00m \u001B[38;5;21;01mscipy\u001B[39;00m\u001B[38;5;21;01m.\u001B[39;00m\u001B[38;5;21;01m_lib\u001B[39;00m\u001B[38;5;21;01m.\u001B[39;00m\u001B[38;5;21;01m_testutils\u001B[39;00m \u001B[38;5;28;01mimport\u001B[39;00m PytestTester\n",
      "File \u001B[1;32m~\\PycharmProjects\\Neuroscience-of-Anxiety-Lab\\venv\\lib\\site-packages\\scipy\\sparse\\linalg\\isolve\\__init__.py:4\u001B[0m\n\u001B[0;32m      1\u001B[0m \u001B[38;5;124m\"\u001B[39m\u001B[38;5;124mIterative Solvers for Sparse Linear Systems\u001B[39m\u001B[38;5;124m\"\u001B[39m\n\u001B[0;32m      3\u001B[0m \u001B[38;5;66;03m#from info import __doc__\u001B[39;00m\n\u001B[1;32m----> 4\u001B[0m \u001B[38;5;28;01mfrom\u001B[39;00m \u001B[38;5;21;01m.\u001B[39;00m\u001B[38;5;21;01miterative\u001B[39;00m \u001B[38;5;28;01mimport\u001B[39;00m \u001B[38;5;241m*\u001B[39m\n\u001B[0;32m      5\u001B[0m \u001B[38;5;28;01mfrom\u001B[39;00m \u001B[38;5;21;01m.\u001B[39;00m\u001B[38;5;21;01mminres\u001B[39;00m \u001B[38;5;28;01mimport\u001B[39;00m minres\n\u001B[0;32m      6\u001B[0m \u001B[38;5;28;01mfrom\u001B[39;00m \u001B[38;5;21;01m.\u001B[39;00m\u001B[38;5;21;01mlgmres\u001B[39;00m \u001B[38;5;28;01mimport\u001B[39;00m lgmres\n",
      "File \u001B[1;32m~\\PycharmProjects\\Neuroscience-of-Anxiety-Lab\\venv\\lib\\site-packages\\scipy\\sparse\\linalg\\isolve\\iterative.py:8\u001B[0m\n\u001B[0;32m      5\u001B[0m \u001B[38;5;28;01mimport\u001B[39;00m \u001B[38;5;21;01mwarnings\u001B[39;00m\n\u001B[0;32m      6\u001B[0m \u001B[38;5;28;01mimport\u001B[39;00m \u001B[38;5;21;01mnumpy\u001B[39;00m \u001B[38;5;28;01mas\u001B[39;00m \u001B[38;5;21;01mnp\u001B[39;00m\n\u001B[1;32m----> 8\u001B[0m \u001B[38;5;28;01mfrom\u001B[39;00m \u001B[38;5;21;01m.\u001B[39;00m \u001B[38;5;28;01mimport\u001B[39;00m _iterative\n\u001B[0;32m     10\u001B[0m \u001B[38;5;28;01mfrom\u001B[39;00m \u001B[38;5;21;01mscipy\u001B[39;00m\u001B[38;5;21;01m.\u001B[39;00m\u001B[38;5;21;01msparse\u001B[39;00m\u001B[38;5;21;01m.\u001B[39;00m\u001B[38;5;21;01mlinalg\u001B[39;00m\u001B[38;5;21;01m.\u001B[39;00m\u001B[38;5;21;01minterface\u001B[39;00m \u001B[38;5;28;01mimport\u001B[39;00m LinearOperator\n\u001B[0;32m     11\u001B[0m \u001B[38;5;28;01mfrom\u001B[39;00m \u001B[38;5;21;01m.\u001B[39;00m\u001B[38;5;21;01mutils\u001B[39;00m \u001B[38;5;28;01mimport\u001B[39;00m make_system\n",
      "\u001B[1;31mImportError\u001B[0m: DLL load failed while importing _iterative: The specified module could not be found."
     ]
    }
   ],
   "source": [
    "import bioread\n",
    "import pandas as pd\n",
    "import heartpy as hp\n",
    "import neurokit2 as nk\n",
    "\n",
    "acq_file = bioread.read_file(r'C:\\Users\\User\\Downloads\\80_28.1.24 (NPU_template).acq')\n",
    "\n",
    "channels_to_extract = ['ECG - ECG100C', 'C5 - Expression' ]\n",
    "data = {}\n",
    "for channel_name in channels_to_extract:\n",
    "    channel = acq_file.named_channels[channel_name]\n",
    "    data[channel_name] = channel.data\n",
    "\n",
    "df = pd.DataFrame(data)\n",
    "print(df)\n"
   ],
   "metadata": {
    "collapsed": false,
    "ExecuteTime": {
     "end_time": "2024-05-02T17:22:42.469207900Z",
     "start_time": "2024-05-02T17:22:42.190225600Z"
    }
   },
   "id": "8c5d0077936ee4a3",
   "execution_count": 5
  },
  {
   "cell_type": "code",
   "outputs": [
    {
     "name": "stdout",
     "output_type": "stream",
     "text": [
      "         n_cue  n_no_cue     p_cue  p_no_cue     u_cue  u_no_cue\n",
      "0    -0.092621 -0.018768 -0.009613 -0.011139  0.035706 -0.032196\n",
      "1    -0.091858 -0.019073 -0.009308 -0.011597  0.036163 -0.031586\n",
      "2    -0.091248 -0.018921 -0.009003 -0.011902  0.036774 -0.031433\n",
      "3    -0.090790 -0.019073 -0.009460 -0.012665  0.037384 -0.031281\n",
      "4    -0.089874 -0.018768 -0.009460 -0.012970  0.037689 -0.031128\n",
      "...        ...       ...       ...       ...       ...       ...\n",
      "1194       NaN  0.011444       NaN       NaN       NaN       NaN\n",
      "1195       NaN  0.011902       NaN       NaN       NaN       NaN\n",
      "1196       NaN  0.012360       NaN       NaN       NaN       NaN\n",
      "1197       NaN  0.012817       NaN       NaN       NaN       NaN\n",
      "1198       NaN  0.013428       NaN       NaN       NaN       NaN\n",
      "\n",
      "[1199 rows x 6 columns]\n",
      "0   -0.092621\n",
      "1   -0.091858\n",
      "2   -0.091248\n",
      "3   -0.090790\n",
      "4   -0.089874\n",
      "Name: n_cue, dtype: float64\n"
     ]
    }
   ],
   "source": [
    "ecg_data =  {\n",
    "    \"n_cue\": [],\n",
    "    \"n_no_cue\": [],\n",
    "    \"p_cue\": [],\n",
    "    \"p_no_cue\": [],\n",
    "    \"u_cue\": [],\n",
    "    \"u_no_cue\": []\n",
    "}\n",
    "for index, row in df.iterrows():\n",
    "    value = row['C5 - Expression']\n",
    "    ecg_value = row['ECG - ECG100C']\n",
    "    \n",
    "    \n",
    "    if value == 020.0:\n",
    "        ecg_data[\"n_cue\"].append(ecg_value)\n",
    "    if value == 030.0:\n",
    "        ecg_data[\"n_no_cue\"].append(ecg_value)\n",
    "    if value == 120.0:\n",
    "        ecg_data[\"p_cue\"].append(ecg_value)\n",
    "    if value == 130.0:\n",
    "        ecg_data[\"p_no_cue\"].append(ecg_value)\n",
    "    if value == 220.0:\n",
    "        ecg_data[\"u_cue\"].append(ecg_value)\n",
    "    if value == 230.0:\n",
    "        ecg_data[\"u_no_cue\"].append(ecg_value)\n",
    "        \n",
    "max_length = max(len(ecg_data[key]) for key in ecg_data)\n",
    "for key in ecg_data:\n",
    "    while len(ecg_data[key]) < max_length:\n",
    "        ecg_data[key].append(None)\n",
    "df_ecg = pd.DataFrame(ecg_data)\n",
    "print(df_ecg)\n",
    "\n",
    "\n",
    "    \n",
    "         \n"
   ],
   "metadata": {
    "collapsed": false,
    "ExecuteTime": {
     "end_time": "2024-05-02T16:37:39.752143100Z",
     "start_time": "2024-05-02T16:36:23.811002500Z"
    }
   },
   "id": "52738fd0a8304417",
   "execution_count": 23
  },
  {
   "cell_type": "code",
   "outputs": [
    {
     "ename": "ValueError",
     "evalue": "negative dimensions are not allowed",
     "output_type": "error",
     "traceback": [
      "\u001B[1;31m---------------------------------------------------------------------------\u001B[0m",
      "\u001B[1;31mValueError\u001B[0m                                Traceback (most recent call last)",
      "Cell \u001B[1;32mIn[28], line 4\u001B[0m\n\u001B[0;32m      2\u001B[0m mean_heart_rate \u001B[38;5;241m=\u001B[39m {}\n\u001B[0;32m      3\u001B[0m \u001B[38;5;28;01mfor\u001B[39;00m column \u001B[38;5;129;01min\u001B[39;00m df_ecg\u001B[38;5;241m.\u001B[39mcolumns:\n\u001B[1;32m----> 4\u001B[0m     working_data, measures \u001B[38;5;241m=\u001B[39m \u001B[43mhp\u001B[49m\u001B[38;5;241;43m.\u001B[39;49m\u001B[43mprocess\u001B[49m\u001B[43m(\u001B[49m\u001B[43mdf_ecg\u001B[49m\u001B[43m[\u001B[49m\u001B[43mcolumn\u001B[49m\u001B[43m]\u001B[49m\u001B[38;5;241;43m.\u001B[39;49m\u001B[43mvalues\u001B[49m\u001B[43m,\u001B[49m\u001B[43m \u001B[49m\u001B[43mecg_sampling_rate\u001B[49m\u001B[43m)\u001B[49m\n\u001B[0;32m      5\u001B[0m     mean_heart_rate[column] \u001B[38;5;241m=\u001B[39m measures[\u001B[38;5;124m'\u001B[39m\u001B[38;5;124mbpm\u001B[39m\u001B[38;5;124m'\u001B[39m]\n\u001B[0;32m      6\u001B[0m     mean_heart_rate \u001B[38;5;241m=\u001B[39m {column: \u001B[38;5;28msum\u001B[39m(heart_rates) \u001B[38;5;241m/\u001B[39m \u001B[38;5;28mlen\u001B[39m(heart_rates) \u001B[38;5;28;01mfor\u001B[39;00m column, heart_rates \u001B[38;5;129;01min\u001B[39;00m mean_heart_rate\u001B[38;5;241m.\u001B[39mitems()}\n",
      "File \u001B[1;32m~\\PycharmProjects\\Neuroscience-of-Anxiety-Lab\\venv\\lib\\site-packages\\heartpy\\heartpy.py:287\u001B[0m, in \u001B[0;36mprocess\u001B[1;34m(hrdata, sample_rate, windowsize, report_time, calc_freq, freq_method, welch_wsize, freq_square, interp_clipping, clipping_scale, interp_threshold, hampel_correct, bpmmin, bpmmax, reject_segmentwise, high_precision, high_precision_fs, breathing_method, clean_rr, clean_rr_method, measures, working_data)\u001B[0m\n\u001B[0;32m    284\u001B[0m working_data[\u001B[38;5;124m'\u001B[39m\u001B[38;5;124mhr\u001B[39m\u001B[38;5;124m'\u001B[39m] \u001B[38;5;241m=\u001B[39m hrdata\n\u001B[0;32m    285\u001B[0m working_data[\u001B[38;5;124m'\u001B[39m\u001B[38;5;124msample_rate\u001B[39m\u001B[38;5;124m'\u001B[39m] \u001B[38;5;241m=\u001B[39m sample_rate\n\u001B[1;32m--> 287\u001B[0m rol_mean \u001B[38;5;241m=\u001B[39m \u001B[43mrolling_mean\u001B[49m\u001B[43m(\u001B[49m\u001B[43mhrdata\u001B[49m\u001B[43m,\u001B[49m\u001B[43m \u001B[49m\u001B[43mwindowsize\u001B[49m\u001B[43m,\u001B[49m\u001B[43m \u001B[49m\u001B[43msample_rate\u001B[49m\u001B[43m)\u001B[49m\n\u001B[0;32m    289\u001B[0m working_data \u001B[38;5;241m=\u001B[39m fit_peaks(hrdata, rol_mean, sample_rate, bpmmin\u001B[38;5;241m=\u001B[39mbpmmin,\n\u001B[0;32m    290\u001B[0m                          bpmmax\u001B[38;5;241m=\u001B[39mbpmmax, working_data\u001B[38;5;241m=\u001B[39mworking_data)\n\u001B[0;32m    292\u001B[0m \u001B[38;5;28;01mif\u001B[39;00m high_precision:\n",
      "File \u001B[1;32m~\\PycharmProjects\\Neuroscience-of-Anxiety-Lab\\venv\\lib\\site-packages\\heartpy\\datautils.py:285\u001B[0m, in \u001B[0;36mrolling_mean\u001B[1;34m(data, windowsize, sample_rate)\u001B[0m\n\u001B[0;32m    283\u001B[0m \u001B[38;5;66;03m# calculate rolling mean\u001B[39;00m\n\u001B[0;32m    284\u001B[0m data_arr \u001B[38;5;241m=\u001B[39m np\u001B[38;5;241m.\u001B[39marray(data)\n\u001B[1;32m--> 285\u001B[0m rol_mean \u001B[38;5;241m=\u001B[39m np\u001B[38;5;241m.\u001B[39mmean(\u001B[43m_sliding_window\u001B[49m\u001B[43m(\u001B[49m\u001B[43mdata_arr\u001B[49m\u001B[43m,\u001B[49m\u001B[43m \u001B[49m\u001B[38;5;28;43mint\u001B[39;49m\u001B[43m(\u001B[49m\u001B[43mwindowsize\u001B[49m\u001B[38;5;241;43m*\u001B[39;49m\u001B[43msample_rate\u001B[49m\u001B[43m)\u001B[49m\u001B[43m)\u001B[49m, axis\u001B[38;5;241m=\u001B[39m\u001B[38;5;241m1\u001B[39m)\n\u001B[0;32m    287\u001B[0m \u001B[38;5;66;03m# need to fill 1/2 windowsize gap at the start and end\u001B[39;00m\n\u001B[0;32m    288\u001B[0m n_missvals \u001B[38;5;241m=\u001B[39m \u001B[38;5;28mint\u001B[39m(\u001B[38;5;28mabs\u001B[39m(\u001B[38;5;28mlen\u001B[39m(data_arr) \u001B[38;5;241m-\u001B[39m \u001B[38;5;28mlen\u001B[39m(rol_mean))\u001B[38;5;241m/\u001B[39m\u001B[38;5;241m2\u001B[39m)\n",
      "File \u001B[1;32m~\\PycharmProjects\\Neuroscience-of-Anxiety-Lab\\venv\\lib\\site-packages\\heartpy\\datautils.py:248\u001B[0m, in \u001B[0;36m_sliding_window\u001B[1;34m(data, windowsize)\u001B[0m\n\u001B[0;32m    246\u001B[0m shape \u001B[38;5;241m=\u001B[39m data\u001B[38;5;241m.\u001B[39mshape[:\u001B[38;5;241m-\u001B[39m\u001B[38;5;241m1\u001B[39m] \u001B[38;5;241m+\u001B[39m (data\u001B[38;5;241m.\u001B[39mshape[\u001B[38;5;241m-\u001B[39m\u001B[38;5;241m1\u001B[39m] \u001B[38;5;241m-\u001B[39m windowsize \u001B[38;5;241m+\u001B[39m \u001B[38;5;241m1\u001B[39m, windowsize)\n\u001B[0;32m    247\u001B[0m strides \u001B[38;5;241m=\u001B[39m data\u001B[38;5;241m.\u001B[39mstrides \u001B[38;5;241m+\u001B[39m (data\u001B[38;5;241m.\u001B[39mstrides[\u001B[38;5;241m-\u001B[39m\u001B[38;5;241m1\u001B[39m],)\n\u001B[1;32m--> 248\u001B[0m \u001B[38;5;28;01mreturn\u001B[39;00m \u001B[43mnp\u001B[49m\u001B[38;5;241;43m.\u001B[39;49m\u001B[43mlib\u001B[49m\u001B[38;5;241;43m.\u001B[39;49m\u001B[43mstride_tricks\u001B[49m\u001B[38;5;241;43m.\u001B[39;49m\u001B[43mas_strided\u001B[49m\u001B[43m(\u001B[49m\u001B[43mdata\u001B[49m\u001B[43m,\u001B[49m\u001B[43m \u001B[49m\u001B[43mshape\u001B[49m\u001B[38;5;241;43m=\u001B[39;49m\u001B[43mshape\u001B[49m\u001B[43m,\u001B[49m\u001B[43m \u001B[49m\u001B[43mstrides\u001B[49m\u001B[38;5;241;43m=\u001B[39;49m\u001B[43mstrides\u001B[49m\u001B[43m)\u001B[49m\n",
      "File \u001B[1;32m~\\PycharmProjects\\Neuroscience-of-Anxiety-Lab\\venv\\lib\\site-packages\\numpy\\lib\\stride_tricks.py:105\u001B[0m, in \u001B[0;36mas_strided\u001B[1;34m(x, shape, strides, subok, writeable)\u001B[0m\n\u001B[0;32m    102\u001B[0m \u001B[38;5;28;01mif\u001B[39;00m strides \u001B[38;5;129;01mis\u001B[39;00m \u001B[38;5;129;01mnot\u001B[39;00m \u001B[38;5;28;01mNone\u001B[39;00m:\n\u001B[0;32m    103\u001B[0m     interface[\u001B[38;5;124m'\u001B[39m\u001B[38;5;124mstrides\u001B[39m\u001B[38;5;124m'\u001B[39m] \u001B[38;5;241m=\u001B[39m \u001B[38;5;28mtuple\u001B[39m(strides)\n\u001B[1;32m--> 105\u001B[0m array \u001B[38;5;241m=\u001B[39m \u001B[43mnp\u001B[49m\u001B[38;5;241;43m.\u001B[39;49m\u001B[43masarray\u001B[49m\u001B[43m(\u001B[49m\u001B[43mDummyArray\u001B[49m\u001B[43m(\u001B[49m\u001B[43minterface\u001B[49m\u001B[43m,\u001B[49m\u001B[43m \u001B[49m\u001B[43mbase\u001B[49m\u001B[38;5;241;43m=\u001B[39;49m\u001B[43mx\u001B[49m\u001B[43m)\u001B[49m\u001B[43m)\u001B[49m\n\u001B[0;32m    106\u001B[0m \u001B[38;5;66;03m# The route via `__interface__` does not preserve structured\u001B[39;00m\n\u001B[0;32m    107\u001B[0m \u001B[38;5;66;03m# dtypes. Since dtype should remain unchanged, we set it explicitly.\u001B[39;00m\n\u001B[0;32m    108\u001B[0m array\u001B[38;5;241m.\u001B[39mdtype \u001B[38;5;241m=\u001B[39m x\u001B[38;5;241m.\u001B[39mdtype\n",
      "\u001B[1;31mValueError\u001B[0m: negative dimensions are not allowed"
     ]
    }
   ],
   "source": [
    "## trying with HEARTPY\n",
    "ecg_sampling_rate = 2000\n",
    "mean_heart_rate = {}\n",
    "for column in df_ecg.columns:\n",
    "    working_data, measures = hp.process(df_ecg[column].values, ecg_sampling_rate)\n",
    "    mean_heart_rate[column] = measures['bpm']\n",
    "    mean_heart_rate = {column: sum(heart_rates) / len(heart_rates) for column, heart_rates in mean_heart_rate.items()}\n",
    "print(\"Mean Heart Rates:\")\n",
    "for column, mean_hr in mean_heart_rate.items():\n",
    "    print(f\"{column}: {mean_hr} bpm\")\n",
    "\n",
    "## trying with neurokit   \n",
    "ecg_sampling_rate = 2000\n",
    "heart_rate_data = {}\n",
    "for column in df_ecg.columns:\n",
    "    signals = nk.ecg_process(df_ecg[column], ecg_sampling_rate)\n",
    "    heart_rate = nk.ecg_rate(signals)\n",
    "    heart_rate_data[column] = heart_rate\n",
    "print(\"Heart Rates:\")\n",
    "for column, heart_rate in heart_rate_data.items():\n",
    "    print(f\"{column}: {heart_rate.mean()} bpm\")\n",
    "\n",
    "heart_rate_df = pd.DataFrame(heart_rate_data)\n",
    "\n",
    "mean_heart_rate_per_column = heart_rate_df.mean(axis=0)\n",
    "\n",
    "print(\"Mean Heart Rate per column:\")\n",
    "print(mean_heart_rate_per_column)\n",
    "    \n",
    "    \n",
    "\n",
    "\n",
    "\n",
    "\n",
    "\n",
    "\n",
    "\n",
    "    "
   ],
   "metadata": {
    "collapsed": false,
    "ExecuteTime": {
     "end_time": "2024-05-02T16:53:10.039191300Z",
     "start_time": "2024-05-02T16:53:09.977490500Z"
    }
   },
   "id": "35ce85ca60d480a9",
   "execution_count": 28
  },
  {
   "cell_type": "code",
   "outputs": [],
   "source": [],
   "metadata": {
    "collapsed": false,
    "ExecuteTime": {
     "start_time": "2024-05-02T16:31:51.994677900Z"
    }
   },
   "id": "63e46591e77455c",
   "execution_count": null
  }
 ],
 "metadata": {
  "kernelspec": {
   "display_name": "Python 3",
   "language": "python",
   "name": "python3"
  },
  "language_info": {
   "codemirror_mode": {
    "name": "ipython",
    "version": 2
   },
   "file_extension": ".py",
   "mimetype": "text/x-python",
   "name": "python",
   "nbconvert_exporter": "python",
   "pygments_lexer": "ipython2",
   "version": "2.7.6"
  }
 },
 "nbformat": 4,
 "nbformat_minor": 5
}
