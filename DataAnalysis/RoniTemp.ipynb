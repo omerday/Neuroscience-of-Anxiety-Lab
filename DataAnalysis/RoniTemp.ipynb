{
 "cells": [
  {
   "cell_type": "code",
   "outputs": [
    {
     "data": {
      "text/plain": "   EMG - EMG100C  C5 - Expression\n0      -0.962982              0.0\n1      -1.053619              0.0\n2      -1.119690              0.0\n3      -1.137238              0.0\n4      -1.086121              0.0",
      "text/html": "<div>\n<style scoped>\n    .dataframe tbody tr th:only-of-type {\n        vertical-align: middle;\n    }\n\n    .dataframe tbody tr th {\n        vertical-align: top;\n    }\n\n    .dataframe thead th {\n        text-align: right;\n    }\n</style>\n<table border=\"1\" class=\"dataframe\">\n  <thead>\n    <tr style=\"text-align: right;\">\n      <th></th>\n      <th>EMG - EMG100C</th>\n      <th>C5 - Expression</th>\n    </tr>\n  </thead>\n  <tbody>\n    <tr>\n      <th>0</th>\n      <td>-0.962982</td>\n      <td>0.0</td>\n    </tr>\n    <tr>\n      <th>1</th>\n      <td>-1.053619</td>\n      <td>0.0</td>\n    </tr>\n    <tr>\n      <th>2</th>\n      <td>-1.119690</td>\n      <td>0.0</td>\n    </tr>\n    <tr>\n      <th>3</th>\n      <td>-1.137238</td>\n      <td>0.0</td>\n    </tr>\n    <tr>\n      <th>4</th>\n      <td>-1.086121</td>\n      <td>0.0</td>\n    </tr>\n  </tbody>\n</table>\n</div>"
     },
     "execution_count": 51,
     "metadata": {},
     "output_type": "execute_result"
    }
   ],
   "source": [
    "import bioread\n",
    "import pandas as pd\n",
    "acq_file = bioread.read_file(r'C:\\Users\\USER\\Desktop\\TIM_115_1.2.24.acq')\n",
    "channels_to_extract = ['EMG - EMG100C', 'C5 - Expression' ]\n",
    "data = {}\n",
    "for channel_name in channels_to_extract:\n",
    "    channel = acq_file.named_channels[channel_name]\n",
    "    data[channel_name] = channel.data\n",
    "\n",
    "df = pd.DataFrame(data)\n",
    "df.head()"
   ],
   "metadata": {
    "collapsed": false,
    "ExecuteTime": {
     "end_time": "2024-05-02T19:53:03.795084900Z",
     "start_time": "2024-05-02T19:52:57.991024800Z"
    }
   },
   "id": "54d4a8353e73e55b",
   "execution_count": 51
  },
  {
   "cell_type": "code",
   "outputs": [
    {
     "name": "stdout",
     "output_type": "stream",
     "text": [
      "         EMG - EMG100C  C5 - Expression   Frequencies\n",
      "0            -0.962982              0.0  0.000000e+00\n",
      "1            -1.053619              0.0  1.265113e-07\n",
      "2            -1.119690              0.0  2.530225e-07\n",
      "3            -1.137238              0.0  3.795338e-07\n",
      "4            -1.086121              0.0  5.060450e-07\n",
      "...                ...              ...           ...\n",
      "7904430      -0.004730              0.0 -6.325563e-07\n",
      "7904431       0.022888              0.0 -5.060450e-07\n",
      "7904432       0.050659              0.0 -3.795338e-07\n",
      "7904433       0.075378              0.0 -2.530225e-07\n",
      "7904434       0.094757              0.0 -1.265113e-07\n",
      "\n",
      "[7904435 rows x 3 columns]\n"
     ]
    }
   ],
   "source": [
    "from scipy.fft import fft\n",
    "import numpy as np\n",
    "\n",
    "df_copy = df.copy()\n",
    "\n",
    "emg_signal = df_copy['EMG - EMG100C'].values\n",
    "frequencies = np.fft.fftfreq(len(df_copy['EMG - EMG100C']))\n",
    "\n",
    "df_copy['Frequencies'] = frequencies\n",
    "\n",
    "frequency_lower_threshold = 40  # Hz\n",
    "frequency_upper_threshold = 200  # Hz\n",
    "\n",
    "\n",
    "print(df_copy)"
   ],
   "metadata": {
    "collapsed": false,
    "ExecuteTime": {
     "end_time": "2024-05-02T19:53:04.290935400Z",
     "start_time": "2024-05-02T19:53:03.801529Z"
    }
   },
   "id": "51ca95bfded32602",
   "execution_count": 52
  },
  {
   "cell_type": "markdown",
   "source": [
    "downsample to 1 of 2"
   ],
   "metadata": {
    "collapsed": false
   },
   "id": "5a3153b01a7e7742"
  },
  {
   "cell_type": "code",
   "outputs": [],
   "source": [
    "df = df.iloc[::2]\n",
    "df = df.dropna()\n",
    "df = df.reset_index(drop=True)"
   ],
   "metadata": {
    "collapsed": false,
    "ExecuteTime": {
     "end_time": "2024-05-02T19:53:04.315037500Z",
     "start_time": "2024-05-02T19:53:03.946772300Z"
    }
   },
   "id": "2ac2db9e1ff35ccd",
   "execution_count": 53
  },
  {
   "cell_type": "markdown",
   "source": [
    "Deleting all the rows with non-zero number in the column 'C5 - Expression' except the last line in each sequence."
   ],
   "metadata": {
    "collapsed": false
   },
   "id": "74c16f41cb9aac89"
  },
  {
   "cell_type": "code",
   "outputs": [
    {
     "name": "stdout",
     "output_type": "stream",
     "text": [
      "Number of rows with value not equal to 0 in 'C5 - Expression': 14644\n",
      "Number of rows with value not equal to 0 in 'C5 - Expression' after changes: 288\n"
     ]
    }
   ],
   "source": [
    "\n",
    "non_zero_indices = df.index[df['C5 - Expression'] != 0]\n",
    "index_rows_to_change = []\n",
    "for i in range(len(non_zero_indices)-1):\n",
    "    if non_zero_indices[i+1] == non_zero_indices[i]+1:\n",
    "        index_rows_to_change.append(non_zero_indices[i])\n",
    "for index in index_rows_to_change:\n",
    "    df.loc[index, 'C5 - Expression'] = 0\n"
   ],
   "metadata": {
    "collapsed": false,
    "ExecuteTime": {
     "end_time": "2024-05-02T19:53:05.117515400Z",
     "start_time": "2024-05-02T19:53:04.124320500Z"
    }
   },
   "id": "9f5b53ced90e4aed",
   "execution_count": 54
  },
  {
   "cell_type": "code",
   "outputs": [
    {
     "data": {
      "text/plain": "array([-14607.80853271+6.96331881e-13j, -12590.72492838+5.76412539e+03j,\n        -9403.10032555+1.02885917e+04j, ...,\n        -4406.07975846-1.32322243e+04j,  -9403.10032555-1.02885917e+04j,\n       -12590.72492838-5.76412539e+03j])"
     },
     "execution_count": 55,
     "metadata": {},
     "output_type": "execute_result"
    }
   ],
   "source": [
    "from scipy.fft import fft\n",
    "import numpy as np\n",
    "\n",
    "np.fft.fft(df['EMG - EMG100C'])"
   ],
   "metadata": {
    "collapsed": false,
    "ExecuteTime": {
     "end_time": "2024-05-02T19:53:06.620356Z",
     "start_time": "2024-05-02T19:53:05.122010900Z"
    }
   },
   "id": "3c38db254037c045",
   "execution_count": 55
  },
  {
   "cell_type": "code",
   "outputs": [],
   "source": [],
   "metadata": {
    "collapsed": false,
    "ExecuteTime": {
     "end_time": "2024-05-02T19:53:06.650173700Z",
     "start_time": "2024-05-02T19:53:06.620356Z"
    }
   },
   "id": "a801829ad1f2352b",
   "execution_count": 55
  }
 ],
 "metadata": {
  "kernelspec": {
   "display_name": "Python 3",
   "language": "python",
   "name": "python3"
  },
  "language_info": {
   "codemirror_mode": {
    "name": "ipython",
    "version": 2
   },
   "file_extension": ".py",
   "mimetype": "text/x-python",
   "name": "python",
   "nbconvert_exporter": "python",
   "pygments_lexer": "ipython2",
   "version": "2.7.6"
  }
 },
 "nbformat": 4,
 "nbformat_minor": 5
}
