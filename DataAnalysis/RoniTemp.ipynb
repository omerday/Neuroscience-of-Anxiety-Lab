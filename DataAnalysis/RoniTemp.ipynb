{
 "cells": [
  {
   "cell_type": "code",
   "outputs": [
    {
     "data": {
      "text/plain": "   EMG - EMG100C  C5 - Expression\n0       0.000000              0.0\n1      -0.006104              0.0\n2       0.005951              0.0\n3       0.013428              0.0\n4       0.005798              0.0",
      "text/html": "<div>\n<style scoped>\n    .dataframe tbody tr th:only-of-type {\n        vertical-align: middle;\n    }\n\n    .dataframe tbody tr th {\n        vertical-align: top;\n    }\n\n    .dataframe thead th {\n        text-align: right;\n    }\n</style>\n<table border=\"1\" class=\"dataframe\">\n  <thead>\n    <tr style=\"text-align: right;\">\n      <th></th>\n      <th>EMG - EMG100C</th>\n      <th>C5 - Expression</th>\n    </tr>\n  </thead>\n  <tbody>\n    <tr>\n      <th>0</th>\n      <td>0.000000</td>\n      <td>0.0</td>\n    </tr>\n    <tr>\n      <th>1</th>\n      <td>-0.006104</td>\n      <td>0.0</td>\n    </tr>\n    <tr>\n      <th>2</th>\n      <td>0.005951</td>\n      <td>0.0</td>\n    </tr>\n    <tr>\n      <th>3</th>\n      <td>0.013428</td>\n      <td>0.0</td>\n    </tr>\n    <tr>\n      <th>4</th>\n      <td>0.005798</td>\n      <td>0.0</td>\n    </tr>\n  </tbody>\n</table>\n</div>"
     },
     "execution_count": 60,
     "metadata": {},
     "output_type": "execute_result"
    }
   ],
   "source": [
    "import bioread\n",
    "import pandas as pd\n",
    "import argparse\n",
    "\n",
    "def main():\n",
    "    # Initialize the argument parser\n",
    "    parser = argparse.ArgumentParser(description='Process a .acq file and extract data.')\n",
    "    parser.add_argument('file_path', type=str, help='The path to the .acq file')\n",
    "\n",
    "    # Parse the command line arguments\n",
    "    args = parser.parse_args()\n",
    "\n",
    "    # Read the .acq file from the given path\n",
    "    acq_file = bioread.read_file(args.file_path)\n",
    "    channels_to_extract = ['EMG - EMG100C', 'C5 - Expression']\n",
    "    data = {}\n",
    "    \n",
    "    for channel_name in channels_to_extract:\n",
    "        channel = acq_file.named_channels[channel_name]\n",
    "        data[channel_name] = channel.data\n",
    "\n",
    "    # Convert the data to a pandas DataFrame\n",
    "    df = pd.DataFrame(data)\n",
    "    print(df.head())\n",
    "\n",
    "if __name__ == \"__main__\":\n",
    "    main()"
   ],
   "metadata": {
    "collapsed": false,
    "ExecuteTime": {
     "end_time": "2024-05-24T12:17:45.228532Z",
     "start_time": "2024-05-24T12:17:39.059594Z"
    }
   },
   "id": "54d4a8353e73e55b",
   "execution_count": 60
  },
  {
   "cell_type": "code",
   "outputs": [
    {
     "name": "stdout",
     "output_type": "stream",
     "text": [
      "         EMG - EMG100C  C5 - Expression  filtered_emg_signal\n",
      "0             0.000000              0.0            -0.000719\n",
      "1            -0.006104              0.0             0.001236\n",
      "2             0.005951              0.0             0.002995\n",
      "3             0.013428              0.0             0.004357\n",
      "4             0.005798              0.0             0.005128\n",
      "...                ...              ...                  ...\n",
      "6482662       0.004425              0.0            -0.002171\n",
      "6482663       0.002747              0.0            -0.002600\n",
      "6482664      -0.001984              0.0            -0.002178\n",
      "6482665      -0.001068              0.0            -0.001082\n",
      "6482666       0.001221              0.0             0.000379\n",
      "\n",
      "[6482667 rows x 3 columns]\n"
     ]
    }
   ],
   "source": [
    "from scipy.signal import butter, filtfilt\n",
    "\n",
    "\n",
    "# Extract the EMG signal values\n",
    "emg_signal = df['EMG - EMG100C'].values\n",
    "\n",
    "sampling_frequency = 2000\n",
    "\n",
    "def butter_bandpass(lowcut, highcut, fs, order=5):\n",
    "    nyq = 0.5 * fs\n",
    "    low = lowcut / nyq\n",
    "    high = highcut / nyq\n",
    "    b, a = butter(order, [low, high], btype='band')\n",
    "    return b, a\n",
    "\n",
    "def butter_bandpass_filter(data, lowcut, highcut, fs, order=5):\n",
    "    b, a = butter_bandpass(lowcut, highcut, fs, order=order)\n",
    "    y = filtfilt(b, a, data)\n",
    "    return y\n",
    "\n",
    "\n",
    "lowcut = 40.0  # Lower cutoff frequency (Hz)\n",
    "highcut = 200.0  # Upper cutoff frequency (Hz)\n",
    "order = 4  # Filter order\n",
    "filtered_emg_signal = butter_bandpass_filter(emg_signal, lowcut, highcut, sampling_frequency, order)\n",
    "\n",
    "df['filtered_emg_signal'] = filtered_emg_signal\n",
    "\n",
    "print(df)"
   ],
   "metadata": {
    "collapsed": false,
    "ExecuteTime": {
     "end_time": "2024-05-24T12:17:45.669801Z",
     "start_time": "2024-05-24T12:17:45.232519Z"
    }
   },
   "id": "51ca95bfded32602",
   "execution_count": 61
  },
  {
   "cell_type": "markdown",
   "source": [
    "downsample to 1 of 2"
   ],
   "metadata": {
    "collapsed": false
   },
   "id": "5a3153b01a7e7742"
  },
  {
   "cell_type": "code",
   "outputs": [],
   "source": [
    "df = df.iloc[::2]\n",
    "df = df.dropna()\n",
    "df = df.reset_index(drop=True)"
   ],
   "metadata": {
    "collapsed": false,
    "ExecuteTime": {
     "end_time": "2024-05-24T12:17:46.125707Z",
     "start_time": "2024-05-24T12:17:45.671539Z"
    }
   },
   "id": "2ac2db9e1ff35ccd",
   "execution_count": 62
  },
  {
   "cell_type": "markdown",
   "source": [
    "Deleting all the rows with non-zero number in the column 'C5 - Expression' except the last line in each sequence."
   ],
   "metadata": {
    "collapsed": false
   },
   "id": "74c16f41cb9aac89"
  },
  {
   "cell_type": "code",
   "outputs": [],
   "source": [
    "\n",
    "non_zero_indices = df.index[df['C5 - Expression'] != 0]\n",
    "index_rows_to_change = []\n",
    "for i in range(len(non_zero_indices)-1):\n",
    "    if non_zero_indices[i+1] == non_zero_indices[i]+1:\n",
    "        index_rows_to_change.append(non_zero_indices[i])\n",
    "for index in index_rows_to_change:\n",
    "    df.loc[index, 'C5 - Expression'] = 0\n",
    "\n"
   ],
   "metadata": {
    "collapsed": false,
    "ExecuteTime": {
     "end_time": "2024-05-24T12:17:47.101771Z",
     "start_time": "2024-05-24T12:17:46.134988Z"
    }
   },
   "id": "9f5b53ced90e4aed",
   "execution_count": 63
  },
  {
   "cell_type": "code",
   "outputs": [],
   "source": [
    "from matplotlib import MatplotlibDeprecationWarning\n",
    "import matplotlib.pyplot as plt\n",
    "import matplotlib.cm as cm\n",
    "import warnings\n",
    "from matplotlib.backends.backend_pdf import PdfPages\n",
    "import webbrowser\n",
    "import os\n",
    "\n",
    "# Ignore a warning that related to the colors and the version of the package\n",
    "warnings.filterwarnings(\"ignore\", category=MatplotlibDeprecationWarning)\n",
    "\n",
    "graph_array = [[21, 31, 121, 131, 221, 231], ['Neutral with cue', 'Neutral with no cue', 'Predicted with cue', 'Predicted with no cue', 'Unpredicted with cue', 'Unpredicted with no que']]\n",
    "with PdfPages('EMG_analysis.pdf') as pdf:\n",
    "    for j in range(6):\n",
    "        # Filter the indices 100 before and 200 after the lines with graph_array[0][j] in the column 'C5 - Expression'\n",
    "        indices = df[df['C5 - Expression'] == graph_array[0][j]].index\n",
    "        num_events = len(indices)\n",
    "        \n",
    "        filtered_indices = []\n",
    "        for index in indices:\n",
    "            filtered_indices.extend(range(max(0, index-100), min(len(df), index+1000)))\n",
    "        \n",
    "        # Copy only with the relevant lines\n",
    "        filtered_df = df.iloc[filtered_indices].copy()\n",
    "        # Add column with line number and column with the event number\n",
    "        filtered_df.reset_index(inplace=True)\n",
    "        filtered_df.insert(4, 'Line Number', filtered_df.index)\n",
    "        filtered_df['Event Number'] = (filtered_df['Line Number'] // 300)\n",
    "        filtered_df['Line Number'] = filtered_df['Line Number'] % 300\n",
    "\n",
    "    \n",
    "        unique_event_numbers = filtered_df['Event Number'].unique()\n",
    "        \n",
    "        # Create a color map for differentiating lines by event number\n",
    "        color_map = cm.get_cmap('tab10', len(unique_event_numbers))\n",
    "    \n",
    "        # Plot all lines on the same graph, grouped by event number\n",
    "        plt.figure(figsize=(30, 10))\n",
    "        \n",
    "        for i, event_number in enumerate(unique_event_numbers):\n",
    "            # Filter the DataFrame for rows with the current event number\n",
    "            event_df = filtered_df[filtered_df['Event Number'] == event_number]\n",
    "            \n",
    "            # Plot the data for the current event number with a unique color\n",
    "            # fig = px.line(df, x='Line Number', y='filtered_emg_signal', color=color_map(i))\n",
    "            plt.plot(event_df['Line Number'], event_df['filtered_emg_signal'], color=color_map(i), label=f'Event {event_number}')\n",
    "            \n",
    "    \n",
    "        plt.axvline(x=100, color='black', linestyle='--')\n",
    "        # Set labels and title\n",
    "        plt.xlabel('Line Number')\n",
    "        plt.ylabel('filtered_emg_signal')\n",
    "        plt.title(graph_array[1][j])\n",
    "        plt.grid(True)\n",
    "        plt.legend(title='Event Number')\n",
    "        pdf.savefig()\n",
    "        plt.close()\n",
    "        \n",
    "pdf_path = os.path.abspath('EMG_analysis.pdf')\n",
    "\n",
    "# Check if the file exists and print the path\n",
    "if os.path.exists(pdf_path):\n",
    "    print(f\"PDF file saved at: {pdf_path}\")\n",
    "else:\n",
    "    print(\"Failed to create PDF file.\")\n",
    "        \n",
    " "
   ],
   "metadata": {
    "collapsed": false,
    "ExecuteTime": {
     "end_time": "2024-05-24T12:17:52.514902Z",
     "start_time": "2024-05-24T12:17:47.103908Z"
    }
   },
   "id": "3c38db254037c045",
   "execution_count": 64
  }
 ],
 "metadata": {
  "kernelspec": {
   "display_name": "Python 3",
   "language": "python",
   "name": "python3"
  },
  "language_info": {
   "codemirror_mode": {
    "name": "ipython",
    "version": 2
   },
   "file_extension": ".py",
   "mimetype": "text/x-python",
   "name": "python",
   "nbconvert_exporter": "python",
   "pygments_lexer": "ipython2",
   "version": "2.7.6"
  }
 },
 "nbformat": 4,
 "nbformat_minor": 5
}
