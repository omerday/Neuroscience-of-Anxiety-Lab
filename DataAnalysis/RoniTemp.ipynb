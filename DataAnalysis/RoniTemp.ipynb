{
 "cells": [
  {
   "cell_type": "code",
   "outputs": [
    {
     "data": {
      "text/plain": "   EMG - EMG100C  C5 - Expression\n0      -0.962982              0.0\n1      -1.053619              0.0\n2      -1.119690              0.0\n3      -1.137238              0.0\n4      -1.086121              0.0",
      "text/html": "<div>\n<style scoped>\n    .dataframe tbody tr th:only-of-type {\n        vertical-align: middle;\n    }\n\n    .dataframe tbody tr th {\n        vertical-align: top;\n    }\n\n    .dataframe thead th {\n        text-align: right;\n    }\n</style>\n<table border=\"1\" class=\"dataframe\">\n  <thead>\n    <tr style=\"text-align: right;\">\n      <th></th>\n      <th>EMG - EMG100C</th>\n      <th>C5 - Expression</th>\n    </tr>\n  </thead>\n  <tbody>\n    <tr>\n      <th>0</th>\n      <td>-0.962982</td>\n      <td>0.0</td>\n    </tr>\n    <tr>\n      <th>1</th>\n      <td>-1.053619</td>\n      <td>0.0</td>\n    </tr>\n    <tr>\n      <th>2</th>\n      <td>-1.119690</td>\n      <td>0.0</td>\n    </tr>\n    <tr>\n      <th>3</th>\n      <td>-1.137238</td>\n      <td>0.0</td>\n    </tr>\n    <tr>\n      <th>4</th>\n      <td>-1.086121</td>\n      <td>0.0</td>\n    </tr>\n  </tbody>\n</table>\n</div>"
     },
     "execution_count": 10,
     "metadata": {},
     "output_type": "execute_result"
    }
   ],
   "source": [
    "import bioread\n",
    "import pandas as pd\n",
    "acq_file = bioread.read_file(r'C:\\Users\\USER\\Desktop\\TIM_115_1.2.24.acq')\n",
    "channels_to_extract = ['EMG - EMG100C', 'C5 - Expression' ]\n",
    "data = {}\n",
    "for channel_name in channels_to_extract:\n",
    "    channel = acq_file.named_channels[channel_name]\n",
    "    data[channel_name] = channel.data\n",
    "\n",
    "df = pd.DataFrame(data)\n",
    "df.head()"
   ],
   "metadata": {
    "collapsed": false,
    "ExecuteTime": {
     "end_time": "2024-04-09T13:29:54.896310200Z",
     "start_time": "2024-04-09T13:29:49.096454700Z"
    }
   },
   "id": "54d4a8353e73e55b",
   "execution_count": 10
  },
  {
   "cell_type": "code",
   "outputs": [],
   "source": [],
   "metadata": {
    "collapsed": false,
    "ExecuteTime": {
     "end_time": "2024-04-09T13:16:13.933041900Z",
     "start_time": "2024-04-09T13:16:13.912701700Z"
    }
   },
   "id": "9f5b53ced90e4aed",
   "execution_count": 8
  }
 ],
 "metadata": {
  "kernelspec": {
   "display_name": "Python 3",
   "language": "python",
   "name": "python3"
  },
  "language_info": {
   "codemirror_mode": {
    "name": "ipython",
    "version": 2
   },
   "file_extension": ".py",
   "mimetype": "text/x-python",
   "name": "python",
   "nbconvert_exporter": "python",
   "pygments_lexer": "ipython2",
   "version": "2.7.6"
  }
 },
 "nbformat": 4,
 "nbformat_minor": 5
}
