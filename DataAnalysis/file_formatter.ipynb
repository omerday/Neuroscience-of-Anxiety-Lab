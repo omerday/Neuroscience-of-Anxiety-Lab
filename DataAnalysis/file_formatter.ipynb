{
 "cells": [
  {
   "cell_type": "code",
   "execution_count": 2,
   "id": "de6a7f2c",
   "metadata": {},
   "outputs": [],
   "source": "import pandas as pd"
  },
  {
   "cell_type": "code",
   "execution_count": 16,
   "id": "1a3df952",
   "metadata": {},
   "outputs": [],
   "source": [
    "def reformat_file(src_path, dst_path):\n",
    "    df_src = pd.read_csv(src_path)\n",
    "    df_dst = pd.DataFrame()\n",
    "\n",
    "    # Maybe subject to more processing\n",
    "    df_dst[\"Section\"] = df_src[\"section\"]\n",
    "\n",
    "    # Deal with subtrial\n",
    "\n",
    "    df_dst[\"Reward_magnitude\"] = df_src[\"door(r)\"]\n",
    "    df_dst[\"Punishment_magnitude\"] = df_src[\"door(p)\"]\n",
    "\n",
    "    # Deal with DistanceFromDoor_SubTrial\n",
    "\n",
    "    df_dst[\"Distance_min\"] = df_src[\"distance_min\"]\n",
    "    df_dst[\"Distance_max\"] = df_src[\"distance_max\"]\n",
    "\n",
    "    # Deal with dooraction\n",
    "\n",
    "    df_dst[\"Door_opened\"] = df_src[\"award type\"].apply(lambda x: 1 if x != \"door not opened\" else 0)\n",
    "    df_dst[\"Door_Status\"] = df_dst[\"Door_opened\"].apply(lambda x: \"opened\" if x else \"closed\")\n",
    "    df_dst[\"Door_outcome\"] = df_src[\"award type\"].apply(lambda x: x if x != \"door not opened\" else None)\n",
    "\n",
    "    def did_win_creator(x):\n",
    "        if x == \"reward\":\n",
    "            return 1\n",
    "        elif x == \"punishment\":\n",
    "            return 0\n",
    "        return None\n",
    "    \n",
    "    df_dst[\"DidWin\"] = df_src[\"award type\"].apply(did_win_creator)\n",
    "\n",
    "    df_dst[\"Total_coins\"] = df_src[\"total_coins\"]\n",
    "\n",
    "    # Handle VAS\n",
    "\n",
    "    df_dst.to_csv(dst_path)\n",
    "\n"
   ]
  },
  {
   "cell_type": "code",
   "execution_count": null,
   "id": "fc83ebf7",
   "metadata": {},
   "outputs": [],
   "source": [
    "\"\"\"\n",
    "section -> Section\n",
    "X -> Subtrial\n",
    "door(r) -> Reward_magnitude\n",
    "door(p) -> Punishment_magnitude\n",
    "X -> DistanceFromDoor_SubTrial\n",
    "distance_min -> Distance_min\n",
    "distance_max -> Distance_max\n",
    "X -> dooraction\n",
    "award type!=\"door not opened\" -> Door_opened\n",
    "award type!=\"door not opened\" -> DoorStatus\n",
    "award type -> Door_outcome+DidWin\n",
    "total_coins -> Total_coins\n",
    "displayed -> VASQuestionNumber+VAS_type\n",
    "X -> VAS_score\n",
    "vas_response -> VAS_RT\n",
    "\"\"\""
   ]
  },
  {
   "cell_type": "code",
   "execution_count": 3,
   "id": "cabf7e9e",
   "metadata": {},
   "outputs": [],
   "source": [
    "df_doors = pd.read_csv(r\"Doors 159 Session 1 - summary - 2024-02-16 12-54 (2).csv\")"
   ]
  },
  {
   "cell_type": "code",
   "execution_count": 18,
   "id": "c2d3e229",
   "metadata": {},
   "outputs": [],
   "source": [
    "reformat_file(r\"PARTICIPANT_door_2023-10-11_20h25.23.421 (1).csv\", r\"REFORMAT.csv\")"
   ]
  }
 ],
 "metadata": {
  "kernelspec": {
   "display_name": "Python 3",
   "language": "python",
   "name": "python3"
  },
  "language_info": {
   "codemirror_mode": {
    "name": "ipython",
    "version": 3
   },
   "file_extension": ".py",
   "mimetype": "text/x-python",
   "name": "python",
   "nbconvert_exporter": "python",
   "pygments_lexer": "ipython3",
   "version": "3.12.1"
  }
 },
 "nbformat": 4,
 "nbformat_minor": 5
}
